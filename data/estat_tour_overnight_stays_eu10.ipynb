{
 "cells": [
  {
   "cell_type": "code",
   "execution_count": 1,
   "id": "e4a71d9e",
   "metadata": {},
   "outputs": [
    {
     "name": "stdout",
     "output_type": "stream",
     "text": [
      "URL PATH match.\n"
     ]
    },
    {
     "data": {
      "application/vnd.microsoft.datawrangler.viewer.v0+json": {
       "columns": [
        {
         "name": "index",
         "rawType": "int64",
         "type": "integer"
        },
        {
         "name": "Zeitliche_Frequenz_Idx",
         "rawType": "object",
         "type": "string"
        },
        {
         "name": "Zeitliche_Frequenz",
         "rawType": "object",
         "type": "string"
        },
        {
         "name": "Aufenthaltsland_Idx",
         "rawType": "object",
         "type": "string"
        },
        {
         "name": "Aufenthaltsland",
         "rawType": "object",
         "type": "string"
        },
        {
         "name": "Maßeinheit_Idx",
         "rawType": "object",
         "type": "string"
        },
        {
         "name": "Maßeinheit",
         "rawType": "object",
         "type": "string"
        },
        {
         "name": "NACEr2_Idx",
         "rawType": "object",
         "type": "string"
        },
        {
         "name": "NACEr2",
         "rawType": "object",
         "type": "string"
        },
        {
         "name": "Geopolitische_Meldeeinheit_Idx",
         "rawType": "object",
         "type": "string"
        },
        {
         "name": "Geopolitische_Meldeeinheit",
         "rawType": "object",
         "type": "string"
        },
        {
         "name": "JahrMonat",
         "rawType": "object",
         "type": "string"
        },
        {
         "name": "value",
         "rawType": "float64",
         "type": "float"
        }
       ],
       "ref": "a9ddb61d-1d20-4efc-bc8e-ac11622c2bab",
       "rows": [
        [
         "0",
         "M",
         "Monatlich",
         "DOM",
         "Inland",
         "NR",
         "Anzahl",
         "I551",
         "Hotels, Gasthöfe und Pensionen",
         "DE",
         "Deutschland",
         "2012-01",
         "11022604.0"
        ],
        [
         "1",
         "M",
         "Monatlich",
         "DOM",
         "Inland",
         "NR",
         "Anzahl",
         "I551",
         "Hotels, Gasthöfe und Pensionen",
         "DE",
         "Deutschland",
         "2012-02",
         "11916641.0"
        ],
        [
         "2",
         "M",
         "Monatlich",
         "DOM",
         "Inland",
         "NR",
         "Anzahl",
         "I551",
         "Hotels, Gasthöfe und Pensionen",
         "DE",
         "Deutschland",
         "2012-03",
         "14018007.0"
        ],
        [
         "3",
         "M",
         "Monatlich",
         "DOM",
         "Inland",
         "NR",
         "Anzahl",
         "I551",
         "Hotels, Gasthöfe und Pensionen",
         "DE",
         "Deutschland",
         "2012-04",
         "15472920.0"
        ],
        [
         "4",
         "M",
         "Monatlich",
         "DOM",
         "Inland",
         "NR",
         "Anzahl",
         "I551",
         "Hotels, Gasthöfe und Pensionen",
         "DE",
         "Deutschland",
         "2012-05",
         "18319333.0"
        ],
        [
         "5",
         "M",
         "Monatlich",
         "DOM",
         "Inland",
         "NR",
         "Anzahl",
         "I551",
         "Hotels, Gasthöfe und Pensionen",
         "DE",
         "Deutschland",
         "2012-06",
         "18486480.0"
        ],
        [
         "6",
         "M",
         "Monatlich",
         "DOM",
         "Inland",
         "NR",
         "Anzahl",
         "I551",
         "Hotels, Gasthöfe und Pensionen",
         "DE",
         "Deutschland",
         "2012-07",
         "19202249.0"
        ],
        [
         "7",
         "M",
         "Monatlich",
         "DOM",
         "Inland",
         "NR",
         "Anzahl",
         "I551",
         "Hotels, Gasthöfe und Pensionen",
         "DE",
         "Deutschland",
         "2012-08",
         "20631875.0"
        ],
        [
         "8",
         "M",
         "Monatlich",
         "DOM",
         "Inland",
         "NR",
         "Anzahl",
         "I551",
         "Hotels, Gasthöfe und Pensionen",
         "DE",
         "Deutschland",
         "2012-09",
         "20677647.0"
        ],
        [
         "9",
         "M",
         "Monatlich",
         "DOM",
         "Inland",
         "NR",
         "Anzahl",
         "I551",
         "Hotels, Gasthöfe und Pensionen",
         "DE",
         "Deutschland",
         "2012-10",
         "18473660.0"
        ],
        [
         "10",
         "M",
         "Monatlich",
         "DOM",
         "Inland",
         "NR",
         "Anzahl",
         "I551",
         "Hotels, Gasthöfe und Pensionen",
         "DE",
         "Deutschland",
         "2012-11",
         "13687385.0"
        ],
        [
         "11",
         "M",
         "Monatlich",
         "DOM",
         "Inland",
         "NR",
         "Anzahl",
         "I551",
         "Hotels, Gasthöfe und Pensionen",
         "DE",
         "Deutschland",
         "2012-12",
         "13048683.0"
        ],
        [
         "12",
         "M",
         "Monatlich",
         "DOM",
         "Inland",
         "NR",
         "Anzahl",
         "I551",
         "Hotels, Gasthöfe und Pensionen",
         "DE",
         "Deutschland",
         "2013-01",
         "11115403.0"
        ],
        [
         "13",
         "M",
         "Monatlich",
         "DOM",
         "Inland",
         "NR",
         "Anzahl",
         "I551",
         "Hotels, Gasthöfe und Pensionen",
         "DE",
         "Deutschland",
         "2013-02",
         "11879065.0"
        ],
        [
         "14",
         "M",
         "Monatlich",
         "DOM",
         "Inland",
         "NR",
         "Anzahl",
         "I551",
         "Hotels, Gasthöfe und Pensionen",
         "DE",
         "Deutschland",
         "2013-03",
         "14435053.0"
        ],
        [
         "15",
         "M",
         "Monatlich",
         "DOM",
         "Inland",
         "NR",
         "Anzahl",
         "I551",
         "Hotels, Gasthöfe und Pensionen",
         "DE",
         "Deutschland",
         "2013-04",
         "14772131.0"
        ],
        [
         "16",
         "M",
         "Monatlich",
         "DOM",
         "Inland",
         "NR",
         "Anzahl",
         "I551",
         "Hotels, Gasthöfe und Pensionen",
         "DE",
         "Deutschland",
         "2013-05",
         "18641212.0"
        ],
        [
         "17",
         "M",
         "Monatlich",
         "DOM",
         "Inland",
         "NR",
         "Anzahl",
         "I551",
         "Hotels, Gasthöfe und Pensionen",
         "DE",
         "Deutschland",
         "2013-06",
         "18452404.0"
        ],
        [
         "18",
         "M",
         "Monatlich",
         "DOM",
         "Inland",
         "NR",
         "Anzahl",
         "I551",
         "Hotels, Gasthöfe und Pensionen",
         "DE",
         "Deutschland",
         "2013-07",
         "19788757.0"
        ],
        [
         "19",
         "M",
         "Monatlich",
         "DOM",
         "Inland",
         "NR",
         "Anzahl",
         "I551",
         "Hotels, Gasthöfe und Pensionen",
         "DE",
         "Deutschland",
         "2013-08",
         "21156478.0"
        ],
        [
         "20",
         "M",
         "Monatlich",
         "DOM",
         "Inland",
         "NR",
         "Anzahl",
         "I551",
         "Hotels, Gasthöfe und Pensionen",
         "DE",
         "Deutschland",
         "2013-09",
         "20286746.0"
        ],
        [
         "21",
         "M",
         "Monatlich",
         "DOM",
         "Inland",
         "NR",
         "Anzahl",
         "I551",
         "Hotels, Gasthöfe und Pensionen",
         "DE",
         "Deutschland",
         "2013-10",
         "19138829.0"
        ],
        [
         "22",
         "M",
         "Monatlich",
         "DOM",
         "Inland",
         "NR",
         "Anzahl",
         "I551",
         "Hotels, Gasthöfe und Pensionen",
         "DE",
         "Deutschland",
         "2013-11",
         "14074469.0"
        ],
        [
         "23",
         "M",
         "Monatlich",
         "DOM",
         "Inland",
         "NR",
         "Anzahl",
         "I551",
         "Hotels, Gasthöfe und Pensionen",
         "DE",
         "Deutschland",
         "2013-12",
         "13127938.0"
        ],
        [
         "24",
         "M",
         "Monatlich",
         "DOM",
         "Inland",
         "NR",
         "Anzahl",
         "I551",
         "Hotels, Gasthöfe und Pensionen",
         "DE",
         "Deutschland",
         "2014-01",
         "11248641.0"
        ],
        [
         "25",
         "M",
         "Monatlich",
         "DOM",
         "Inland",
         "NR",
         "Anzahl",
         "I551",
         "Hotels, Gasthöfe und Pensionen",
         "DE",
         "Deutschland",
         "2014-02",
         "11942593.0"
        ],
        [
         "26",
         "M",
         "Monatlich",
         "DOM",
         "Inland",
         "NR",
         "Anzahl",
         "I551",
         "Hotels, Gasthöfe und Pensionen",
         "DE",
         "Deutschland",
         "2014-03",
         "14386635.0"
        ],
        [
         "27",
         "M",
         "Monatlich",
         "DOM",
         "Inland",
         "NR",
         "Anzahl",
         "I551",
         "Hotels, Gasthöfe und Pensionen",
         "DE",
         "Deutschland",
         "2014-04",
         "15631416.0"
        ],
        [
         "28",
         "M",
         "Monatlich",
         "DOM",
         "Inland",
         "NR",
         "Anzahl",
         "I551",
         "Hotels, Gasthöfe und Pensionen",
         "DE",
         "Deutschland",
         "2014-05",
         "19281358.0"
        ],
        [
         "29",
         "M",
         "Monatlich",
         "DOM",
         "Inland",
         "NR",
         "Anzahl",
         "I551",
         "Hotels, Gasthöfe und Pensionen",
         "DE",
         "Deutschland",
         "2014-06",
         "19038903.0"
        ],
        [
         "30",
         "M",
         "Monatlich",
         "DOM",
         "Inland",
         "NR",
         "Anzahl",
         "I551",
         "Hotels, Gasthöfe und Pensionen",
         "DE",
         "Deutschland",
         "2014-07",
         "19574882.0"
        ],
        [
         "31",
         "M",
         "Monatlich",
         "DOM",
         "Inland",
         "NR",
         "Anzahl",
         "I551",
         "Hotels, Gasthöfe und Pensionen",
         "DE",
         "Deutschland",
         "2014-08",
         "21892529.0"
        ],
        [
         "32",
         "M",
         "Monatlich",
         "DOM",
         "Inland",
         "NR",
         "Anzahl",
         "I551",
         "Hotels, Gasthöfe und Pensionen",
         "DE",
         "Deutschland",
         "2014-09",
         "20827544.0"
        ],
        [
         "33",
         "M",
         "Monatlich",
         "DOM",
         "Inland",
         "NR",
         "Anzahl",
         "I551",
         "Hotels, Gasthöfe und Pensionen",
         "DE",
         "Deutschland",
         "2014-10",
         "19988421.0"
        ],
        [
         "34",
         "M",
         "Monatlich",
         "DOM",
         "Inland",
         "NR",
         "Anzahl",
         "I551",
         "Hotels, Gasthöfe und Pensionen",
         "DE",
         "Deutschland",
         "2014-11",
         "14527945.0"
        ],
        [
         "35",
         "M",
         "Monatlich",
         "DOM",
         "Inland",
         "NR",
         "Anzahl",
         "I551",
         "Hotels, Gasthöfe und Pensionen",
         "DE",
         "Deutschland",
         "2014-12",
         "13797418.0"
        ],
        [
         "36",
         "M",
         "Monatlich",
         "DOM",
         "Inland",
         "NR",
         "Anzahl",
         "I551",
         "Hotels, Gasthöfe und Pensionen",
         "DE",
         "Deutschland",
         "2015-01",
         "11556578.0"
        ],
        [
         "37",
         "M",
         "Monatlich",
         "DOM",
         "Inland",
         "NR",
         "Anzahl",
         "I551",
         "Hotels, Gasthöfe und Pensionen",
         "DE",
         "Deutschland",
         "2015-02",
         "12661791.0"
        ],
        [
         "38",
         "M",
         "Monatlich",
         "DOM",
         "Inland",
         "NR",
         "Anzahl",
         "I551",
         "Hotels, Gasthöfe und Pensionen",
         "DE",
         "Deutschland",
         "2015-03",
         "14900948.0"
        ],
        [
         "39",
         "M",
         "Monatlich",
         "DOM",
         "Inland",
         "NR",
         "Anzahl",
         "I551",
         "Hotels, Gasthöfe und Pensionen",
         "DE",
         "Deutschland",
         "2015-04",
         "15964041.0"
        ],
        [
         "40",
         "M",
         "Monatlich",
         "DOM",
         "Inland",
         "NR",
         "Anzahl",
         "I551",
         "Hotels, Gasthöfe und Pensionen",
         "DE",
         "Deutschland",
         "2015-05",
         "19746072.0"
        ],
        [
         "41",
         "M",
         "Monatlich",
         "DOM",
         "Inland",
         "NR",
         "Anzahl",
         "I551",
         "Hotels, Gasthöfe und Pensionen",
         "DE",
         "Deutschland",
         "2015-06",
         "19781740.0"
        ],
        [
         "42",
         "M",
         "Monatlich",
         "DOM",
         "Inland",
         "NR",
         "Anzahl",
         "I551",
         "Hotels, Gasthöfe und Pensionen",
         "DE",
         "Deutschland",
         "2015-07",
         "20464287.0"
        ],
        [
         "43",
         "M",
         "Monatlich",
         "DOM",
         "Inland",
         "NR",
         "Anzahl",
         "I551",
         "Hotels, Gasthöfe und Pensionen",
         "DE",
         "Deutschland",
         "2015-08",
         "22110010.0"
        ],
        [
         "44",
         "M",
         "Monatlich",
         "DOM",
         "Inland",
         "NR",
         "Anzahl",
         "I551",
         "Hotels, Gasthöfe und Pensionen",
         "DE",
         "Deutschland",
         "2015-09",
         "21225480.0"
        ],
        [
         "45",
         "M",
         "Monatlich",
         "DOM",
         "Inland",
         "NR",
         "Anzahl",
         "I551",
         "Hotels, Gasthöfe und Pensionen",
         "DE",
         "Deutschland",
         "2015-10",
         "20110010.0"
        ],
        [
         "46",
         "M",
         "Monatlich",
         "DOM",
         "Inland",
         "NR",
         "Anzahl",
         "I551",
         "Hotels, Gasthöfe und Pensionen",
         "DE",
         "Deutschland",
         "2015-11",
         "15011587.0"
        ],
        [
         "47",
         "M",
         "Monatlich",
         "DOM",
         "Inland",
         "NR",
         "Anzahl",
         "I551",
         "Hotels, Gasthöfe und Pensionen",
         "DE",
         "Deutschland",
         "2015-12",
         "14080853.0"
        ],
        [
         "48",
         "M",
         "Monatlich",
         "DOM",
         "Inland",
         "NR",
         "Anzahl",
         "I551",
         "Hotels, Gasthöfe und Pensionen",
         "DE",
         "Deutschland",
         "2016-01",
         "11974553.0"
        ],
        [
         "49",
         "M",
         "Monatlich",
         "DOM",
         "Inland",
         "NR",
         "Anzahl",
         "I551",
         "Hotels, Gasthöfe und Pensionen",
         "DE",
         "Deutschland",
         "2016-02",
         "13348057.0"
        ]
       ],
       "shape": {
        "columns": 12,
        "rows": 50
       }
      },
      "text/html": [
       "<div>\n",
       "<style scoped>\n",
       "    .dataframe tbody tr th:only-of-type {\n",
       "        vertical-align: middle;\n",
       "    }\n",
       "\n",
       "    .dataframe tbody tr th {\n",
       "        vertical-align: top;\n",
       "    }\n",
       "\n",
       "    .dataframe thead th {\n",
       "        text-align: right;\n",
       "    }\n",
       "</style>\n",
       "<table border=\"1\" class=\"dataframe\">\n",
       "  <thead>\n",
       "    <tr style=\"text-align: right;\">\n",
       "      <th></th>\n",
       "      <th>Zeitliche_Frequenz_Idx</th>\n",
       "      <th>Zeitliche_Frequenz</th>\n",
       "      <th>Aufenthaltsland_Idx</th>\n",
       "      <th>Aufenthaltsland</th>\n",
       "      <th>Maßeinheit_Idx</th>\n",
       "      <th>Maßeinheit</th>\n",
       "      <th>NACEr2_Idx</th>\n",
       "      <th>NACEr2</th>\n",
       "      <th>Geopolitische_Meldeeinheit_Idx</th>\n",
       "      <th>Geopolitische_Meldeeinheit</th>\n",
       "      <th>JahrMonat</th>\n",
       "      <th>value</th>\n",
       "    </tr>\n",
       "  </thead>\n",
       "  <tbody>\n",
       "    <tr>\n",
       "      <th>0</th>\n",
       "      <td>M</td>\n",
       "      <td>Monatlich</td>\n",
       "      <td>DOM</td>\n",
       "      <td>Inland</td>\n",
       "      <td>NR</td>\n",
       "      <td>Anzahl</td>\n",
       "      <td>I551</td>\n",
       "      <td>Hotels, Gasthöfe und Pensionen</td>\n",
       "      <td>DE</td>\n",
       "      <td>Deutschland</td>\n",
       "      <td>2012-01</td>\n",
       "      <td>11022604.0</td>\n",
       "    </tr>\n",
       "    <tr>\n",
       "      <th>1</th>\n",
       "      <td>M</td>\n",
       "      <td>Monatlich</td>\n",
       "      <td>DOM</td>\n",
       "      <td>Inland</td>\n",
       "      <td>NR</td>\n",
       "      <td>Anzahl</td>\n",
       "      <td>I551</td>\n",
       "      <td>Hotels, Gasthöfe und Pensionen</td>\n",
       "      <td>DE</td>\n",
       "      <td>Deutschland</td>\n",
       "      <td>2012-02</td>\n",
       "      <td>11916641.0</td>\n",
       "    </tr>\n",
       "    <tr>\n",
       "      <th>2</th>\n",
       "      <td>M</td>\n",
       "      <td>Monatlich</td>\n",
       "      <td>DOM</td>\n",
       "      <td>Inland</td>\n",
       "      <td>NR</td>\n",
       "      <td>Anzahl</td>\n",
       "      <td>I551</td>\n",
       "      <td>Hotels, Gasthöfe und Pensionen</td>\n",
       "      <td>DE</td>\n",
       "      <td>Deutschland</td>\n",
       "      <td>2012-03</td>\n",
       "      <td>14018007.0</td>\n",
       "    </tr>\n",
       "    <tr>\n",
       "      <th>3</th>\n",
       "      <td>M</td>\n",
       "      <td>Monatlich</td>\n",
       "      <td>DOM</td>\n",
       "      <td>Inland</td>\n",
       "      <td>NR</td>\n",
       "      <td>Anzahl</td>\n",
       "      <td>I551</td>\n",
       "      <td>Hotels, Gasthöfe und Pensionen</td>\n",
       "      <td>DE</td>\n",
       "      <td>Deutschland</td>\n",
       "      <td>2012-04</td>\n",
       "      <td>15472920.0</td>\n",
       "    </tr>\n",
       "    <tr>\n",
       "      <th>4</th>\n",
       "      <td>M</td>\n",
       "      <td>Monatlich</td>\n",
       "      <td>DOM</td>\n",
       "      <td>Inland</td>\n",
       "      <td>NR</td>\n",
       "      <td>Anzahl</td>\n",
       "      <td>I551</td>\n",
       "      <td>Hotels, Gasthöfe und Pensionen</td>\n",
       "      <td>DE</td>\n",
       "      <td>Deutschland</td>\n",
       "      <td>2012-05</td>\n",
       "      <td>18319333.0</td>\n",
       "    </tr>\n",
       "    <tr>\n",
       "      <th>5</th>\n",
       "      <td>M</td>\n",
       "      <td>Monatlich</td>\n",
       "      <td>DOM</td>\n",
       "      <td>Inland</td>\n",
       "      <td>NR</td>\n",
       "      <td>Anzahl</td>\n",
       "      <td>I551</td>\n",
       "      <td>Hotels, Gasthöfe und Pensionen</td>\n",
       "      <td>DE</td>\n",
       "      <td>Deutschland</td>\n",
       "      <td>2012-06</td>\n",
       "      <td>18486480.0</td>\n",
       "    </tr>\n",
       "    <tr>\n",
       "      <th>6</th>\n",
       "      <td>M</td>\n",
       "      <td>Monatlich</td>\n",
       "      <td>DOM</td>\n",
       "      <td>Inland</td>\n",
       "      <td>NR</td>\n",
       "      <td>Anzahl</td>\n",
       "      <td>I551</td>\n",
       "      <td>Hotels, Gasthöfe und Pensionen</td>\n",
       "      <td>DE</td>\n",
       "      <td>Deutschland</td>\n",
       "      <td>2012-07</td>\n",
       "      <td>19202249.0</td>\n",
       "    </tr>\n",
       "    <tr>\n",
       "      <th>7</th>\n",
       "      <td>M</td>\n",
       "      <td>Monatlich</td>\n",
       "      <td>DOM</td>\n",
       "      <td>Inland</td>\n",
       "      <td>NR</td>\n",
       "      <td>Anzahl</td>\n",
       "      <td>I551</td>\n",
       "      <td>Hotels, Gasthöfe und Pensionen</td>\n",
       "      <td>DE</td>\n",
       "      <td>Deutschland</td>\n",
       "      <td>2012-08</td>\n",
       "      <td>20631875.0</td>\n",
       "    </tr>\n",
       "    <tr>\n",
       "      <th>8</th>\n",
       "      <td>M</td>\n",
       "      <td>Monatlich</td>\n",
       "      <td>DOM</td>\n",
       "      <td>Inland</td>\n",
       "      <td>NR</td>\n",
       "      <td>Anzahl</td>\n",
       "      <td>I551</td>\n",
       "      <td>Hotels, Gasthöfe und Pensionen</td>\n",
       "      <td>DE</td>\n",
       "      <td>Deutschland</td>\n",
       "      <td>2012-09</td>\n",
       "      <td>20677647.0</td>\n",
       "    </tr>\n",
       "    <tr>\n",
       "      <th>9</th>\n",
       "      <td>M</td>\n",
       "      <td>Monatlich</td>\n",
       "      <td>DOM</td>\n",
       "      <td>Inland</td>\n",
       "      <td>NR</td>\n",
       "      <td>Anzahl</td>\n",
       "      <td>I551</td>\n",
       "      <td>Hotels, Gasthöfe und Pensionen</td>\n",
       "      <td>DE</td>\n",
       "      <td>Deutschland</td>\n",
       "      <td>2012-10</td>\n",
       "      <td>18473660.0</td>\n",
       "    </tr>\n",
       "    <tr>\n",
       "      <th>10</th>\n",
       "      <td>M</td>\n",
       "      <td>Monatlich</td>\n",
       "      <td>DOM</td>\n",
       "      <td>Inland</td>\n",
       "      <td>NR</td>\n",
       "      <td>Anzahl</td>\n",
       "      <td>I551</td>\n",
       "      <td>Hotels, Gasthöfe und Pensionen</td>\n",
       "      <td>DE</td>\n",
       "      <td>Deutschland</td>\n",
       "      <td>2012-11</td>\n",
       "      <td>13687385.0</td>\n",
       "    </tr>\n",
       "    <tr>\n",
       "      <th>11</th>\n",
       "      <td>M</td>\n",
       "      <td>Monatlich</td>\n",
       "      <td>DOM</td>\n",
       "      <td>Inland</td>\n",
       "      <td>NR</td>\n",
       "      <td>Anzahl</td>\n",
       "      <td>I551</td>\n",
       "      <td>Hotels, Gasthöfe und Pensionen</td>\n",
       "      <td>DE</td>\n",
       "      <td>Deutschland</td>\n",
       "      <td>2012-12</td>\n",
       "      <td>13048683.0</td>\n",
       "    </tr>\n",
       "    <tr>\n",
       "      <th>12</th>\n",
       "      <td>M</td>\n",
       "      <td>Monatlich</td>\n",
       "      <td>DOM</td>\n",
       "      <td>Inland</td>\n",
       "      <td>NR</td>\n",
       "      <td>Anzahl</td>\n",
       "      <td>I551</td>\n",
       "      <td>Hotels, Gasthöfe und Pensionen</td>\n",
       "      <td>DE</td>\n",
       "      <td>Deutschland</td>\n",
       "      <td>2013-01</td>\n",
       "      <td>11115403.0</td>\n",
       "    </tr>\n",
       "    <tr>\n",
       "      <th>13</th>\n",
       "      <td>M</td>\n",
       "      <td>Monatlich</td>\n",
       "      <td>DOM</td>\n",
       "      <td>Inland</td>\n",
       "      <td>NR</td>\n",
       "      <td>Anzahl</td>\n",
       "      <td>I551</td>\n",
       "      <td>Hotels, Gasthöfe und Pensionen</td>\n",
       "      <td>DE</td>\n",
       "      <td>Deutschland</td>\n",
       "      <td>2013-02</td>\n",
       "      <td>11879065.0</td>\n",
       "    </tr>\n",
       "    <tr>\n",
       "      <th>14</th>\n",
       "      <td>M</td>\n",
       "      <td>Monatlich</td>\n",
       "      <td>DOM</td>\n",
       "      <td>Inland</td>\n",
       "      <td>NR</td>\n",
       "      <td>Anzahl</td>\n",
       "      <td>I551</td>\n",
       "      <td>Hotels, Gasthöfe und Pensionen</td>\n",
       "      <td>DE</td>\n",
       "      <td>Deutschland</td>\n",
       "      <td>2013-03</td>\n",
       "      <td>14435053.0</td>\n",
       "    </tr>\n",
       "    <tr>\n",
       "      <th>15</th>\n",
       "      <td>M</td>\n",
       "      <td>Monatlich</td>\n",
       "      <td>DOM</td>\n",
       "      <td>Inland</td>\n",
       "      <td>NR</td>\n",
       "      <td>Anzahl</td>\n",
       "      <td>I551</td>\n",
       "      <td>Hotels, Gasthöfe und Pensionen</td>\n",
       "      <td>DE</td>\n",
       "      <td>Deutschland</td>\n",
       "      <td>2013-04</td>\n",
       "      <td>14772131.0</td>\n",
       "    </tr>\n",
       "    <tr>\n",
       "      <th>16</th>\n",
       "      <td>M</td>\n",
       "      <td>Monatlich</td>\n",
       "      <td>DOM</td>\n",
       "      <td>Inland</td>\n",
       "      <td>NR</td>\n",
       "      <td>Anzahl</td>\n",
       "      <td>I551</td>\n",
       "      <td>Hotels, Gasthöfe und Pensionen</td>\n",
       "      <td>DE</td>\n",
       "      <td>Deutschland</td>\n",
       "      <td>2013-05</td>\n",
       "      <td>18641212.0</td>\n",
       "    </tr>\n",
       "    <tr>\n",
       "      <th>17</th>\n",
       "      <td>M</td>\n",
       "      <td>Monatlich</td>\n",
       "      <td>DOM</td>\n",
       "      <td>Inland</td>\n",
       "      <td>NR</td>\n",
       "      <td>Anzahl</td>\n",
       "      <td>I551</td>\n",
       "      <td>Hotels, Gasthöfe und Pensionen</td>\n",
       "      <td>DE</td>\n",
       "      <td>Deutschland</td>\n",
       "      <td>2013-06</td>\n",
       "      <td>18452404.0</td>\n",
       "    </tr>\n",
       "    <tr>\n",
       "      <th>18</th>\n",
       "      <td>M</td>\n",
       "      <td>Monatlich</td>\n",
       "      <td>DOM</td>\n",
       "      <td>Inland</td>\n",
       "      <td>NR</td>\n",
       "      <td>Anzahl</td>\n",
       "      <td>I551</td>\n",
       "      <td>Hotels, Gasthöfe und Pensionen</td>\n",
       "      <td>DE</td>\n",
       "      <td>Deutschland</td>\n",
       "      <td>2013-07</td>\n",
       "      <td>19788757.0</td>\n",
       "    </tr>\n",
       "    <tr>\n",
       "      <th>19</th>\n",
       "      <td>M</td>\n",
       "      <td>Monatlich</td>\n",
       "      <td>DOM</td>\n",
       "      <td>Inland</td>\n",
       "      <td>NR</td>\n",
       "      <td>Anzahl</td>\n",
       "      <td>I551</td>\n",
       "      <td>Hotels, Gasthöfe und Pensionen</td>\n",
       "      <td>DE</td>\n",
       "      <td>Deutschland</td>\n",
       "      <td>2013-08</td>\n",
       "      <td>21156478.0</td>\n",
       "    </tr>\n",
       "    <tr>\n",
       "      <th>20</th>\n",
       "      <td>M</td>\n",
       "      <td>Monatlich</td>\n",
       "      <td>DOM</td>\n",
       "      <td>Inland</td>\n",
       "      <td>NR</td>\n",
       "      <td>Anzahl</td>\n",
       "      <td>I551</td>\n",
       "      <td>Hotels, Gasthöfe und Pensionen</td>\n",
       "      <td>DE</td>\n",
       "      <td>Deutschland</td>\n",
       "      <td>2013-09</td>\n",
       "      <td>20286746.0</td>\n",
       "    </tr>\n",
       "    <tr>\n",
       "      <th>21</th>\n",
       "      <td>M</td>\n",
       "      <td>Monatlich</td>\n",
       "      <td>DOM</td>\n",
       "      <td>Inland</td>\n",
       "      <td>NR</td>\n",
       "      <td>Anzahl</td>\n",
       "      <td>I551</td>\n",
       "      <td>Hotels, Gasthöfe und Pensionen</td>\n",
       "      <td>DE</td>\n",
       "      <td>Deutschland</td>\n",
       "      <td>2013-10</td>\n",
       "      <td>19138829.0</td>\n",
       "    </tr>\n",
       "    <tr>\n",
       "      <th>22</th>\n",
       "      <td>M</td>\n",
       "      <td>Monatlich</td>\n",
       "      <td>DOM</td>\n",
       "      <td>Inland</td>\n",
       "      <td>NR</td>\n",
       "      <td>Anzahl</td>\n",
       "      <td>I551</td>\n",
       "      <td>Hotels, Gasthöfe und Pensionen</td>\n",
       "      <td>DE</td>\n",
       "      <td>Deutschland</td>\n",
       "      <td>2013-11</td>\n",
       "      <td>14074469.0</td>\n",
       "    </tr>\n",
       "    <tr>\n",
       "      <th>23</th>\n",
       "      <td>M</td>\n",
       "      <td>Monatlich</td>\n",
       "      <td>DOM</td>\n",
       "      <td>Inland</td>\n",
       "      <td>NR</td>\n",
       "      <td>Anzahl</td>\n",
       "      <td>I551</td>\n",
       "      <td>Hotels, Gasthöfe und Pensionen</td>\n",
       "      <td>DE</td>\n",
       "      <td>Deutschland</td>\n",
       "      <td>2013-12</td>\n",
       "      <td>13127938.0</td>\n",
       "    </tr>\n",
       "    <tr>\n",
       "      <th>24</th>\n",
       "      <td>M</td>\n",
       "      <td>Monatlich</td>\n",
       "      <td>DOM</td>\n",
       "      <td>Inland</td>\n",
       "      <td>NR</td>\n",
       "      <td>Anzahl</td>\n",
       "      <td>I551</td>\n",
       "      <td>Hotels, Gasthöfe und Pensionen</td>\n",
       "      <td>DE</td>\n",
       "      <td>Deutschland</td>\n",
       "      <td>2014-01</td>\n",
       "      <td>11248641.0</td>\n",
       "    </tr>\n",
       "    <tr>\n",
       "      <th>25</th>\n",
       "      <td>M</td>\n",
       "      <td>Monatlich</td>\n",
       "      <td>DOM</td>\n",
       "      <td>Inland</td>\n",
       "      <td>NR</td>\n",
       "      <td>Anzahl</td>\n",
       "      <td>I551</td>\n",
       "      <td>Hotels, Gasthöfe und Pensionen</td>\n",
       "      <td>DE</td>\n",
       "      <td>Deutschland</td>\n",
       "      <td>2014-02</td>\n",
       "      <td>11942593.0</td>\n",
       "    </tr>\n",
       "    <tr>\n",
       "      <th>26</th>\n",
       "      <td>M</td>\n",
       "      <td>Monatlich</td>\n",
       "      <td>DOM</td>\n",
       "      <td>Inland</td>\n",
       "      <td>NR</td>\n",
       "      <td>Anzahl</td>\n",
       "      <td>I551</td>\n",
       "      <td>Hotels, Gasthöfe und Pensionen</td>\n",
       "      <td>DE</td>\n",
       "      <td>Deutschland</td>\n",
       "      <td>2014-03</td>\n",
       "      <td>14386635.0</td>\n",
       "    </tr>\n",
       "    <tr>\n",
       "      <th>27</th>\n",
       "      <td>M</td>\n",
       "      <td>Monatlich</td>\n",
       "      <td>DOM</td>\n",
       "      <td>Inland</td>\n",
       "      <td>NR</td>\n",
       "      <td>Anzahl</td>\n",
       "      <td>I551</td>\n",
       "      <td>Hotels, Gasthöfe und Pensionen</td>\n",
       "      <td>DE</td>\n",
       "      <td>Deutschland</td>\n",
       "      <td>2014-04</td>\n",
       "      <td>15631416.0</td>\n",
       "    </tr>\n",
       "    <tr>\n",
       "      <th>28</th>\n",
       "      <td>M</td>\n",
       "      <td>Monatlich</td>\n",
       "      <td>DOM</td>\n",
       "      <td>Inland</td>\n",
       "      <td>NR</td>\n",
       "      <td>Anzahl</td>\n",
       "      <td>I551</td>\n",
       "      <td>Hotels, Gasthöfe und Pensionen</td>\n",
       "      <td>DE</td>\n",
       "      <td>Deutschland</td>\n",
       "      <td>2014-05</td>\n",
       "      <td>19281358.0</td>\n",
       "    </tr>\n",
       "    <tr>\n",
       "      <th>29</th>\n",
       "      <td>M</td>\n",
       "      <td>Monatlich</td>\n",
       "      <td>DOM</td>\n",
       "      <td>Inland</td>\n",
       "      <td>NR</td>\n",
       "      <td>Anzahl</td>\n",
       "      <td>I551</td>\n",
       "      <td>Hotels, Gasthöfe und Pensionen</td>\n",
       "      <td>DE</td>\n",
       "      <td>Deutschland</td>\n",
       "      <td>2014-06</td>\n",
       "      <td>19038903.0</td>\n",
       "    </tr>\n",
       "    <tr>\n",
       "      <th>30</th>\n",
       "      <td>M</td>\n",
       "      <td>Monatlich</td>\n",
       "      <td>DOM</td>\n",
       "      <td>Inland</td>\n",
       "      <td>NR</td>\n",
       "      <td>Anzahl</td>\n",
       "      <td>I551</td>\n",
       "      <td>Hotels, Gasthöfe und Pensionen</td>\n",
       "      <td>DE</td>\n",
       "      <td>Deutschland</td>\n",
       "      <td>2014-07</td>\n",
       "      <td>19574882.0</td>\n",
       "    </tr>\n",
       "    <tr>\n",
       "      <th>31</th>\n",
       "      <td>M</td>\n",
       "      <td>Monatlich</td>\n",
       "      <td>DOM</td>\n",
       "      <td>Inland</td>\n",
       "      <td>NR</td>\n",
       "      <td>Anzahl</td>\n",
       "      <td>I551</td>\n",
       "      <td>Hotels, Gasthöfe und Pensionen</td>\n",
       "      <td>DE</td>\n",
       "      <td>Deutschland</td>\n",
       "      <td>2014-08</td>\n",
       "      <td>21892529.0</td>\n",
       "    </tr>\n",
       "    <tr>\n",
       "      <th>32</th>\n",
       "      <td>M</td>\n",
       "      <td>Monatlich</td>\n",
       "      <td>DOM</td>\n",
       "      <td>Inland</td>\n",
       "      <td>NR</td>\n",
       "      <td>Anzahl</td>\n",
       "      <td>I551</td>\n",
       "      <td>Hotels, Gasthöfe und Pensionen</td>\n",
       "      <td>DE</td>\n",
       "      <td>Deutschland</td>\n",
       "      <td>2014-09</td>\n",
       "      <td>20827544.0</td>\n",
       "    </tr>\n",
       "    <tr>\n",
       "      <th>33</th>\n",
       "      <td>M</td>\n",
       "      <td>Monatlich</td>\n",
       "      <td>DOM</td>\n",
       "      <td>Inland</td>\n",
       "      <td>NR</td>\n",
       "      <td>Anzahl</td>\n",
       "      <td>I551</td>\n",
       "      <td>Hotels, Gasthöfe und Pensionen</td>\n",
       "      <td>DE</td>\n",
       "      <td>Deutschland</td>\n",
       "      <td>2014-10</td>\n",
       "      <td>19988421.0</td>\n",
       "    </tr>\n",
       "    <tr>\n",
       "      <th>34</th>\n",
       "      <td>M</td>\n",
       "      <td>Monatlich</td>\n",
       "      <td>DOM</td>\n",
       "      <td>Inland</td>\n",
       "      <td>NR</td>\n",
       "      <td>Anzahl</td>\n",
       "      <td>I551</td>\n",
       "      <td>Hotels, Gasthöfe und Pensionen</td>\n",
       "      <td>DE</td>\n",
       "      <td>Deutschland</td>\n",
       "      <td>2014-11</td>\n",
       "      <td>14527945.0</td>\n",
       "    </tr>\n",
       "    <tr>\n",
       "      <th>35</th>\n",
       "      <td>M</td>\n",
       "      <td>Monatlich</td>\n",
       "      <td>DOM</td>\n",
       "      <td>Inland</td>\n",
       "      <td>NR</td>\n",
       "      <td>Anzahl</td>\n",
       "      <td>I551</td>\n",
       "      <td>Hotels, Gasthöfe und Pensionen</td>\n",
       "      <td>DE</td>\n",
       "      <td>Deutschland</td>\n",
       "      <td>2014-12</td>\n",
       "      <td>13797418.0</td>\n",
       "    </tr>\n",
       "    <tr>\n",
       "      <th>36</th>\n",
       "      <td>M</td>\n",
       "      <td>Monatlich</td>\n",
       "      <td>DOM</td>\n",
       "      <td>Inland</td>\n",
       "      <td>NR</td>\n",
       "      <td>Anzahl</td>\n",
       "      <td>I551</td>\n",
       "      <td>Hotels, Gasthöfe und Pensionen</td>\n",
       "      <td>DE</td>\n",
       "      <td>Deutschland</td>\n",
       "      <td>2015-01</td>\n",
       "      <td>11556578.0</td>\n",
       "    </tr>\n",
       "    <tr>\n",
       "      <th>37</th>\n",
       "      <td>M</td>\n",
       "      <td>Monatlich</td>\n",
       "      <td>DOM</td>\n",
       "      <td>Inland</td>\n",
       "      <td>NR</td>\n",
       "      <td>Anzahl</td>\n",
       "      <td>I551</td>\n",
       "      <td>Hotels, Gasthöfe und Pensionen</td>\n",
       "      <td>DE</td>\n",
       "      <td>Deutschland</td>\n",
       "      <td>2015-02</td>\n",
       "      <td>12661791.0</td>\n",
       "    </tr>\n",
       "    <tr>\n",
       "      <th>38</th>\n",
       "      <td>M</td>\n",
       "      <td>Monatlich</td>\n",
       "      <td>DOM</td>\n",
       "      <td>Inland</td>\n",
       "      <td>NR</td>\n",
       "      <td>Anzahl</td>\n",
       "      <td>I551</td>\n",
       "      <td>Hotels, Gasthöfe und Pensionen</td>\n",
       "      <td>DE</td>\n",
       "      <td>Deutschland</td>\n",
       "      <td>2015-03</td>\n",
       "      <td>14900948.0</td>\n",
       "    </tr>\n",
       "    <tr>\n",
       "      <th>39</th>\n",
       "      <td>M</td>\n",
       "      <td>Monatlich</td>\n",
       "      <td>DOM</td>\n",
       "      <td>Inland</td>\n",
       "      <td>NR</td>\n",
       "      <td>Anzahl</td>\n",
       "      <td>I551</td>\n",
       "      <td>Hotels, Gasthöfe und Pensionen</td>\n",
       "      <td>DE</td>\n",
       "      <td>Deutschland</td>\n",
       "      <td>2015-04</td>\n",
       "      <td>15964041.0</td>\n",
       "    </tr>\n",
       "    <tr>\n",
       "      <th>40</th>\n",
       "      <td>M</td>\n",
       "      <td>Monatlich</td>\n",
       "      <td>DOM</td>\n",
       "      <td>Inland</td>\n",
       "      <td>NR</td>\n",
       "      <td>Anzahl</td>\n",
       "      <td>I551</td>\n",
       "      <td>Hotels, Gasthöfe und Pensionen</td>\n",
       "      <td>DE</td>\n",
       "      <td>Deutschland</td>\n",
       "      <td>2015-05</td>\n",
       "      <td>19746072.0</td>\n",
       "    </tr>\n",
       "    <tr>\n",
       "      <th>41</th>\n",
       "      <td>M</td>\n",
       "      <td>Monatlich</td>\n",
       "      <td>DOM</td>\n",
       "      <td>Inland</td>\n",
       "      <td>NR</td>\n",
       "      <td>Anzahl</td>\n",
       "      <td>I551</td>\n",
       "      <td>Hotels, Gasthöfe und Pensionen</td>\n",
       "      <td>DE</td>\n",
       "      <td>Deutschland</td>\n",
       "      <td>2015-06</td>\n",
       "      <td>19781740.0</td>\n",
       "    </tr>\n",
       "    <tr>\n",
       "      <th>42</th>\n",
       "      <td>M</td>\n",
       "      <td>Monatlich</td>\n",
       "      <td>DOM</td>\n",
       "      <td>Inland</td>\n",
       "      <td>NR</td>\n",
       "      <td>Anzahl</td>\n",
       "      <td>I551</td>\n",
       "      <td>Hotels, Gasthöfe und Pensionen</td>\n",
       "      <td>DE</td>\n",
       "      <td>Deutschland</td>\n",
       "      <td>2015-07</td>\n",
       "      <td>20464287.0</td>\n",
       "    </tr>\n",
       "    <tr>\n",
       "      <th>43</th>\n",
       "      <td>M</td>\n",
       "      <td>Monatlich</td>\n",
       "      <td>DOM</td>\n",
       "      <td>Inland</td>\n",
       "      <td>NR</td>\n",
       "      <td>Anzahl</td>\n",
       "      <td>I551</td>\n",
       "      <td>Hotels, Gasthöfe und Pensionen</td>\n",
       "      <td>DE</td>\n",
       "      <td>Deutschland</td>\n",
       "      <td>2015-08</td>\n",
       "      <td>22110010.0</td>\n",
       "    </tr>\n",
       "    <tr>\n",
       "      <th>44</th>\n",
       "      <td>M</td>\n",
       "      <td>Monatlich</td>\n",
       "      <td>DOM</td>\n",
       "      <td>Inland</td>\n",
       "      <td>NR</td>\n",
       "      <td>Anzahl</td>\n",
       "      <td>I551</td>\n",
       "      <td>Hotels, Gasthöfe und Pensionen</td>\n",
       "      <td>DE</td>\n",
       "      <td>Deutschland</td>\n",
       "      <td>2015-09</td>\n",
       "      <td>21225480.0</td>\n",
       "    </tr>\n",
       "    <tr>\n",
       "      <th>45</th>\n",
       "      <td>M</td>\n",
       "      <td>Monatlich</td>\n",
       "      <td>DOM</td>\n",
       "      <td>Inland</td>\n",
       "      <td>NR</td>\n",
       "      <td>Anzahl</td>\n",
       "      <td>I551</td>\n",
       "      <td>Hotels, Gasthöfe und Pensionen</td>\n",
       "      <td>DE</td>\n",
       "      <td>Deutschland</td>\n",
       "      <td>2015-10</td>\n",
       "      <td>20110010.0</td>\n",
       "    </tr>\n",
       "    <tr>\n",
       "      <th>46</th>\n",
       "      <td>M</td>\n",
       "      <td>Monatlich</td>\n",
       "      <td>DOM</td>\n",
       "      <td>Inland</td>\n",
       "      <td>NR</td>\n",
       "      <td>Anzahl</td>\n",
       "      <td>I551</td>\n",
       "      <td>Hotels, Gasthöfe und Pensionen</td>\n",
       "      <td>DE</td>\n",
       "      <td>Deutschland</td>\n",
       "      <td>2015-11</td>\n",
       "      <td>15011587.0</td>\n",
       "    </tr>\n",
       "    <tr>\n",
       "      <th>47</th>\n",
       "      <td>M</td>\n",
       "      <td>Monatlich</td>\n",
       "      <td>DOM</td>\n",
       "      <td>Inland</td>\n",
       "      <td>NR</td>\n",
       "      <td>Anzahl</td>\n",
       "      <td>I551</td>\n",
       "      <td>Hotels, Gasthöfe und Pensionen</td>\n",
       "      <td>DE</td>\n",
       "      <td>Deutschland</td>\n",
       "      <td>2015-12</td>\n",
       "      <td>14080853.0</td>\n",
       "    </tr>\n",
       "    <tr>\n",
       "      <th>48</th>\n",
       "      <td>M</td>\n",
       "      <td>Monatlich</td>\n",
       "      <td>DOM</td>\n",
       "      <td>Inland</td>\n",
       "      <td>NR</td>\n",
       "      <td>Anzahl</td>\n",
       "      <td>I551</td>\n",
       "      <td>Hotels, Gasthöfe und Pensionen</td>\n",
       "      <td>DE</td>\n",
       "      <td>Deutschland</td>\n",
       "      <td>2016-01</td>\n",
       "      <td>11974553.0</td>\n",
       "    </tr>\n",
       "    <tr>\n",
       "      <th>49</th>\n",
       "      <td>M</td>\n",
       "      <td>Monatlich</td>\n",
       "      <td>DOM</td>\n",
       "      <td>Inland</td>\n",
       "      <td>NR</td>\n",
       "      <td>Anzahl</td>\n",
       "      <td>I551</td>\n",
       "      <td>Hotels, Gasthöfe und Pensionen</td>\n",
       "      <td>DE</td>\n",
       "      <td>Deutschland</td>\n",
       "      <td>2016-02</td>\n",
       "      <td>13348057.0</td>\n",
       "    </tr>\n",
       "  </tbody>\n",
       "</table>\n",
       "</div>"
      ],
      "text/plain": [
       "   Zeitliche_Frequenz_Idx Zeitliche_Frequenz Aufenthaltsland_Idx  \\\n",
       "0                       M          Monatlich                 DOM   \n",
       "1                       M          Monatlich                 DOM   \n",
       "2                       M          Monatlich                 DOM   \n",
       "3                       M          Monatlich                 DOM   \n",
       "4                       M          Monatlich                 DOM   \n",
       "5                       M          Monatlich                 DOM   \n",
       "6                       M          Monatlich                 DOM   \n",
       "7                       M          Monatlich                 DOM   \n",
       "8                       M          Monatlich                 DOM   \n",
       "9                       M          Monatlich                 DOM   \n",
       "10                      M          Monatlich                 DOM   \n",
       "11                      M          Monatlich                 DOM   \n",
       "12                      M          Monatlich                 DOM   \n",
       "13                      M          Monatlich                 DOM   \n",
       "14                      M          Monatlich                 DOM   \n",
       "15                      M          Monatlich                 DOM   \n",
       "16                      M          Monatlich                 DOM   \n",
       "17                      M          Monatlich                 DOM   \n",
       "18                      M          Monatlich                 DOM   \n",
       "19                      M          Monatlich                 DOM   \n",
       "20                      M          Monatlich                 DOM   \n",
       "21                      M          Monatlich                 DOM   \n",
       "22                      M          Monatlich                 DOM   \n",
       "23                      M          Monatlich                 DOM   \n",
       "24                      M          Monatlich                 DOM   \n",
       "25                      M          Monatlich                 DOM   \n",
       "26                      M          Monatlich                 DOM   \n",
       "27                      M          Monatlich                 DOM   \n",
       "28                      M          Monatlich                 DOM   \n",
       "29                      M          Monatlich                 DOM   \n",
       "30                      M          Monatlich                 DOM   \n",
       "31                      M          Monatlich                 DOM   \n",
       "32                      M          Monatlich                 DOM   \n",
       "33                      M          Monatlich                 DOM   \n",
       "34                      M          Monatlich                 DOM   \n",
       "35                      M          Monatlich                 DOM   \n",
       "36                      M          Monatlich                 DOM   \n",
       "37                      M          Monatlich                 DOM   \n",
       "38                      M          Monatlich                 DOM   \n",
       "39                      M          Monatlich                 DOM   \n",
       "40                      M          Monatlich                 DOM   \n",
       "41                      M          Monatlich                 DOM   \n",
       "42                      M          Monatlich                 DOM   \n",
       "43                      M          Monatlich                 DOM   \n",
       "44                      M          Monatlich                 DOM   \n",
       "45                      M          Monatlich                 DOM   \n",
       "46                      M          Monatlich                 DOM   \n",
       "47                      M          Monatlich                 DOM   \n",
       "48                      M          Monatlich                 DOM   \n",
       "49                      M          Monatlich                 DOM   \n",
       "\n",
       "   Aufenthaltsland Maßeinheit_Idx Maßeinheit NACEr2_Idx  \\\n",
       "0           Inland             NR     Anzahl       I551   \n",
       "1           Inland             NR     Anzahl       I551   \n",
       "2           Inland             NR     Anzahl       I551   \n",
       "3           Inland             NR     Anzahl       I551   \n",
       "4           Inland             NR     Anzahl       I551   \n",
       "5           Inland             NR     Anzahl       I551   \n",
       "6           Inland             NR     Anzahl       I551   \n",
       "7           Inland             NR     Anzahl       I551   \n",
       "8           Inland             NR     Anzahl       I551   \n",
       "9           Inland             NR     Anzahl       I551   \n",
       "10          Inland             NR     Anzahl       I551   \n",
       "11          Inland             NR     Anzahl       I551   \n",
       "12          Inland             NR     Anzahl       I551   \n",
       "13          Inland             NR     Anzahl       I551   \n",
       "14          Inland             NR     Anzahl       I551   \n",
       "15          Inland             NR     Anzahl       I551   \n",
       "16          Inland             NR     Anzahl       I551   \n",
       "17          Inland             NR     Anzahl       I551   \n",
       "18          Inland             NR     Anzahl       I551   \n",
       "19          Inland             NR     Anzahl       I551   \n",
       "20          Inland             NR     Anzahl       I551   \n",
       "21          Inland             NR     Anzahl       I551   \n",
       "22          Inland             NR     Anzahl       I551   \n",
       "23          Inland             NR     Anzahl       I551   \n",
       "24          Inland             NR     Anzahl       I551   \n",
       "25          Inland             NR     Anzahl       I551   \n",
       "26          Inland             NR     Anzahl       I551   \n",
       "27          Inland             NR     Anzahl       I551   \n",
       "28          Inland             NR     Anzahl       I551   \n",
       "29          Inland             NR     Anzahl       I551   \n",
       "30          Inland             NR     Anzahl       I551   \n",
       "31          Inland             NR     Anzahl       I551   \n",
       "32          Inland             NR     Anzahl       I551   \n",
       "33          Inland             NR     Anzahl       I551   \n",
       "34          Inland             NR     Anzahl       I551   \n",
       "35          Inland             NR     Anzahl       I551   \n",
       "36          Inland             NR     Anzahl       I551   \n",
       "37          Inland             NR     Anzahl       I551   \n",
       "38          Inland             NR     Anzahl       I551   \n",
       "39          Inland             NR     Anzahl       I551   \n",
       "40          Inland             NR     Anzahl       I551   \n",
       "41          Inland             NR     Anzahl       I551   \n",
       "42          Inland             NR     Anzahl       I551   \n",
       "43          Inland             NR     Anzahl       I551   \n",
       "44          Inland             NR     Anzahl       I551   \n",
       "45          Inland             NR     Anzahl       I551   \n",
       "46          Inland             NR     Anzahl       I551   \n",
       "47          Inland             NR     Anzahl       I551   \n",
       "48          Inland             NR     Anzahl       I551   \n",
       "49          Inland             NR     Anzahl       I551   \n",
       "\n",
       "                            NACEr2 Geopolitische_Meldeeinheit_Idx  \\\n",
       "0   Hotels, Gasthöfe und Pensionen                             DE   \n",
       "1   Hotels, Gasthöfe und Pensionen                             DE   \n",
       "2   Hotels, Gasthöfe und Pensionen                             DE   \n",
       "3   Hotels, Gasthöfe und Pensionen                             DE   \n",
       "4   Hotels, Gasthöfe und Pensionen                             DE   \n",
       "5   Hotels, Gasthöfe und Pensionen                             DE   \n",
       "6   Hotels, Gasthöfe und Pensionen                             DE   \n",
       "7   Hotels, Gasthöfe und Pensionen                             DE   \n",
       "8   Hotels, Gasthöfe und Pensionen                             DE   \n",
       "9   Hotels, Gasthöfe und Pensionen                             DE   \n",
       "10  Hotels, Gasthöfe und Pensionen                             DE   \n",
       "11  Hotels, Gasthöfe und Pensionen                             DE   \n",
       "12  Hotels, Gasthöfe und Pensionen                             DE   \n",
       "13  Hotels, Gasthöfe und Pensionen                             DE   \n",
       "14  Hotels, Gasthöfe und Pensionen                             DE   \n",
       "15  Hotels, Gasthöfe und Pensionen                             DE   \n",
       "16  Hotels, Gasthöfe und Pensionen                             DE   \n",
       "17  Hotels, Gasthöfe und Pensionen                             DE   \n",
       "18  Hotels, Gasthöfe und Pensionen                             DE   \n",
       "19  Hotels, Gasthöfe und Pensionen                             DE   \n",
       "20  Hotels, Gasthöfe und Pensionen                             DE   \n",
       "21  Hotels, Gasthöfe und Pensionen                             DE   \n",
       "22  Hotels, Gasthöfe und Pensionen                             DE   \n",
       "23  Hotels, Gasthöfe und Pensionen                             DE   \n",
       "24  Hotels, Gasthöfe und Pensionen                             DE   \n",
       "25  Hotels, Gasthöfe und Pensionen                             DE   \n",
       "26  Hotels, Gasthöfe und Pensionen                             DE   \n",
       "27  Hotels, Gasthöfe und Pensionen                             DE   \n",
       "28  Hotels, Gasthöfe und Pensionen                             DE   \n",
       "29  Hotels, Gasthöfe und Pensionen                             DE   \n",
       "30  Hotels, Gasthöfe und Pensionen                             DE   \n",
       "31  Hotels, Gasthöfe und Pensionen                             DE   \n",
       "32  Hotels, Gasthöfe und Pensionen                             DE   \n",
       "33  Hotels, Gasthöfe und Pensionen                             DE   \n",
       "34  Hotels, Gasthöfe und Pensionen                             DE   \n",
       "35  Hotels, Gasthöfe und Pensionen                             DE   \n",
       "36  Hotels, Gasthöfe und Pensionen                             DE   \n",
       "37  Hotels, Gasthöfe und Pensionen                             DE   \n",
       "38  Hotels, Gasthöfe und Pensionen                             DE   \n",
       "39  Hotels, Gasthöfe und Pensionen                             DE   \n",
       "40  Hotels, Gasthöfe und Pensionen                             DE   \n",
       "41  Hotels, Gasthöfe und Pensionen                             DE   \n",
       "42  Hotels, Gasthöfe und Pensionen                             DE   \n",
       "43  Hotels, Gasthöfe und Pensionen                             DE   \n",
       "44  Hotels, Gasthöfe und Pensionen                             DE   \n",
       "45  Hotels, Gasthöfe und Pensionen                             DE   \n",
       "46  Hotels, Gasthöfe und Pensionen                             DE   \n",
       "47  Hotels, Gasthöfe und Pensionen                             DE   \n",
       "48  Hotels, Gasthöfe und Pensionen                             DE   \n",
       "49  Hotels, Gasthöfe und Pensionen                             DE   \n",
       "\n",
       "   Geopolitische_Meldeeinheit JahrMonat       value  \n",
       "0                 Deutschland   2012-01  11022604.0  \n",
       "1                 Deutschland   2012-02  11916641.0  \n",
       "2                 Deutschland   2012-03  14018007.0  \n",
       "3                 Deutschland   2012-04  15472920.0  \n",
       "4                 Deutschland   2012-05  18319333.0  \n",
       "5                 Deutschland   2012-06  18486480.0  \n",
       "6                 Deutschland   2012-07  19202249.0  \n",
       "7                 Deutschland   2012-08  20631875.0  \n",
       "8                 Deutschland   2012-09  20677647.0  \n",
       "9                 Deutschland   2012-10  18473660.0  \n",
       "10                Deutschland   2012-11  13687385.0  \n",
       "11                Deutschland   2012-12  13048683.0  \n",
       "12                Deutschland   2013-01  11115403.0  \n",
       "13                Deutschland   2013-02  11879065.0  \n",
       "14                Deutschland   2013-03  14435053.0  \n",
       "15                Deutschland   2013-04  14772131.0  \n",
       "16                Deutschland   2013-05  18641212.0  \n",
       "17                Deutschland   2013-06  18452404.0  \n",
       "18                Deutschland   2013-07  19788757.0  \n",
       "19                Deutschland   2013-08  21156478.0  \n",
       "20                Deutschland   2013-09  20286746.0  \n",
       "21                Deutschland   2013-10  19138829.0  \n",
       "22                Deutschland   2013-11  14074469.0  \n",
       "23                Deutschland   2013-12  13127938.0  \n",
       "24                Deutschland   2014-01  11248641.0  \n",
       "25                Deutschland   2014-02  11942593.0  \n",
       "26                Deutschland   2014-03  14386635.0  \n",
       "27                Deutschland   2014-04  15631416.0  \n",
       "28                Deutschland   2014-05  19281358.0  \n",
       "29                Deutschland   2014-06  19038903.0  \n",
       "30                Deutschland   2014-07  19574882.0  \n",
       "31                Deutschland   2014-08  21892529.0  \n",
       "32                Deutschland   2014-09  20827544.0  \n",
       "33                Deutschland   2014-10  19988421.0  \n",
       "34                Deutschland   2014-11  14527945.0  \n",
       "35                Deutschland   2014-12  13797418.0  \n",
       "36                Deutschland   2015-01  11556578.0  \n",
       "37                Deutschland   2015-02  12661791.0  \n",
       "38                Deutschland   2015-03  14900948.0  \n",
       "39                Deutschland   2015-04  15964041.0  \n",
       "40                Deutschland   2015-05  19746072.0  \n",
       "41                Deutschland   2015-06  19781740.0  \n",
       "42                Deutschland   2015-07  20464287.0  \n",
       "43                Deutschland   2015-08  22110010.0  \n",
       "44                Deutschland   2015-09  21225480.0  \n",
       "45                Deutschland   2015-10  20110010.0  \n",
       "46                Deutschland   2015-11  15011587.0  \n",
       "47                Deutschland   2015-12  14080853.0  \n",
       "48                Deutschland   2016-01  11974553.0  \n",
       "49                Deutschland   2016-02  13348057.0  "
      ]
     },
     "execution_count": 1,
     "metadata": {},
     "output_type": "execute_result"
    }
   ],
   "source": [
    "import requests\n",
    "import pandas as pd\n",
    "import numpy as np\n",
    "import json\n",
    "import sys\n",
    "\n",
    "# URL of the JSON data\n",
    "url_old = \"https://ec.europa.eu/eurostat/api/dissemination/statistics/1.0/data/tour_occ_nim?format=JSON&sinceTimePeriod=2012-01&geo=DK&geo=DE&geo=EL&geo=ES&geo=HR&geo=IT&geo=PT&geo=FI&geo=SE&geo=NO&unit=NR&unit=PCH_SM&unit=PCH_SM_19&c_resid=DOM&c_resid=FOR&nace_r2=I551&nace_r2=I552&nace_r2=I553&lang=de\"\n",
    "\n",
    "url_domain = \"https://ec.europa.eu/eurostat/\"\n",
    "url_site = \"api/dissemination/statistics/1.0/data/tour_occ_nim\"\n",
    "url_qry_base = \"?format=JSON\"\n",
    "url_qry_period_from = \"&sinceTimePeriod=2012-01\"\n",
    "url_qry_period_to = \"\"\n",
    "url_qry_geo = \"&geo=DK&geo=DE&geo=EL&geo=ES&geo=HR&geo=IT&geo=PT&geo=FI&geo=SE&geo=NO\"\n",
    "url_qry_unit = \"&unit=NR&unit=PCH_SM&unit=PCH_SM_19\"\n",
    "url_qry_resid = \"&c_resid=DOM&c_resid=FOR\"\n",
    "url_qry_nace = \"&nace_r2=I551&nace_r2=I552&nace_r2=I553\"\n",
    "url_qry_lang = \"&lang=de\"\n",
    "\n",
    "url = url_domain + url_site + url_qry_base + url_qry_period_from + url_qry_period_to + url_qry_geo + url_qry_unit + url_qry_resid + url_qry_nace + url_qry_lang\n",
    "if url == url_old:\n",
    "    print(\"URL PATH match.\")\n",
    "else:\n",
    "    print (\"ERROR: URL mismatch!\")\n",
    "# sys.exit()\n",
    "\n",
    "# Download and parse the JSON\n",
    "response = requests.get(url)\n",
    "data = response.json()\n",
    "dims = data['dimension']\n",
    "values = data['value']\n",
    "\n",
    "# Extract dimension metadata\n",
    "dim_order = data['id']  # dimension order\n",
    "dim_sizes = data['size']  # sizes of dimensions\n",
    "dim_labels = {dim: dims[dim]['label'] for dim in dim_order}\n",
    "dim_categories = {dim: dims[dim]['category']['label'] for dim in dim_order}\n",
    "dim_category_keys = {dim: list(dims[dim]['category']['label'].keys()) for dim in dim_order}\n",
    "\n",
    "# Flatten values\n",
    "records = []\n",
    "for idx, val in values.items():\n",
    "    idx = int(idx)\n",
    "    indexes = []\n",
    "    remainder = idx\n",
    "    for size in reversed(dim_sizes):\n",
    "        indexes.append(remainder % size)\n",
    "        remainder //= size\n",
    "    indexes.reverse()\n",
    "\n",
    "    # Map to dimension keys and values\n",
    "    row = {}\n",
    "    for i, dim in enumerate(dim_order):\n",
    "        keys = dim_category_keys[dim]\n",
    "        key = keys[indexes[i]]\n",
    "        label = dim_categories[dim][key]\n",
    "        dim_name = dim_labels[dim]\n",
    "\n",
    "        # Use your specified column names\n",
    "        if dim == 'freq':\n",
    "            row['Zeitliche_Frequenz_Idx'] = key\n",
    "            row['Zeitliche_Frequenz'] = label\n",
    "        elif dim == 'c_resid':\n",
    "            row['Aufenthaltsland_Idx'] = key\n",
    "            row['Aufenthaltsland'] = label\n",
    "        elif dim == 'unit':\n",
    "            row['Maßeinheit_Idx'] = key\n",
    "            row['Maßeinheit'] = label\n",
    "        elif dim == 'nace_r2':\n",
    "            row['NACEr2_Idx'] = key\n",
    "            row['NACEr2'] = label\n",
    "        elif dim == 'geo':\n",
    "            row['Geopolitische_Meldeeinheit_Idx'] = key\n",
    "            row['Geopolitische_Meldeeinheit'] = label\n",
    "        elif dim == 'time':\n",
    "            # row['Zeit_Idx'] = key\n",
    "            row['JahrMonat'] = label\n",
    "    row['value'] = val\n",
    "    records.append(row)\n",
    "\n",
    "# Create DataFrame\n",
    "df = pd.DataFrame(records)\n",
    "\n",
    "# Export to CSV\n",
    "# csv_filename = \"estat_tour_overnight_stays_2012-2025_eu10_de.csv\"\n",
    "# df.to_csv(csv_filename, index=False)\n",
    "# print(f\"Exported to {csv_filename}\")\n",
    "\n",
    "df.head(50)\n"
   ]
  },
  {
   "cell_type": "code",
   "execution_count": 2,
   "id": "5314c7fc",
   "metadata": {},
   "outputs": [
    {
     "data": {
      "application/vnd.microsoft.datawrangler.viewer.v0+json": {
       "columns": [
        {
         "name": "Maßeinheit_Idx",
         "rawType": "object",
         "type": "string"
        },
        {
         "name": "count",
         "rawType": "int64",
         "type": "integer"
        }
       ],
       "ref": "508b7dbf-96b8-49a5-8ca4-109068e464e8",
       "rows": [
        [
         "NR",
         "9716"
        ],
        [
         "PCH_SM",
         "9202"
        ],
        [
         "PCH_SM_19",
         "3956"
        ]
       ],
       "shape": {
        "columns": 1,
        "rows": 3
       }
      },
      "text/plain": [
       "Maßeinheit_Idx\n",
       "NR           9716\n",
       "PCH_SM       9202\n",
       "PCH_SM_19    3956\n",
       "Name: count, dtype: int64"
      ]
     },
     "execution_count": 2,
     "metadata": {},
     "output_type": "execute_result"
    }
   ],
   "source": [
    "df[\"Maßeinheit_Idx\"].value_counts()"
   ]
  },
  {
   "cell_type": "code",
   "execution_count": 3,
   "id": "55ebe2a7",
   "metadata": {},
   "outputs": [],
   "source": [
    "mask_anzahl = df[\"Maßeinheit_Idx\"] == \"NR\"\n",
    "mask_pch_sm = df[\"Maßeinheit_Idx\"] == \"PCH_SM\"\n",
    "mask_pch_sm_19 = df[\"Maßeinheit_Idx\"] == \"PCH_SM_19\"\n",
    "df_anzahl = df[mask_anzahl].copy()  # independent copy - no. of overnight stays\n",
    "df_pch_sm = df[mask_pch_sm].copy()    # independent copy - percentage change MoM (YoY)\n",
    "df_pch_sm_19 = df[mask_pch_sm_19].copy()    # independent copy - percentage change MoM (vs 2019)"
   ]
  },
  {
   "cell_type": "code",
   "execution_count": 4,
   "id": "a77eba2a",
   "metadata": {},
   "outputs": [
    {
     "data": {
      "application/vnd.microsoft.datawrangler.viewer.v0+json": {
       "columns": [
        {
         "name": "index",
         "rawType": "int64",
         "type": "integer"
        },
        {
         "name": "Zeitliche_Frequenz_Idx",
         "rawType": "object",
         "type": "string"
        },
        {
         "name": "Zeitliche_Frequenz",
         "rawType": "object",
         "type": "string"
        },
        {
         "name": "Aufenthaltsland_Idx",
         "rawType": "object",
         "type": "string"
        },
        {
         "name": "Aufenthaltsland",
         "rawType": "object",
         "type": "string"
        },
        {
         "name": "Maßeinheit_Idx",
         "rawType": "object",
         "type": "string"
        },
        {
         "name": "Maßeinheit",
         "rawType": "object",
         "type": "string"
        },
        {
         "name": "NACEr2_Idx",
         "rawType": "object",
         "type": "string"
        },
        {
         "name": "NACEr2",
         "rawType": "object",
         "type": "string"
        },
        {
         "name": "Geopolitische_Meldeeinheit_Idx",
         "rawType": "object",
         "type": "string"
        },
        {
         "name": "Geopolitische_Meldeeinheit",
         "rawType": "object",
         "type": "string"
        },
        {
         "name": "JahrMonat",
         "rawType": "object",
         "type": "string"
        },
        {
         "name": "value",
         "rawType": "float64",
         "type": "float"
        }
       ],
       "ref": "0ac39dcb-8484-4cd7-8506-baf77300b554",
       "rows": [
        [
         "0",
         "M",
         "Monatlich",
         "DOM",
         "Inland",
         "NR",
         "Anzahl",
         "I551",
         "Hotels, Gasthöfe und Pensionen",
         "DE",
         "Deutschland",
         "2012-01",
         "11022604.0"
        ],
        [
         "1",
         "M",
         "Monatlich",
         "DOM",
         "Inland",
         "NR",
         "Anzahl",
         "I551",
         "Hotels, Gasthöfe und Pensionen",
         "DE",
         "Deutschland",
         "2012-02",
         "11916641.0"
        ],
        [
         "2",
         "M",
         "Monatlich",
         "DOM",
         "Inland",
         "NR",
         "Anzahl",
         "I551",
         "Hotels, Gasthöfe und Pensionen",
         "DE",
         "Deutschland",
         "2012-03",
         "14018007.0"
        ],
        [
         "3",
         "M",
         "Monatlich",
         "DOM",
         "Inland",
         "NR",
         "Anzahl",
         "I551",
         "Hotels, Gasthöfe und Pensionen",
         "DE",
         "Deutschland",
         "2012-04",
         "15472920.0"
        ],
        [
         "4",
         "M",
         "Monatlich",
         "DOM",
         "Inland",
         "NR",
         "Anzahl",
         "I551",
         "Hotels, Gasthöfe und Pensionen",
         "DE",
         "Deutschland",
         "2012-05",
         "18319333.0"
        ],
        [
         "5",
         "M",
         "Monatlich",
         "DOM",
         "Inland",
         "NR",
         "Anzahl",
         "I551",
         "Hotels, Gasthöfe und Pensionen",
         "DE",
         "Deutschland",
         "2012-06",
         "18486480.0"
        ],
        [
         "6",
         "M",
         "Monatlich",
         "DOM",
         "Inland",
         "NR",
         "Anzahl",
         "I551",
         "Hotels, Gasthöfe und Pensionen",
         "DE",
         "Deutschland",
         "2012-07",
         "19202249.0"
        ],
        [
         "7",
         "M",
         "Monatlich",
         "DOM",
         "Inland",
         "NR",
         "Anzahl",
         "I551",
         "Hotels, Gasthöfe und Pensionen",
         "DE",
         "Deutschland",
         "2012-08",
         "20631875.0"
        ],
        [
         "8",
         "M",
         "Monatlich",
         "DOM",
         "Inland",
         "NR",
         "Anzahl",
         "I551",
         "Hotels, Gasthöfe und Pensionen",
         "DE",
         "Deutschland",
         "2012-09",
         "20677647.0"
        ],
        [
         "9",
         "M",
         "Monatlich",
         "DOM",
         "Inland",
         "NR",
         "Anzahl",
         "I551",
         "Hotels, Gasthöfe und Pensionen",
         "DE",
         "Deutschland",
         "2012-10",
         "18473660.0"
        ],
        [
         "10",
         "M",
         "Monatlich",
         "DOM",
         "Inland",
         "NR",
         "Anzahl",
         "I551",
         "Hotels, Gasthöfe und Pensionen",
         "DE",
         "Deutschland",
         "2012-11",
         "13687385.0"
        ],
        [
         "11",
         "M",
         "Monatlich",
         "DOM",
         "Inland",
         "NR",
         "Anzahl",
         "I551",
         "Hotels, Gasthöfe und Pensionen",
         "DE",
         "Deutschland",
         "2012-12",
         "13048683.0"
        ],
        [
         "12",
         "M",
         "Monatlich",
         "DOM",
         "Inland",
         "NR",
         "Anzahl",
         "I551",
         "Hotels, Gasthöfe und Pensionen",
         "DE",
         "Deutschland",
         "2013-01",
         "11115403.0"
        ],
        [
         "13",
         "M",
         "Monatlich",
         "DOM",
         "Inland",
         "NR",
         "Anzahl",
         "I551",
         "Hotels, Gasthöfe und Pensionen",
         "DE",
         "Deutschland",
         "2013-02",
         "11879065.0"
        ],
        [
         "14",
         "M",
         "Monatlich",
         "DOM",
         "Inland",
         "NR",
         "Anzahl",
         "I551",
         "Hotels, Gasthöfe und Pensionen",
         "DE",
         "Deutschland",
         "2013-03",
         "14435053.0"
        ],
        [
         "15",
         "M",
         "Monatlich",
         "DOM",
         "Inland",
         "NR",
         "Anzahl",
         "I551",
         "Hotels, Gasthöfe und Pensionen",
         "DE",
         "Deutschland",
         "2013-04",
         "14772131.0"
        ],
        [
         "16",
         "M",
         "Monatlich",
         "DOM",
         "Inland",
         "NR",
         "Anzahl",
         "I551",
         "Hotels, Gasthöfe und Pensionen",
         "DE",
         "Deutschland",
         "2013-05",
         "18641212.0"
        ],
        [
         "17",
         "M",
         "Monatlich",
         "DOM",
         "Inland",
         "NR",
         "Anzahl",
         "I551",
         "Hotels, Gasthöfe und Pensionen",
         "DE",
         "Deutschland",
         "2013-06",
         "18452404.0"
        ],
        [
         "18",
         "M",
         "Monatlich",
         "DOM",
         "Inland",
         "NR",
         "Anzahl",
         "I551",
         "Hotels, Gasthöfe und Pensionen",
         "DE",
         "Deutschland",
         "2013-07",
         "19788757.0"
        ],
        [
         "19",
         "M",
         "Monatlich",
         "DOM",
         "Inland",
         "NR",
         "Anzahl",
         "I551",
         "Hotels, Gasthöfe und Pensionen",
         "DE",
         "Deutschland",
         "2013-08",
         "21156478.0"
        ],
        [
         "20",
         "M",
         "Monatlich",
         "DOM",
         "Inland",
         "NR",
         "Anzahl",
         "I551",
         "Hotels, Gasthöfe und Pensionen",
         "DE",
         "Deutschland",
         "2013-09",
         "20286746.0"
        ],
        [
         "21",
         "M",
         "Monatlich",
         "DOM",
         "Inland",
         "NR",
         "Anzahl",
         "I551",
         "Hotels, Gasthöfe und Pensionen",
         "DE",
         "Deutschland",
         "2013-10",
         "19138829.0"
        ],
        [
         "22",
         "M",
         "Monatlich",
         "DOM",
         "Inland",
         "NR",
         "Anzahl",
         "I551",
         "Hotels, Gasthöfe und Pensionen",
         "DE",
         "Deutschland",
         "2013-11",
         "14074469.0"
        ],
        [
         "23",
         "M",
         "Monatlich",
         "DOM",
         "Inland",
         "NR",
         "Anzahl",
         "I551",
         "Hotels, Gasthöfe und Pensionen",
         "DE",
         "Deutschland",
         "2013-12",
         "13127938.0"
        ],
        [
         "24",
         "M",
         "Monatlich",
         "DOM",
         "Inland",
         "NR",
         "Anzahl",
         "I551",
         "Hotels, Gasthöfe und Pensionen",
         "DE",
         "Deutschland",
         "2014-01",
         "11248641.0"
        ],
        [
         "25",
         "M",
         "Monatlich",
         "DOM",
         "Inland",
         "NR",
         "Anzahl",
         "I551",
         "Hotels, Gasthöfe und Pensionen",
         "DE",
         "Deutschland",
         "2014-02",
         "11942593.0"
        ],
        [
         "26",
         "M",
         "Monatlich",
         "DOM",
         "Inland",
         "NR",
         "Anzahl",
         "I551",
         "Hotels, Gasthöfe und Pensionen",
         "DE",
         "Deutschland",
         "2014-03",
         "14386635.0"
        ],
        [
         "27",
         "M",
         "Monatlich",
         "DOM",
         "Inland",
         "NR",
         "Anzahl",
         "I551",
         "Hotels, Gasthöfe und Pensionen",
         "DE",
         "Deutschland",
         "2014-04",
         "15631416.0"
        ],
        [
         "28",
         "M",
         "Monatlich",
         "DOM",
         "Inland",
         "NR",
         "Anzahl",
         "I551",
         "Hotels, Gasthöfe und Pensionen",
         "DE",
         "Deutschland",
         "2014-05",
         "19281358.0"
        ],
        [
         "29",
         "M",
         "Monatlich",
         "DOM",
         "Inland",
         "NR",
         "Anzahl",
         "I551",
         "Hotels, Gasthöfe und Pensionen",
         "DE",
         "Deutschland",
         "2014-06",
         "19038903.0"
        ],
        [
         "30",
         "M",
         "Monatlich",
         "DOM",
         "Inland",
         "NR",
         "Anzahl",
         "I551",
         "Hotels, Gasthöfe und Pensionen",
         "DE",
         "Deutschland",
         "2014-07",
         "19574882.0"
        ],
        [
         "31",
         "M",
         "Monatlich",
         "DOM",
         "Inland",
         "NR",
         "Anzahl",
         "I551",
         "Hotels, Gasthöfe und Pensionen",
         "DE",
         "Deutschland",
         "2014-08",
         "21892529.0"
        ],
        [
         "32",
         "M",
         "Monatlich",
         "DOM",
         "Inland",
         "NR",
         "Anzahl",
         "I551",
         "Hotels, Gasthöfe und Pensionen",
         "DE",
         "Deutschland",
         "2014-09",
         "20827544.0"
        ],
        [
         "33",
         "M",
         "Monatlich",
         "DOM",
         "Inland",
         "NR",
         "Anzahl",
         "I551",
         "Hotels, Gasthöfe und Pensionen",
         "DE",
         "Deutschland",
         "2014-10",
         "19988421.0"
        ],
        [
         "34",
         "M",
         "Monatlich",
         "DOM",
         "Inland",
         "NR",
         "Anzahl",
         "I551",
         "Hotels, Gasthöfe und Pensionen",
         "DE",
         "Deutschland",
         "2014-11",
         "14527945.0"
        ],
        [
         "35",
         "M",
         "Monatlich",
         "DOM",
         "Inland",
         "NR",
         "Anzahl",
         "I551",
         "Hotels, Gasthöfe und Pensionen",
         "DE",
         "Deutschland",
         "2014-12",
         "13797418.0"
        ],
        [
         "36",
         "M",
         "Monatlich",
         "DOM",
         "Inland",
         "NR",
         "Anzahl",
         "I551",
         "Hotels, Gasthöfe und Pensionen",
         "DE",
         "Deutschland",
         "2015-01",
         "11556578.0"
        ],
        [
         "37",
         "M",
         "Monatlich",
         "DOM",
         "Inland",
         "NR",
         "Anzahl",
         "I551",
         "Hotels, Gasthöfe und Pensionen",
         "DE",
         "Deutschland",
         "2015-02",
         "12661791.0"
        ],
        [
         "38",
         "M",
         "Monatlich",
         "DOM",
         "Inland",
         "NR",
         "Anzahl",
         "I551",
         "Hotels, Gasthöfe und Pensionen",
         "DE",
         "Deutschland",
         "2015-03",
         "14900948.0"
        ],
        [
         "39",
         "M",
         "Monatlich",
         "DOM",
         "Inland",
         "NR",
         "Anzahl",
         "I551",
         "Hotels, Gasthöfe und Pensionen",
         "DE",
         "Deutschland",
         "2015-04",
         "15964041.0"
        ],
        [
         "40",
         "M",
         "Monatlich",
         "DOM",
         "Inland",
         "NR",
         "Anzahl",
         "I551",
         "Hotels, Gasthöfe und Pensionen",
         "DE",
         "Deutschland",
         "2015-05",
         "19746072.0"
        ],
        [
         "41",
         "M",
         "Monatlich",
         "DOM",
         "Inland",
         "NR",
         "Anzahl",
         "I551",
         "Hotels, Gasthöfe und Pensionen",
         "DE",
         "Deutschland",
         "2015-06",
         "19781740.0"
        ],
        [
         "42",
         "M",
         "Monatlich",
         "DOM",
         "Inland",
         "NR",
         "Anzahl",
         "I551",
         "Hotels, Gasthöfe und Pensionen",
         "DE",
         "Deutschland",
         "2015-07",
         "20464287.0"
        ],
        [
         "43",
         "M",
         "Monatlich",
         "DOM",
         "Inland",
         "NR",
         "Anzahl",
         "I551",
         "Hotels, Gasthöfe und Pensionen",
         "DE",
         "Deutschland",
         "2015-08",
         "22110010.0"
        ],
        [
         "44",
         "M",
         "Monatlich",
         "DOM",
         "Inland",
         "NR",
         "Anzahl",
         "I551",
         "Hotels, Gasthöfe und Pensionen",
         "DE",
         "Deutschland",
         "2015-09",
         "21225480.0"
        ],
        [
         "45",
         "M",
         "Monatlich",
         "DOM",
         "Inland",
         "NR",
         "Anzahl",
         "I551",
         "Hotels, Gasthöfe und Pensionen",
         "DE",
         "Deutschland",
         "2015-10",
         "20110010.0"
        ],
        [
         "46",
         "M",
         "Monatlich",
         "DOM",
         "Inland",
         "NR",
         "Anzahl",
         "I551",
         "Hotels, Gasthöfe und Pensionen",
         "DE",
         "Deutschland",
         "2015-11",
         "15011587.0"
        ],
        [
         "47",
         "M",
         "Monatlich",
         "DOM",
         "Inland",
         "NR",
         "Anzahl",
         "I551",
         "Hotels, Gasthöfe und Pensionen",
         "DE",
         "Deutschland",
         "2015-12",
         "14080853.0"
        ],
        [
         "48",
         "M",
         "Monatlich",
         "DOM",
         "Inland",
         "NR",
         "Anzahl",
         "I551",
         "Hotels, Gasthöfe und Pensionen",
         "DE",
         "Deutschland",
         "2016-01",
         "11974553.0"
        ],
        [
         "49",
         "M",
         "Monatlich",
         "DOM",
         "Inland",
         "NR",
         "Anzahl",
         "I551",
         "Hotels, Gasthöfe und Pensionen",
         "DE",
         "Deutschland",
         "2016-02",
         "13348057.0"
        ]
       ],
       "shape": {
        "columns": 12,
        "rows": 9716
       }
      },
      "text/html": [
       "<div>\n",
       "<style scoped>\n",
       "    .dataframe tbody tr th:only-of-type {\n",
       "        vertical-align: middle;\n",
       "    }\n",
       "\n",
       "    .dataframe tbody tr th {\n",
       "        vertical-align: top;\n",
       "    }\n",
       "\n",
       "    .dataframe thead th {\n",
       "        text-align: right;\n",
       "    }\n",
       "</style>\n",
       "<table border=\"1\" class=\"dataframe\">\n",
       "  <thead>\n",
       "    <tr style=\"text-align: right;\">\n",
       "      <th></th>\n",
       "      <th>Zeitliche_Frequenz_Idx</th>\n",
       "      <th>Zeitliche_Frequenz</th>\n",
       "      <th>Aufenthaltsland_Idx</th>\n",
       "      <th>Aufenthaltsland</th>\n",
       "      <th>Maßeinheit_Idx</th>\n",
       "      <th>Maßeinheit</th>\n",
       "      <th>NACEr2_Idx</th>\n",
       "      <th>NACEr2</th>\n",
       "      <th>Geopolitische_Meldeeinheit_Idx</th>\n",
       "      <th>Geopolitische_Meldeeinheit</th>\n",
       "      <th>JahrMonat</th>\n",
       "      <th>value</th>\n",
       "    </tr>\n",
       "  </thead>\n",
       "  <tbody>\n",
       "    <tr>\n",
       "      <th>0</th>\n",
       "      <td>M</td>\n",
       "      <td>Monatlich</td>\n",
       "      <td>DOM</td>\n",
       "      <td>Inland</td>\n",
       "      <td>NR</td>\n",
       "      <td>Anzahl</td>\n",
       "      <td>I551</td>\n",
       "      <td>Hotels, Gasthöfe und Pensionen</td>\n",
       "      <td>DE</td>\n",
       "      <td>Deutschland</td>\n",
       "      <td>2012-01</td>\n",
       "      <td>11022604.0</td>\n",
       "    </tr>\n",
       "    <tr>\n",
       "      <th>1</th>\n",
       "      <td>M</td>\n",
       "      <td>Monatlich</td>\n",
       "      <td>DOM</td>\n",
       "      <td>Inland</td>\n",
       "      <td>NR</td>\n",
       "      <td>Anzahl</td>\n",
       "      <td>I551</td>\n",
       "      <td>Hotels, Gasthöfe und Pensionen</td>\n",
       "      <td>DE</td>\n",
       "      <td>Deutschland</td>\n",
       "      <td>2012-02</td>\n",
       "      <td>11916641.0</td>\n",
       "    </tr>\n",
       "    <tr>\n",
       "      <th>2</th>\n",
       "      <td>M</td>\n",
       "      <td>Monatlich</td>\n",
       "      <td>DOM</td>\n",
       "      <td>Inland</td>\n",
       "      <td>NR</td>\n",
       "      <td>Anzahl</td>\n",
       "      <td>I551</td>\n",
       "      <td>Hotels, Gasthöfe und Pensionen</td>\n",
       "      <td>DE</td>\n",
       "      <td>Deutschland</td>\n",
       "      <td>2012-03</td>\n",
       "      <td>14018007.0</td>\n",
       "    </tr>\n",
       "    <tr>\n",
       "      <th>3</th>\n",
       "      <td>M</td>\n",
       "      <td>Monatlich</td>\n",
       "      <td>DOM</td>\n",
       "      <td>Inland</td>\n",
       "      <td>NR</td>\n",
       "      <td>Anzahl</td>\n",
       "      <td>I551</td>\n",
       "      <td>Hotels, Gasthöfe und Pensionen</td>\n",
       "      <td>DE</td>\n",
       "      <td>Deutschland</td>\n",
       "      <td>2012-04</td>\n",
       "      <td>15472920.0</td>\n",
       "    </tr>\n",
       "    <tr>\n",
       "      <th>4</th>\n",
       "      <td>M</td>\n",
       "      <td>Monatlich</td>\n",
       "      <td>DOM</td>\n",
       "      <td>Inland</td>\n",
       "      <td>NR</td>\n",
       "      <td>Anzahl</td>\n",
       "      <td>I551</td>\n",
       "      <td>Hotels, Gasthöfe und Pensionen</td>\n",
       "      <td>DE</td>\n",
       "      <td>Deutschland</td>\n",
       "      <td>2012-05</td>\n",
       "      <td>18319333.0</td>\n",
       "    </tr>\n",
       "    <tr>\n",
       "      <th>...</th>\n",
       "      <td>...</td>\n",
       "      <td>...</td>\n",
       "      <td>...</td>\n",
       "      <td>...</td>\n",
       "      <td>...</td>\n",
       "      <td>...</td>\n",
       "      <td>...</td>\n",
       "      <td>...</td>\n",
       "      <td>...</td>\n",
       "      <td>...</td>\n",
       "      <td>...</td>\n",
       "      <td>...</td>\n",
       "    </tr>\n",
       "    <tr>\n",
       "      <th>16290</th>\n",
       "      <td>M</td>\n",
       "      <td>Monatlich</td>\n",
       "      <td>FOR</td>\n",
       "      <td>Ausland</td>\n",
       "      <td>NR</td>\n",
       "      <td>Anzahl</td>\n",
       "      <td>I553</td>\n",
       "      <td>Campingplätze</td>\n",
       "      <td>SE</td>\n",
       "      <td>Schweden</td>\n",
       "      <td>2025-02</td>\n",
       "      <td>54382.0</td>\n",
       "    </tr>\n",
       "    <tr>\n",
       "      <th>16291</th>\n",
       "      <td>M</td>\n",
       "      <td>Monatlich</td>\n",
       "      <td>FOR</td>\n",
       "      <td>Ausland</td>\n",
       "      <td>NR</td>\n",
       "      <td>Anzahl</td>\n",
       "      <td>I553</td>\n",
       "      <td>Campingplätze</td>\n",
       "      <td>SE</td>\n",
       "      <td>Schweden</td>\n",
       "      <td>2025-03</td>\n",
       "      <td>53157.0</td>\n",
       "    </tr>\n",
       "    <tr>\n",
       "      <th>16292</th>\n",
       "      <td>M</td>\n",
       "      <td>Monatlich</td>\n",
       "      <td>FOR</td>\n",
       "      <td>Ausland</td>\n",
       "      <td>NR</td>\n",
       "      <td>Anzahl</td>\n",
       "      <td>I553</td>\n",
       "      <td>Campingplätze</td>\n",
       "      <td>SE</td>\n",
       "      <td>Schweden</td>\n",
       "      <td>2025-04</td>\n",
       "      <td>101956.0</td>\n",
       "    </tr>\n",
       "    <tr>\n",
       "      <th>16293</th>\n",
       "      <td>M</td>\n",
       "      <td>Monatlich</td>\n",
       "      <td>FOR</td>\n",
       "      <td>Ausland</td>\n",
       "      <td>NR</td>\n",
       "      <td>Anzahl</td>\n",
       "      <td>I553</td>\n",
       "      <td>Campingplätze</td>\n",
       "      <td>SE</td>\n",
       "      <td>Schweden</td>\n",
       "      <td>2025-05</td>\n",
       "      <td>249936.0</td>\n",
       "    </tr>\n",
       "    <tr>\n",
       "      <th>16294</th>\n",
       "      <td>M</td>\n",
       "      <td>Monatlich</td>\n",
       "      <td>FOR</td>\n",
       "      <td>Ausland</td>\n",
       "      <td>NR</td>\n",
       "      <td>Anzahl</td>\n",
       "      <td>I553</td>\n",
       "      <td>Campingplätze</td>\n",
       "      <td>SE</td>\n",
       "      <td>Schweden</td>\n",
       "      <td>2025-06</td>\n",
       "      <td>687015.0</td>\n",
       "    </tr>\n",
       "  </tbody>\n",
       "</table>\n",
       "<p>9716 rows × 12 columns</p>\n",
       "</div>"
      ],
      "text/plain": [
       "      Zeitliche_Frequenz_Idx Zeitliche_Frequenz Aufenthaltsland_Idx  \\\n",
       "0                          M          Monatlich                 DOM   \n",
       "1                          M          Monatlich                 DOM   \n",
       "2                          M          Monatlich                 DOM   \n",
       "3                          M          Monatlich                 DOM   \n",
       "4                          M          Monatlich                 DOM   \n",
       "...                      ...                ...                 ...   \n",
       "16290                      M          Monatlich                 FOR   \n",
       "16291                      M          Monatlich                 FOR   \n",
       "16292                      M          Monatlich                 FOR   \n",
       "16293                      M          Monatlich                 FOR   \n",
       "16294                      M          Monatlich                 FOR   \n",
       "\n",
       "      Aufenthaltsland Maßeinheit_Idx Maßeinheit NACEr2_Idx  \\\n",
       "0              Inland             NR     Anzahl       I551   \n",
       "1              Inland             NR     Anzahl       I551   \n",
       "2              Inland             NR     Anzahl       I551   \n",
       "3              Inland             NR     Anzahl       I551   \n",
       "4              Inland             NR     Anzahl       I551   \n",
       "...               ...            ...        ...        ...   \n",
       "16290         Ausland             NR     Anzahl       I553   \n",
       "16291         Ausland             NR     Anzahl       I553   \n",
       "16292         Ausland             NR     Anzahl       I553   \n",
       "16293         Ausland             NR     Anzahl       I553   \n",
       "16294         Ausland             NR     Anzahl       I553   \n",
       "\n",
       "                               NACEr2 Geopolitische_Meldeeinheit_Idx  \\\n",
       "0      Hotels, Gasthöfe und Pensionen                             DE   \n",
       "1      Hotels, Gasthöfe und Pensionen                             DE   \n",
       "2      Hotels, Gasthöfe und Pensionen                             DE   \n",
       "3      Hotels, Gasthöfe und Pensionen                             DE   \n",
       "4      Hotels, Gasthöfe und Pensionen                             DE   \n",
       "...                               ...                            ...   \n",
       "16290                   Campingplätze                             SE   \n",
       "16291                   Campingplätze                             SE   \n",
       "16292                   Campingplätze                             SE   \n",
       "16293                   Campingplätze                             SE   \n",
       "16294                   Campingplätze                             SE   \n",
       "\n",
       "      Geopolitische_Meldeeinheit JahrMonat       value  \n",
       "0                    Deutschland   2012-01  11022604.0  \n",
       "1                    Deutschland   2012-02  11916641.0  \n",
       "2                    Deutschland   2012-03  14018007.0  \n",
       "3                    Deutschland   2012-04  15472920.0  \n",
       "4                    Deutschland   2012-05  18319333.0  \n",
       "...                          ...       ...         ...  \n",
       "16290                   Schweden   2025-02     54382.0  \n",
       "16291                   Schweden   2025-03     53157.0  \n",
       "16292                   Schweden   2025-04    101956.0  \n",
       "16293                   Schweden   2025-05    249936.0  \n",
       "16294                   Schweden   2025-06    687015.0  \n",
       "\n",
       "[9716 rows x 12 columns]"
      ]
     },
     "metadata": {},
     "output_type": "display_data"
    }
   ],
   "source": [
    "display(df_anzahl)"
   ]
  },
  {
   "cell_type": "code",
   "execution_count": 5,
   "id": "8eb94ba9",
   "metadata": {},
   "outputs": [
    {
     "data": {
      "application/vnd.microsoft.datawrangler.viewer.v0+json": {
       "columns": [
        {
         "name": "index",
         "rawType": "int64",
         "type": "integer"
        },
        {
         "name": "Zeitliche_Frequenz_Idx",
         "rawType": "object",
         "type": "string"
        },
        {
         "name": "Zeitliche_Frequenz",
         "rawType": "object",
         "type": "string"
        },
        {
         "name": "Aufenthaltsland_Idx",
         "rawType": "object",
         "type": "string"
        },
        {
         "name": "Aufenthaltsland",
         "rawType": "object",
         "type": "string"
        },
        {
         "name": "Maßeinheit_Idx",
         "rawType": "object",
         "type": "string"
        },
        {
         "name": "Maßeinheit",
         "rawType": "object",
         "type": "string"
        },
        {
         "name": "NACEr2_Idx",
         "rawType": "object",
         "type": "string"
        },
        {
         "name": "NACEr2",
         "rawType": "object",
         "type": "string"
        },
        {
         "name": "Geopolitische_Meldeeinheit_Idx",
         "rawType": "object",
         "type": "string"
        },
        {
         "name": "Geopolitische_Meldeeinheit",
         "rawType": "object",
         "type": "string"
        },
        {
         "name": "JahrMonat",
         "rawType": "object",
         "type": "string"
        },
        {
         "name": "value",
         "rawType": "float64",
         "type": "float"
        }
       ],
       "ref": "ff8cf57d-ac68-4eb8-9fb1-f29399f82b0b",
       "rows": [
        [
         "4858",
         "M",
         "Monatlich",
         "DOM",
         "Inland",
         "PCH_SM",
         "Veränderung in Prozent gegenüber dem Vorjahreszeitraum",
         "I551",
         "Hotels, Gasthöfe und Pensionen",
         "DE",
         "Deutschland",
         "2012-01",
         "5.31"
        ],
        [
         "4859",
         "M",
         "Monatlich",
         "DOM",
         "Inland",
         "PCH_SM",
         "Veränderung in Prozent gegenüber dem Vorjahreszeitraum",
         "I551",
         "Hotels, Gasthöfe und Pensionen",
         "DE",
         "Deutschland",
         "2012-02",
         "10.18"
        ],
        [
         "4860",
         "M",
         "Monatlich",
         "DOM",
         "Inland",
         "PCH_SM",
         "Veränderung in Prozent gegenüber dem Vorjahreszeitraum",
         "I551",
         "Hotels, Gasthöfe und Pensionen",
         "DE",
         "Deutschland",
         "2012-03",
         "6.15"
        ],
        [
         "4861",
         "M",
         "Monatlich",
         "DOM",
         "Inland",
         "PCH_SM",
         "Veränderung in Prozent gegenüber dem Vorjahreszeitraum",
         "I551",
         "Hotels, Gasthöfe und Pensionen",
         "DE",
         "Deutschland",
         "2012-04",
         "3.93"
        ],
        [
         "4862",
         "M",
         "Monatlich",
         "DOM",
         "Inland",
         "PCH_SM",
         "Veränderung in Prozent gegenüber dem Vorjahreszeitraum",
         "I551",
         "Hotels, Gasthöfe und Pensionen",
         "DE",
         "Deutschland",
         "2012-05",
         "4.37"
        ],
        [
         "4863",
         "M",
         "Monatlich",
         "DOM",
         "Inland",
         "PCH_SM",
         "Veränderung in Prozent gegenüber dem Vorjahreszeitraum",
         "I551",
         "Hotels, Gasthöfe und Pensionen",
         "DE",
         "Deutschland",
         "2012-06",
         "-1.16"
        ],
        [
         "4864",
         "M",
         "Monatlich",
         "DOM",
         "Inland",
         "PCH_SM",
         "Veränderung in Prozent gegenüber dem Vorjahreszeitraum",
         "I551",
         "Hotels, Gasthöfe und Pensionen",
         "DE",
         "Deutschland",
         "2012-07",
         "-0.25"
        ],
        [
         "4865",
         "M",
         "Monatlich",
         "DOM",
         "Inland",
         "PCH_SM",
         "Veränderung in Prozent gegenüber dem Vorjahreszeitraum",
         "I551",
         "Hotels, Gasthöfe und Pensionen",
         "DE",
         "Deutschland",
         "2012-08",
         "2.91"
        ],
        [
         "4866",
         "M",
         "Monatlich",
         "DOM",
         "Inland",
         "PCH_SM",
         "Veränderung in Prozent gegenüber dem Vorjahreszeitraum",
         "I551",
         "Hotels, Gasthöfe und Pensionen",
         "DE",
         "Deutschland",
         "2012-09",
         "3.45"
        ],
        [
         "4867",
         "M",
         "Monatlich",
         "DOM",
         "Inland",
         "PCH_SM",
         "Veränderung in Prozent gegenüber dem Vorjahreszeitraum",
         "I551",
         "Hotels, Gasthöfe und Pensionen",
         "DE",
         "Deutschland",
         "2012-10",
         "-1.18"
        ],
        [
         "4868",
         "M",
         "Monatlich",
         "DOM",
         "Inland",
         "PCH_SM",
         "Veränderung in Prozent gegenüber dem Vorjahreszeitraum",
         "I551",
         "Hotels, Gasthöfe und Pensionen",
         "DE",
         "Deutschland",
         "2012-11",
         "1.87"
        ],
        [
         "4869",
         "M",
         "Monatlich",
         "DOM",
         "Inland",
         "PCH_SM",
         "Veränderung in Prozent gegenüber dem Vorjahreszeitraum",
         "I551",
         "Hotels, Gasthöfe und Pensionen",
         "DE",
         "Deutschland",
         "2012-12",
         "5.7"
        ],
        [
         "4870",
         "M",
         "Monatlich",
         "DOM",
         "Inland",
         "PCH_SM",
         "Veränderung in Prozent gegenüber dem Vorjahreszeitraum",
         "I551",
         "Hotels, Gasthöfe und Pensionen",
         "DE",
         "Deutschland",
         "2013-01",
         "0.84"
        ],
        [
         "4871",
         "M",
         "Monatlich",
         "DOM",
         "Inland",
         "PCH_SM",
         "Veränderung in Prozent gegenüber dem Vorjahreszeitraum",
         "I551",
         "Hotels, Gasthöfe und Pensionen",
         "DE",
         "Deutschland",
         "2013-02",
         "-0.32"
        ],
        [
         "4872",
         "M",
         "Monatlich",
         "DOM",
         "Inland",
         "PCH_SM",
         "Veränderung in Prozent gegenüber dem Vorjahreszeitraum",
         "I551",
         "Hotels, Gasthöfe und Pensionen",
         "DE",
         "Deutschland",
         "2013-03",
         "2.98"
        ],
        [
         "4873",
         "M",
         "Monatlich",
         "DOM",
         "Inland",
         "PCH_SM",
         "Veränderung in Prozent gegenüber dem Vorjahreszeitraum",
         "I551",
         "Hotels, Gasthöfe und Pensionen",
         "DE",
         "Deutschland",
         "2013-04",
         "-4.53"
        ],
        [
         "4874",
         "M",
         "Monatlich",
         "DOM",
         "Inland",
         "PCH_SM",
         "Veränderung in Prozent gegenüber dem Vorjahreszeitraum",
         "I551",
         "Hotels, Gasthöfe und Pensionen",
         "DE",
         "Deutschland",
         "2013-05",
         "1.76"
        ],
        [
         "4875",
         "M",
         "Monatlich",
         "DOM",
         "Inland",
         "PCH_SM",
         "Veränderung in Prozent gegenüber dem Vorjahreszeitraum",
         "I551",
         "Hotels, Gasthöfe und Pensionen",
         "DE",
         "Deutschland",
         "2013-06",
         "-0.18"
        ],
        [
         "4876",
         "M",
         "Monatlich",
         "DOM",
         "Inland",
         "PCH_SM",
         "Veränderung in Prozent gegenüber dem Vorjahreszeitraum",
         "I551",
         "Hotels, Gasthöfe und Pensionen",
         "DE",
         "Deutschland",
         "2013-07",
         "3.05"
        ],
        [
         "4877",
         "M",
         "Monatlich",
         "DOM",
         "Inland",
         "PCH_SM",
         "Veränderung in Prozent gegenüber dem Vorjahreszeitraum",
         "I551",
         "Hotels, Gasthöfe und Pensionen",
         "DE",
         "Deutschland",
         "2013-08",
         "2.54"
        ],
        [
         "4878",
         "M",
         "Monatlich",
         "DOM",
         "Inland",
         "PCH_SM",
         "Veränderung in Prozent gegenüber dem Vorjahreszeitraum",
         "I551",
         "Hotels, Gasthöfe und Pensionen",
         "DE",
         "Deutschland",
         "2013-09",
         "-1.89"
        ],
        [
         "4879",
         "M",
         "Monatlich",
         "DOM",
         "Inland",
         "PCH_SM",
         "Veränderung in Prozent gegenüber dem Vorjahreszeitraum",
         "I551",
         "Hotels, Gasthöfe und Pensionen",
         "DE",
         "Deutschland",
         "2013-10",
         "3.6"
        ],
        [
         "4880",
         "M",
         "Monatlich",
         "DOM",
         "Inland",
         "PCH_SM",
         "Veränderung in Prozent gegenüber dem Vorjahreszeitraum",
         "I551",
         "Hotels, Gasthöfe und Pensionen",
         "DE",
         "Deutschland",
         "2013-11",
         "2.83"
        ],
        [
         "4881",
         "M",
         "Monatlich",
         "DOM",
         "Inland",
         "PCH_SM",
         "Veränderung in Prozent gegenüber dem Vorjahreszeitraum",
         "I551",
         "Hotels, Gasthöfe und Pensionen",
         "DE",
         "Deutschland",
         "2013-12",
         "0.61"
        ],
        [
         "4882",
         "M",
         "Monatlich",
         "DOM",
         "Inland",
         "PCH_SM",
         "Veränderung in Prozent gegenüber dem Vorjahreszeitraum",
         "I551",
         "Hotels, Gasthöfe und Pensionen",
         "DE",
         "Deutschland",
         "2014-01",
         "1.2"
        ],
        [
         "4883",
         "M",
         "Monatlich",
         "DOM",
         "Inland",
         "PCH_SM",
         "Veränderung in Prozent gegenüber dem Vorjahreszeitraum",
         "I551",
         "Hotels, Gasthöfe und Pensionen",
         "DE",
         "Deutschland",
         "2014-02",
         "0.53"
        ],
        [
         "4884",
         "M",
         "Monatlich",
         "DOM",
         "Inland",
         "PCH_SM",
         "Veränderung in Prozent gegenüber dem Vorjahreszeitraum",
         "I551",
         "Hotels, Gasthöfe und Pensionen",
         "DE",
         "Deutschland",
         "2014-03",
         "-0.34"
        ],
        [
         "4885",
         "M",
         "Monatlich",
         "DOM",
         "Inland",
         "PCH_SM",
         "Veränderung in Prozent gegenüber dem Vorjahreszeitraum",
         "I551",
         "Hotels, Gasthöfe und Pensionen",
         "DE",
         "Deutschland",
         "2014-04",
         "5.82"
        ],
        [
         "4886",
         "M",
         "Monatlich",
         "DOM",
         "Inland",
         "PCH_SM",
         "Veränderung in Prozent gegenüber dem Vorjahreszeitraum",
         "I551",
         "Hotels, Gasthöfe und Pensionen",
         "DE",
         "Deutschland",
         "2014-05",
         "3.43"
        ],
        [
         "4887",
         "M",
         "Monatlich",
         "DOM",
         "Inland",
         "PCH_SM",
         "Veränderung in Prozent gegenüber dem Vorjahreszeitraum",
         "I551",
         "Hotels, Gasthöfe und Pensionen",
         "DE",
         "Deutschland",
         "2014-06",
         "3.18"
        ],
        [
         "4888",
         "M",
         "Monatlich",
         "DOM",
         "Inland",
         "PCH_SM",
         "Veränderung in Prozent gegenüber dem Vorjahreszeitraum",
         "I551",
         "Hotels, Gasthöfe und Pensionen",
         "DE",
         "Deutschland",
         "2014-07",
         "-1.08"
        ],
        [
         "4889",
         "M",
         "Monatlich",
         "DOM",
         "Inland",
         "PCH_SM",
         "Veränderung in Prozent gegenüber dem Vorjahreszeitraum",
         "I551",
         "Hotels, Gasthöfe und Pensionen",
         "DE",
         "Deutschland",
         "2014-08",
         "3.48"
        ],
        [
         "4890",
         "M",
         "Monatlich",
         "DOM",
         "Inland",
         "PCH_SM",
         "Veränderung in Prozent gegenüber dem Vorjahreszeitraum",
         "I551",
         "Hotels, Gasthöfe und Pensionen",
         "DE",
         "Deutschland",
         "2014-09",
         "2.67"
        ],
        [
         "4891",
         "M",
         "Monatlich",
         "DOM",
         "Inland",
         "PCH_SM",
         "Veränderung in Prozent gegenüber dem Vorjahreszeitraum",
         "I551",
         "Hotels, Gasthöfe und Pensionen",
         "DE",
         "Deutschland",
         "2014-10",
         "4.44"
        ],
        [
         "4892",
         "M",
         "Monatlich",
         "DOM",
         "Inland",
         "PCH_SM",
         "Veränderung in Prozent gegenüber dem Vorjahreszeitraum",
         "I551",
         "Hotels, Gasthöfe und Pensionen",
         "DE",
         "Deutschland",
         "2014-11",
         "3.22"
        ],
        [
         "4893",
         "M",
         "Monatlich",
         "DOM",
         "Inland",
         "PCH_SM",
         "Veränderung in Prozent gegenüber dem Vorjahreszeitraum",
         "I551",
         "Hotels, Gasthöfe und Pensionen",
         "DE",
         "Deutschland",
         "2014-12",
         "5.1"
        ],
        [
         "4894",
         "M",
         "Monatlich",
         "DOM",
         "Inland",
         "PCH_SM",
         "Veränderung in Prozent gegenüber dem Vorjahreszeitraum",
         "I551",
         "Hotels, Gasthöfe und Pensionen",
         "DE",
         "Deutschland",
         "2015-01",
         "2.74"
        ],
        [
         "4895",
         "M",
         "Monatlich",
         "DOM",
         "Inland",
         "PCH_SM",
         "Veränderung in Prozent gegenüber dem Vorjahreszeitraum",
         "I551",
         "Hotels, Gasthöfe und Pensionen",
         "DE",
         "Deutschland",
         "2015-02",
         "6.02"
        ],
        [
         "4896",
         "M",
         "Monatlich",
         "DOM",
         "Inland",
         "PCH_SM",
         "Veränderung in Prozent gegenüber dem Vorjahreszeitraum",
         "I551",
         "Hotels, Gasthöfe und Pensionen",
         "DE",
         "Deutschland",
         "2015-03",
         "3.57"
        ],
        [
         "4897",
         "M",
         "Monatlich",
         "DOM",
         "Inland",
         "PCH_SM",
         "Veränderung in Prozent gegenüber dem Vorjahreszeitraum",
         "I551",
         "Hotels, Gasthöfe und Pensionen",
         "DE",
         "Deutschland",
         "2015-04",
         "2.13"
        ],
        [
         "4898",
         "M",
         "Monatlich",
         "DOM",
         "Inland",
         "PCH_SM",
         "Veränderung in Prozent gegenüber dem Vorjahreszeitraum",
         "I551",
         "Hotels, Gasthöfe und Pensionen",
         "DE",
         "Deutschland",
         "2015-05",
         "2.41"
        ],
        [
         "4899",
         "M",
         "Monatlich",
         "DOM",
         "Inland",
         "PCH_SM",
         "Veränderung in Prozent gegenüber dem Vorjahreszeitraum",
         "I551",
         "Hotels, Gasthöfe und Pensionen",
         "DE",
         "Deutschland",
         "2015-06",
         "3.9"
        ],
        [
         "4900",
         "M",
         "Monatlich",
         "DOM",
         "Inland",
         "PCH_SM",
         "Veränderung in Prozent gegenüber dem Vorjahreszeitraum",
         "I551",
         "Hotels, Gasthöfe und Pensionen",
         "DE",
         "Deutschland",
         "2015-07",
         "4.54"
        ],
        [
         "4901",
         "M",
         "Monatlich",
         "DOM",
         "Inland",
         "PCH_SM",
         "Veränderung in Prozent gegenüber dem Vorjahreszeitraum",
         "I551",
         "Hotels, Gasthöfe und Pensionen",
         "DE",
         "Deutschland",
         "2015-08",
         "0.99"
        ],
        [
         "4902",
         "M",
         "Monatlich",
         "DOM",
         "Inland",
         "PCH_SM",
         "Veränderung in Prozent gegenüber dem Vorjahreszeitraum",
         "I551",
         "Hotels, Gasthöfe und Pensionen",
         "DE",
         "Deutschland",
         "2015-09",
         "1.91"
        ],
        [
         "4903",
         "M",
         "Monatlich",
         "DOM",
         "Inland",
         "PCH_SM",
         "Veränderung in Prozent gegenüber dem Vorjahreszeitraum",
         "I551",
         "Hotels, Gasthöfe und Pensionen",
         "DE",
         "Deutschland",
         "2015-10",
         "0.61"
        ],
        [
         "4904",
         "M",
         "Monatlich",
         "DOM",
         "Inland",
         "PCH_SM",
         "Veränderung in Prozent gegenüber dem Vorjahreszeitraum",
         "I551",
         "Hotels, Gasthöfe und Pensionen",
         "DE",
         "Deutschland",
         "2015-11",
         "3.33"
        ],
        [
         "4905",
         "M",
         "Monatlich",
         "DOM",
         "Inland",
         "PCH_SM",
         "Veränderung in Prozent gegenüber dem Vorjahreszeitraum",
         "I551",
         "Hotels, Gasthöfe und Pensionen",
         "DE",
         "Deutschland",
         "2015-12",
         "2.05"
        ],
        [
         "4906",
         "M",
         "Monatlich",
         "DOM",
         "Inland",
         "PCH_SM",
         "Veränderung in Prozent gegenüber dem Vorjahreszeitraum",
         "I551",
         "Hotels, Gasthöfe und Pensionen",
         "DE",
         "Deutschland",
         "2016-01",
         "3.62"
        ],
        [
         "4907",
         "M",
         "Monatlich",
         "DOM",
         "Inland",
         "PCH_SM",
         "Veränderung in Prozent gegenüber dem Vorjahreszeitraum",
         "I551",
         "Hotels, Gasthöfe und Pensionen",
         "DE",
         "Deutschland",
         "2016-02",
         "5.42"
        ]
       ],
       "shape": {
        "columns": 12,
        "rows": 9202
       }
      },
      "text/html": [
       "<div>\n",
       "<style scoped>\n",
       "    .dataframe tbody tr th:only-of-type {\n",
       "        vertical-align: middle;\n",
       "    }\n",
       "\n",
       "    .dataframe tbody tr th {\n",
       "        vertical-align: top;\n",
       "    }\n",
       "\n",
       "    .dataframe thead th {\n",
       "        text-align: right;\n",
       "    }\n",
       "</style>\n",
       "<table border=\"1\" class=\"dataframe\">\n",
       "  <thead>\n",
       "    <tr style=\"text-align: right;\">\n",
       "      <th></th>\n",
       "      <th>Zeitliche_Frequenz_Idx</th>\n",
       "      <th>Zeitliche_Frequenz</th>\n",
       "      <th>Aufenthaltsland_Idx</th>\n",
       "      <th>Aufenthaltsland</th>\n",
       "      <th>Maßeinheit_Idx</th>\n",
       "      <th>Maßeinheit</th>\n",
       "      <th>NACEr2_Idx</th>\n",
       "      <th>NACEr2</th>\n",
       "      <th>Geopolitische_Meldeeinheit_Idx</th>\n",
       "      <th>Geopolitische_Meldeeinheit</th>\n",
       "      <th>JahrMonat</th>\n",
       "      <th>value</th>\n",
       "    </tr>\n",
       "  </thead>\n",
       "  <tbody>\n",
       "    <tr>\n",
       "      <th>4858</th>\n",
       "      <td>M</td>\n",
       "      <td>Monatlich</td>\n",
       "      <td>DOM</td>\n",
       "      <td>Inland</td>\n",
       "      <td>PCH_SM</td>\n",
       "      <td>Veränderung in Prozent gegenüber dem Vorjahres...</td>\n",
       "      <td>I551</td>\n",
       "      <td>Hotels, Gasthöfe und Pensionen</td>\n",
       "      <td>DE</td>\n",
       "      <td>Deutschland</td>\n",
       "      <td>2012-01</td>\n",
       "      <td>5.31</td>\n",
       "    </tr>\n",
       "    <tr>\n",
       "      <th>4859</th>\n",
       "      <td>M</td>\n",
       "      <td>Monatlich</td>\n",
       "      <td>DOM</td>\n",
       "      <td>Inland</td>\n",
       "      <td>PCH_SM</td>\n",
       "      <td>Veränderung in Prozent gegenüber dem Vorjahres...</td>\n",
       "      <td>I551</td>\n",
       "      <td>Hotels, Gasthöfe und Pensionen</td>\n",
       "      <td>DE</td>\n",
       "      <td>Deutschland</td>\n",
       "      <td>2012-02</td>\n",
       "      <td>10.18</td>\n",
       "    </tr>\n",
       "    <tr>\n",
       "      <th>4860</th>\n",
       "      <td>M</td>\n",
       "      <td>Monatlich</td>\n",
       "      <td>DOM</td>\n",
       "      <td>Inland</td>\n",
       "      <td>PCH_SM</td>\n",
       "      <td>Veränderung in Prozent gegenüber dem Vorjahres...</td>\n",
       "      <td>I551</td>\n",
       "      <td>Hotels, Gasthöfe und Pensionen</td>\n",
       "      <td>DE</td>\n",
       "      <td>Deutschland</td>\n",
       "      <td>2012-03</td>\n",
       "      <td>6.15</td>\n",
       "    </tr>\n",
       "    <tr>\n",
       "      <th>4861</th>\n",
       "      <td>M</td>\n",
       "      <td>Monatlich</td>\n",
       "      <td>DOM</td>\n",
       "      <td>Inland</td>\n",
       "      <td>PCH_SM</td>\n",
       "      <td>Veränderung in Prozent gegenüber dem Vorjahres...</td>\n",
       "      <td>I551</td>\n",
       "      <td>Hotels, Gasthöfe und Pensionen</td>\n",
       "      <td>DE</td>\n",
       "      <td>Deutschland</td>\n",
       "      <td>2012-04</td>\n",
       "      <td>3.93</td>\n",
       "    </tr>\n",
       "    <tr>\n",
       "      <th>4862</th>\n",
       "      <td>M</td>\n",
       "      <td>Monatlich</td>\n",
       "      <td>DOM</td>\n",
       "      <td>Inland</td>\n",
       "      <td>PCH_SM</td>\n",
       "      <td>Veränderung in Prozent gegenüber dem Vorjahres...</td>\n",
       "      <td>I551</td>\n",
       "      <td>Hotels, Gasthöfe und Pensionen</td>\n",
       "      <td>DE</td>\n",
       "      <td>Deutschland</td>\n",
       "      <td>2012-05</td>\n",
       "      <td>4.37</td>\n",
       "    </tr>\n",
       "    <tr>\n",
       "      <th>...</th>\n",
       "      <td>...</td>\n",
       "      <td>...</td>\n",
       "      <td>...</td>\n",
       "      <td>...</td>\n",
       "      <td>...</td>\n",
       "      <td>...</td>\n",
       "      <td>...</td>\n",
       "      <td>...</td>\n",
       "      <td>...</td>\n",
       "      <td>...</td>\n",
       "      <td>...</td>\n",
       "      <td>...</td>\n",
       "    </tr>\n",
       "    <tr>\n",
       "      <th>20891</th>\n",
       "      <td>M</td>\n",
       "      <td>Monatlich</td>\n",
       "      <td>FOR</td>\n",
       "      <td>Ausland</td>\n",
       "      <td>PCH_SM</td>\n",
       "      <td>Veränderung in Prozent gegenüber dem Vorjahres...</td>\n",
       "      <td>I553</td>\n",
       "      <td>Campingplätze</td>\n",
       "      <td>SE</td>\n",
       "      <td>Schweden</td>\n",
       "      <td>2025-02</td>\n",
       "      <td>23.78</td>\n",
       "    </tr>\n",
       "    <tr>\n",
       "      <th>20892</th>\n",
       "      <td>M</td>\n",
       "      <td>Monatlich</td>\n",
       "      <td>FOR</td>\n",
       "      <td>Ausland</td>\n",
       "      <td>PCH_SM</td>\n",
       "      <td>Veränderung in Prozent gegenüber dem Vorjahres...</td>\n",
       "      <td>I553</td>\n",
       "      <td>Campingplätze</td>\n",
       "      <td>SE</td>\n",
       "      <td>Schweden</td>\n",
       "      <td>2025-03</td>\n",
       "      <td>-14.98</td>\n",
       "    </tr>\n",
       "    <tr>\n",
       "      <th>20893</th>\n",
       "      <td>M</td>\n",
       "      <td>Monatlich</td>\n",
       "      <td>FOR</td>\n",
       "      <td>Ausland</td>\n",
       "      <td>PCH_SM</td>\n",
       "      <td>Veränderung in Prozent gegenüber dem Vorjahres...</td>\n",
       "      <td>I553</td>\n",
       "      <td>Campingplätze</td>\n",
       "      <td>SE</td>\n",
       "      <td>Schweden</td>\n",
       "      <td>2025-04</td>\n",
       "      <td>85.36</td>\n",
       "    </tr>\n",
       "    <tr>\n",
       "      <th>20894</th>\n",
       "      <td>M</td>\n",
       "      <td>Monatlich</td>\n",
       "      <td>FOR</td>\n",
       "      <td>Ausland</td>\n",
       "      <td>PCH_SM</td>\n",
       "      <td>Veränderung in Prozent gegenüber dem Vorjahres...</td>\n",
       "      <td>I553</td>\n",
       "      <td>Campingplätze</td>\n",
       "      <td>SE</td>\n",
       "      <td>Schweden</td>\n",
       "      <td>2025-05</td>\n",
       "      <td>3.10</td>\n",
       "    </tr>\n",
       "    <tr>\n",
       "      <th>20895</th>\n",
       "      <td>M</td>\n",
       "      <td>Monatlich</td>\n",
       "      <td>FOR</td>\n",
       "      <td>Ausland</td>\n",
       "      <td>PCH_SM</td>\n",
       "      <td>Veränderung in Prozent gegenüber dem Vorjahres...</td>\n",
       "      <td>I553</td>\n",
       "      <td>Campingplätze</td>\n",
       "      <td>SE</td>\n",
       "      <td>Schweden</td>\n",
       "      <td>2025-06</td>\n",
       "      <td>4.77</td>\n",
       "    </tr>\n",
       "  </tbody>\n",
       "</table>\n",
       "<p>9202 rows × 12 columns</p>\n",
       "</div>"
      ],
      "text/plain": [
       "      Zeitliche_Frequenz_Idx Zeitliche_Frequenz Aufenthaltsland_Idx  \\\n",
       "4858                       M          Monatlich                 DOM   \n",
       "4859                       M          Monatlich                 DOM   \n",
       "4860                       M          Monatlich                 DOM   \n",
       "4861                       M          Monatlich                 DOM   \n",
       "4862                       M          Monatlich                 DOM   \n",
       "...                      ...                ...                 ...   \n",
       "20891                      M          Monatlich                 FOR   \n",
       "20892                      M          Monatlich                 FOR   \n",
       "20893                      M          Monatlich                 FOR   \n",
       "20894                      M          Monatlich                 FOR   \n",
       "20895                      M          Monatlich                 FOR   \n",
       "\n",
       "      Aufenthaltsland Maßeinheit_Idx  \\\n",
       "4858           Inland         PCH_SM   \n",
       "4859           Inland         PCH_SM   \n",
       "4860           Inland         PCH_SM   \n",
       "4861           Inland         PCH_SM   \n",
       "4862           Inland         PCH_SM   \n",
       "...               ...            ...   \n",
       "20891         Ausland         PCH_SM   \n",
       "20892         Ausland         PCH_SM   \n",
       "20893         Ausland         PCH_SM   \n",
       "20894         Ausland         PCH_SM   \n",
       "20895         Ausland         PCH_SM   \n",
       "\n",
       "                                              Maßeinheit NACEr2_Idx  \\\n",
       "4858   Veränderung in Prozent gegenüber dem Vorjahres...       I551   \n",
       "4859   Veränderung in Prozent gegenüber dem Vorjahres...       I551   \n",
       "4860   Veränderung in Prozent gegenüber dem Vorjahres...       I551   \n",
       "4861   Veränderung in Prozent gegenüber dem Vorjahres...       I551   \n",
       "4862   Veränderung in Prozent gegenüber dem Vorjahres...       I551   \n",
       "...                                                  ...        ...   \n",
       "20891  Veränderung in Prozent gegenüber dem Vorjahres...       I553   \n",
       "20892  Veränderung in Prozent gegenüber dem Vorjahres...       I553   \n",
       "20893  Veränderung in Prozent gegenüber dem Vorjahres...       I553   \n",
       "20894  Veränderung in Prozent gegenüber dem Vorjahres...       I553   \n",
       "20895  Veränderung in Prozent gegenüber dem Vorjahres...       I553   \n",
       "\n",
       "                               NACEr2 Geopolitische_Meldeeinheit_Idx  \\\n",
       "4858   Hotels, Gasthöfe und Pensionen                             DE   \n",
       "4859   Hotels, Gasthöfe und Pensionen                             DE   \n",
       "4860   Hotels, Gasthöfe und Pensionen                             DE   \n",
       "4861   Hotels, Gasthöfe und Pensionen                             DE   \n",
       "4862   Hotels, Gasthöfe und Pensionen                             DE   \n",
       "...                               ...                            ...   \n",
       "20891                   Campingplätze                             SE   \n",
       "20892                   Campingplätze                             SE   \n",
       "20893                   Campingplätze                             SE   \n",
       "20894                   Campingplätze                             SE   \n",
       "20895                   Campingplätze                             SE   \n",
       "\n",
       "      Geopolitische_Meldeeinheit JahrMonat  value  \n",
       "4858                 Deutschland   2012-01   5.31  \n",
       "4859                 Deutschland   2012-02  10.18  \n",
       "4860                 Deutschland   2012-03   6.15  \n",
       "4861                 Deutschland   2012-04   3.93  \n",
       "4862                 Deutschland   2012-05   4.37  \n",
       "...                          ...       ...    ...  \n",
       "20891                   Schweden   2025-02  23.78  \n",
       "20892                   Schweden   2025-03 -14.98  \n",
       "20893                   Schweden   2025-04  85.36  \n",
       "20894                   Schweden   2025-05   3.10  \n",
       "20895                   Schweden   2025-06   4.77  \n",
       "\n",
       "[9202 rows x 12 columns]"
      ]
     },
     "metadata": {},
     "output_type": "display_data"
    }
   ],
   "source": [
    "display(df_pch_sm)"
   ]
  },
  {
   "cell_type": "code",
   "execution_count": 6,
   "id": "c86c74f2",
   "metadata": {},
   "outputs": [
    {
     "data": {
      "application/vnd.microsoft.datawrangler.viewer.v0+json": {
       "columns": [
        {
         "name": "index",
         "rawType": "int64",
         "type": "integer"
        },
        {
         "name": "Zeitliche_Frequenz_Idx",
         "rawType": "object",
         "type": "string"
        },
        {
         "name": "Zeitliche_Frequenz",
         "rawType": "object",
         "type": "string"
        },
        {
         "name": "Aufenthaltsland_Idx",
         "rawType": "object",
         "type": "string"
        },
        {
         "name": "Aufenthaltsland",
         "rawType": "object",
         "type": "string"
        },
        {
         "name": "Maßeinheit_Idx",
         "rawType": "object",
         "type": "string"
        },
        {
         "name": "Maßeinheit",
         "rawType": "object",
         "type": "string"
        },
        {
         "name": "NACEr2_Idx",
         "rawType": "object",
         "type": "string"
        },
        {
         "name": "NACEr2",
         "rawType": "object",
         "type": "string"
        },
        {
         "name": "Geopolitische_Meldeeinheit_Idx",
         "rawType": "object",
         "type": "string"
        },
        {
         "name": "Geopolitische_Meldeeinheit",
         "rawType": "object",
         "type": "string"
        },
        {
         "name": "JahrMonat",
         "rawType": "object",
         "type": "string"
        },
        {
         "name": "value",
         "rawType": "float64",
         "type": "float"
        }
       ],
       "ref": "9f4eebd5-0a0e-4fc0-b9e5-851bac1c0bea",
       "rows": [
        [
         "9459",
         "M",
         "Monatlich",
         "DOM",
         "Inland",
         "PCH_SM_19",
         "Veränderung in Prozent gegenüber dem entsprechenden Monat in 2019",
         "I551",
         "Hotels, Gasthöfe und Pensionen",
         "DE",
         "Deutschland",
         "2020-01",
         "2.84"
        ],
        [
         "9460",
         "M",
         "Monatlich",
         "DOM",
         "Inland",
         "PCH_SM_19",
         "Veränderung in Prozent gegenüber dem entsprechenden Monat in 2019",
         "I551",
         "Hotels, Gasthöfe und Pensionen",
         "DE",
         "Deutschland",
         "2020-02",
         "7.72"
        ],
        [
         "9461",
         "M",
         "Monatlich",
         "DOM",
         "Inland",
         "PCH_SM_19",
         "Veränderung in Prozent gegenüber dem entsprechenden Monat in 2019",
         "I551",
         "Hotels, Gasthöfe und Pensionen",
         "DE",
         "Deutschland",
         "2020-03",
         "-55.11"
        ],
        [
         "9462",
         "M",
         "Monatlich",
         "DOM",
         "Inland",
         "PCH_SM_19",
         "Veränderung in Prozent gegenüber dem entsprechenden Monat in 2019",
         "I551",
         "Hotels, Gasthöfe und Pensionen",
         "DE",
         "Deutschland",
         "2020-04",
         "-89.48"
        ],
        [
         "9463",
         "M",
         "Monatlich",
         "DOM",
         "Inland",
         "PCH_SM_19",
         "Veränderung in Prozent gegenüber dem entsprechenden Monat in 2019",
         "I551",
         "Hotels, Gasthöfe und Pensionen",
         "DE",
         "Deutschland",
         "2020-05",
         "-78.47"
        ],
        [
         "9464",
         "M",
         "Monatlich",
         "DOM",
         "Inland",
         "PCH_SM_19",
         "Veränderung in Prozent gegenüber dem entsprechenden Monat in 2019",
         "I551",
         "Hotels, Gasthöfe und Pensionen",
         "DE",
         "Deutschland",
         "2020-06",
         "-43.72"
        ],
        [
         "9465",
         "M",
         "Monatlich",
         "DOM",
         "Inland",
         "PCH_SM_19",
         "Veränderung in Prozent gegenüber dem entsprechenden Monat in 2019",
         "I551",
         "Hotels, Gasthöfe und Pensionen",
         "DE",
         "Deutschland",
         "2020-07",
         "-19.05"
        ],
        [
         "9466",
         "M",
         "Monatlich",
         "DOM",
         "Inland",
         "PCH_SM_19",
         "Veränderung in Prozent gegenüber dem entsprechenden Monat in 2019",
         "I551",
         "Hotels, Gasthöfe und Pensionen",
         "DE",
         "Deutschland",
         "2020-08",
         "-10.04"
        ],
        [
         "9467",
         "M",
         "Monatlich",
         "DOM",
         "Inland",
         "PCH_SM_19",
         "Veränderung in Prozent gegenüber dem entsprechenden Monat in 2019",
         "I551",
         "Hotels, Gasthöfe und Pensionen",
         "DE",
         "Deutschland",
         "2020-09",
         "-10.78"
        ],
        [
         "9468",
         "M",
         "Monatlich",
         "DOM",
         "Inland",
         "PCH_SM_19",
         "Veränderung in Prozent gegenüber dem entsprechenden Monat in 2019",
         "I551",
         "Hotels, Gasthöfe und Pensionen",
         "DE",
         "Deutschland",
         "2020-10",
         "-26.4"
        ],
        [
         "9469",
         "M",
         "Monatlich",
         "DOM",
         "Inland",
         "PCH_SM_19",
         "Veränderung in Prozent gegenüber dem entsprechenden Monat in 2019",
         "I551",
         "Hotels, Gasthöfe und Pensionen",
         "DE",
         "Deutschland",
         "2020-11",
         "-76.76"
        ],
        [
         "9470",
         "M",
         "Monatlich",
         "DOM",
         "Inland",
         "PCH_SM_19",
         "Veränderung in Prozent gegenüber dem entsprechenden Monat in 2019",
         "I551",
         "Hotels, Gasthöfe und Pensionen",
         "DE",
         "Deutschland",
         "2020-12",
         "-82.62"
        ],
        [
         "9471",
         "M",
         "Monatlich",
         "DOM",
         "Inland",
         "PCH_SM_19",
         "Veränderung in Prozent gegenüber dem entsprechenden Monat in 2019",
         "I551",
         "Hotels, Gasthöfe und Pensionen",
         "DE",
         "Deutschland",
         "2021-01",
         "-80.01"
        ],
        [
         "9472",
         "M",
         "Monatlich",
         "DOM",
         "Inland",
         "PCH_SM_19",
         "Veränderung in Prozent gegenüber dem entsprechenden Monat in 2019",
         "I551",
         "Hotels, Gasthöfe und Pensionen",
         "DE",
         "Deutschland",
         "2021-02",
         "-78.24"
        ],
        [
         "9473",
         "M",
         "Monatlich",
         "DOM",
         "Inland",
         "PCH_SM_19",
         "Veränderung in Prozent gegenüber dem entsprechenden Monat in 2019",
         "I551",
         "Hotels, Gasthöfe und Pensionen",
         "DE",
         "Deutschland",
         "2021-03",
         "-76.01"
        ],
        [
         "9474",
         "M",
         "Monatlich",
         "DOM",
         "Inland",
         "PCH_SM_19",
         "Veränderung in Prozent gegenüber dem entsprechenden Monat in 2019",
         "I551",
         "Hotels, Gasthöfe und Pensionen",
         "DE",
         "Deutschland",
         "2021-04",
         "-80.46"
        ],
        [
         "9475",
         "M",
         "Monatlich",
         "DOM",
         "Inland",
         "PCH_SM_19",
         "Veränderung in Prozent gegenüber dem entsprechenden Monat in 2019",
         "I551",
         "Hotels, Gasthöfe und Pensionen",
         "DE",
         "Deutschland",
         "2021-05",
         "-74.35"
        ],
        [
         "9476",
         "M",
         "Monatlich",
         "DOM",
         "Inland",
         "PCH_SM_19",
         "Veränderung in Prozent gegenüber dem entsprechenden Monat in 2019",
         "I551",
         "Hotels, Gasthöfe und Pensionen",
         "DE",
         "Deutschland",
         "2021-06",
         "-41.53"
        ],
        [
         "9477",
         "M",
         "Monatlich",
         "DOM",
         "Inland",
         "PCH_SM_19",
         "Veränderung in Prozent gegenüber dem entsprechenden Monat in 2019",
         "I551",
         "Hotels, Gasthöfe und Pensionen",
         "DE",
         "Deutschland",
         "2021-07",
         "-11.53"
        ],
        [
         "9478",
         "M",
         "Monatlich",
         "DOM",
         "Inland",
         "PCH_SM_19",
         "Veränderung in Prozent gegenüber dem entsprechenden Monat in 2019",
         "I551",
         "Hotels, Gasthöfe und Pensionen",
         "DE",
         "Deutschland",
         "2021-08",
         "5.15"
        ],
        [
         "9479",
         "M",
         "Monatlich",
         "DOM",
         "Inland",
         "PCH_SM_19",
         "Veränderung in Prozent gegenüber dem entsprechenden Monat in 2019",
         "I551",
         "Hotels, Gasthöfe und Pensionen",
         "DE",
         "Deutschland",
         "2021-09",
         "-2.38"
        ],
        [
         "9480",
         "M",
         "Monatlich",
         "DOM",
         "Inland",
         "PCH_SM_19",
         "Veränderung in Prozent gegenüber dem entsprechenden Monat in 2019",
         "I551",
         "Hotels, Gasthöfe und Pensionen",
         "DE",
         "Deutschland",
         "2021-10",
         "-2.29"
        ],
        [
         "9481",
         "M",
         "Monatlich",
         "DOM",
         "Inland",
         "PCH_SM_19",
         "Veränderung in Prozent gegenüber dem entsprechenden Monat in 2019",
         "I551",
         "Hotels, Gasthöfe und Pensionen",
         "DE",
         "Deutschland",
         "2021-11",
         "-25.59"
        ],
        [
         "9482",
         "M",
         "Monatlich",
         "DOM",
         "Inland",
         "PCH_SM_19",
         "Veränderung in Prozent gegenüber dem entsprechenden Monat in 2019",
         "I551",
         "Hotels, Gasthöfe und Pensionen",
         "DE",
         "Deutschland",
         "2021-12",
         "-45.5"
        ],
        [
         "9483",
         "M",
         "Monatlich",
         "DOM",
         "Inland",
         "PCH_SM_19",
         "Veränderung in Prozent gegenüber dem entsprechenden Monat in 2019",
         "I551",
         "Hotels, Gasthöfe und Pensionen",
         "DE",
         "Deutschland",
         "2022-01",
         "-39.01"
        ],
        [
         "9484",
         "M",
         "Monatlich",
         "DOM",
         "Inland",
         "PCH_SM_19",
         "Veränderung in Prozent gegenüber dem entsprechenden Monat in 2019",
         "I551",
         "Hotels, Gasthöfe und Pensionen",
         "DE",
         "Deutschland",
         "2022-02",
         "-32.09"
        ],
        [
         "9485",
         "M",
         "Monatlich",
         "DOM",
         "Inland",
         "PCH_SM_19",
         "Veränderung in Prozent gegenüber dem entsprechenden Monat in 2019",
         "I551",
         "Hotels, Gasthöfe und Pensionen",
         "DE",
         "Deutschland",
         "2022-03",
         "-23.25"
        ],
        [
         "9486",
         "M",
         "Monatlich",
         "DOM",
         "Inland",
         "PCH_SM_19",
         "Veränderung in Prozent gegenüber dem entsprechenden Monat in 2019",
         "I551",
         "Hotels, Gasthöfe und Pensionen",
         "DE",
         "Deutschland",
         "2022-04",
         "-8.11"
        ],
        [
         "9487",
         "M",
         "Monatlich",
         "DOM",
         "Inland",
         "PCH_SM_19",
         "Veränderung in Prozent gegenüber dem entsprechenden Monat in 2019",
         "I551",
         "Hotels, Gasthöfe und Pensionen",
         "DE",
         "Deutschland",
         "2022-05",
         "-2.48"
        ],
        [
         "9488",
         "M",
         "Monatlich",
         "DOM",
         "Inland",
         "PCH_SM_19",
         "Veränderung in Prozent gegenüber dem entsprechenden Monat in 2019",
         "I551",
         "Hotels, Gasthöfe und Pensionen",
         "DE",
         "Deutschland",
         "2022-06",
         "0.34"
        ],
        [
         "9489",
         "M",
         "Monatlich",
         "DOM",
         "Inland",
         "PCH_SM_19",
         "Veränderung in Prozent gegenüber dem entsprechenden Monat in 2019",
         "I551",
         "Hotels, Gasthöfe und Pensionen",
         "DE",
         "Deutschland",
         "2022-07",
         "0.67"
        ],
        [
         "9490",
         "M",
         "Monatlich",
         "DOM",
         "Inland",
         "PCH_SM_19",
         "Veränderung in Prozent gegenüber dem entsprechenden Monat in 2019",
         "I551",
         "Hotels, Gasthöfe und Pensionen",
         "DE",
         "Deutschland",
         "2022-08",
         "2.42"
        ],
        [
         "9491",
         "M",
         "Monatlich",
         "DOM",
         "Inland",
         "PCH_SM_19",
         "Veränderung in Prozent gegenüber dem entsprechenden Monat in 2019",
         "I551",
         "Hotels, Gasthöfe und Pensionen",
         "DE",
         "Deutschland",
         "2022-09",
         "-1.02"
        ],
        [
         "9492",
         "M",
         "Monatlich",
         "DOM",
         "Inland",
         "PCH_SM_19",
         "Veränderung in Prozent gegenüber dem entsprechenden Monat in 2019",
         "I551",
         "Hotels, Gasthöfe und Pensionen",
         "DE",
         "Deutschland",
         "2022-10",
         "-2.9"
        ],
        [
         "9493",
         "M",
         "Monatlich",
         "DOM",
         "Inland",
         "PCH_SM_19",
         "Veränderung in Prozent gegenüber dem entsprechenden Monat in 2019",
         "I551",
         "Hotels, Gasthöfe und Pensionen",
         "DE",
         "Deutschland",
         "2022-11",
         "-8.9"
        ],
        [
         "9494",
         "M",
         "Monatlich",
         "DOM",
         "Inland",
         "PCH_SM_19",
         "Veränderung in Prozent gegenüber dem entsprechenden Monat in 2019",
         "I551",
         "Hotels, Gasthöfe und Pensionen",
         "DE",
         "Deutschland",
         "2022-12",
         "-10.84"
        ],
        [
         "9495",
         "M",
         "Monatlich",
         "DOM",
         "Inland",
         "PCH_SM_19",
         "Veränderung in Prozent gegenüber dem entsprechenden Monat in 2019",
         "I551",
         "Hotels, Gasthöfe und Pensionen",
         "DE",
         "Deutschland",
         "2023-01",
         "-7.75"
        ],
        [
         "9496",
         "M",
         "Monatlich",
         "DOM",
         "Inland",
         "PCH_SM_19",
         "Veränderung in Prozent gegenüber dem entsprechenden Monat in 2019",
         "I551",
         "Hotels, Gasthöfe und Pensionen",
         "DE",
         "Deutschland",
         "2023-02",
         "-4.63"
        ],
        [
         "9497",
         "M",
         "Monatlich",
         "DOM",
         "Inland",
         "PCH_SM_19",
         "Veränderung in Prozent gegenüber dem entsprechenden Monat in 2019",
         "I551",
         "Hotels, Gasthöfe und Pensionen",
         "DE",
         "Deutschland",
         "2023-03",
         "-3.43"
        ],
        [
         "9498",
         "M",
         "Monatlich",
         "DOM",
         "Inland",
         "PCH_SM_19",
         "Veränderung in Prozent gegenüber dem entsprechenden Monat in 2019",
         "I551",
         "Hotels, Gasthöfe und Pensionen",
         "DE",
         "Deutschland",
         "2023-04",
         "2.2"
        ],
        [
         "9499",
         "M",
         "Monatlich",
         "DOM",
         "Inland",
         "PCH_SM_19",
         "Veränderung in Prozent gegenüber dem entsprechenden Monat in 2019",
         "I551",
         "Hotels, Gasthöfe und Pensionen",
         "DE",
         "Deutschland",
         "2023-05",
         "1.19"
        ],
        [
         "9500",
         "M",
         "Monatlich",
         "DOM",
         "Inland",
         "PCH_SM_19",
         "Veränderung in Prozent gegenüber dem entsprechenden Monat in 2019",
         "I551",
         "Hotels, Gasthöfe und Pensionen",
         "DE",
         "Deutschland",
         "2023-06",
         "-0.16"
        ],
        [
         "9501",
         "M",
         "Monatlich",
         "DOM",
         "Inland",
         "PCH_SM_19",
         "Veränderung in Prozent gegenüber dem entsprechenden Monat in 2019",
         "I551",
         "Hotels, Gasthöfe und Pensionen",
         "DE",
         "Deutschland",
         "2023-07",
         "-1.51"
        ],
        [
         "9502",
         "M",
         "Monatlich",
         "DOM",
         "Inland",
         "PCH_SM_19",
         "Veränderung in Prozent gegenüber dem entsprechenden Monat in 2019",
         "I551",
         "Hotels, Gasthöfe und Pensionen",
         "DE",
         "Deutschland",
         "2023-08",
         "-1.84"
        ],
        [
         "9503",
         "M",
         "Monatlich",
         "DOM",
         "Inland",
         "PCH_SM_19",
         "Veränderung in Prozent gegenüber dem entsprechenden Monat in 2019",
         "I551",
         "Hotels, Gasthöfe und Pensionen",
         "DE",
         "Deutschland",
         "2023-09",
         "2.46"
        ],
        [
         "9504",
         "M",
         "Monatlich",
         "DOM",
         "Inland",
         "PCH_SM_19",
         "Veränderung in Prozent gegenüber dem entsprechenden Monat in 2019",
         "I551",
         "Hotels, Gasthöfe und Pensionen",
         "DE",
         "Deutschland",
         "2023-10",
         "-3.31"
        ],
        [
         "9505",
         "M",
         "Monatlich",
         "DOM",
         "Inland",
         "PCH_SM_19",
         "Veränderung in Prozent gegenüber dem entsprechenden Monat in 2019",
         "I551",
         "Hotels, Gasthöfe und Pensionen",
         "DE",
         "Deutschland",
         "2023-11",
         "-5.88"
        ],
        [
         "9506",
         "M",
         "Monatlich",
         "DOM",
         "Inland",
         "PCH_SM_19",
         "Veränderung in Prozent gegenüber dem entsprechenden Monat in 2019",
         "I551",
         "Hotels, Gasthöfe und Pensionen",
         "DE",
         "Deutschland",
         "2023-12",
         "-2.91"
        ],
        [
         "9507",
         "M",
         "Monatlich",
         "DOM",
         "Inland",
         "PCH_SM_19",
         "Veränderung in Prozent gegenüber dem entsprechenden Monat in 2019",
         "I551",
         "Hotels, Gasthöfe und Pensionen",
         "DE",
         "Deutschland",
         "2024-01",
         "-3.78"
        ],
        [
         "9508",
         "M",
         "Monatlich",
         "DOM",
         "Inland",
         "PCH_SM_19",
         "Veränderung in Prozent gegenüber dem entsprechenden Monat in 2019",
         "I551",
         "Hotels, Gasthöfe und Pensionen",
         "DE",
         "Deutschland",
         "2024-02",
         "2.0"
        ]
       ],
       "shape": {
        "columns": 12,
        "rows": 3956
       }
      },
      "text/html": [
       "<div>\n",
       "<style scoped>\n",
       "    .dataframe tbody tr th:only-of-type {\n",
       "        vertical-align: middle;\n",
       "    }\n",
       "\n",
       "    .dataframe tbody tr th {\n",
       "        vertical-align: top;\n",
       "    }\n",
       "\n",
       "    .dataframe thead th {\n",
       "        text-align: right;\n",
       "    }\n",
       "</style>\n",
       "<table border=\"1\" class=\"dataframe\">\n",
       "  <thead>\n",
       "    <tr style=\"text-align: right;\">\n",
       "      <th></th>\n",
       "      <th>Zeitliche_Frequenz_Idx</th>\n",
       "      <th>Zeitliche_Frequenz</th>\n",
       "      <th>Aufenthaltsland_Idx</th>\n",
       "      <th>Aufenthaltsland</th>\n",
       "      <th>Maßeinheit_Idx</th>\n",
       "      <th>Maßeinheit</th>\n",
       "      <th>NACEr2_Idx</th>\n",
       "      <th>NACEr2</th>\n",
       "      <th>Geopolitische_Meldeeinheit_Idx</th>\n",
       "      <th>Geopolitische_Meldeeinheit</th>\n",
       "      <th>JahrMonat</th>\n",
       "      <th>value</th>\n",
       "    </tr>\n",
       "  </thead>\n",
       "  <tbody>\n",
       "    <tr>\n",
       "      <th>9459</th>\n",
       "      <td>M</td>\n",
       "      <td>Monatlich</td>\n",
       "      <td>DOM</td>\n",
       "      <td>Inland</td>\n",
       "      <td>PCH_SM_19</td>\n",
       "      <td>Veränderung in Prozent gegenüber dem entsprech...</td>\n",
       "      <td>I551</td>\n",
       "      <td>Hotels, Gasthöfe und Pensionen</td>\n",
       "      <td>DE</td>\n",
       "      <td>Deutschland</td>\n",
       "      <td>2020-01</td>\n",
       "      <td>2.84</td>\n",
       "    </tr>\n",
       "    <tr>\n",
       "      <th>9460</th>\n",
       "      <td>M</td>\n",
       "      <td>Monatlich</td>\n",
       "      <td>DOM</td>\n",
       "      <td>Inland</td>\n",
       "      <td>PCH_SM_19</td>\n",
       "      <td>Veränderung in Prozent gegenüber dem entsprech...</td>\n",
       "      <td>I551</td>\n",
       "      <td>Hotels, Gasthöfe und Pensionen</td>\n",
       "      <td>DE</td>\n",
       "      <td>Deutschland</td>\n",
       "      <td>2020-02</td>\n",
       "      <td>7.72</td>\n",
       "    </tr>\n",
       "    <tr>\n",
       "      <th>9461</th>\n",
       "      <td>M</td>\n",
       "      <td>Monatlich</td>\n",
       "      <td>DOM</td>\n",
       "      <td>Inland</td>\n",
       "      <td>PCH_SM_19</td>\n",
       "      <td>Veränderung in Prozent gegenüber dem entsprech...</td>\n",
       "      <td>I551</td>\n",
       "      <td>Hotels, Gasthöfe und Pensionen</td>\n",
       "      <td>DE</td>\n",
       "      <td>Deutschland</td>\n",
       "      <td>2020-03</td>\n",
       "      <td>-55.11</td>\n",
       "    </tr>\n",
       "    <tr>\n",
       "      <th>9462</th>\n",
       "      <td>M</td>\n",
       "      <td>Monatlich</td>\n",
       "      <td>DOM</td>\n",
       "      <td>Inland</td>\n",
       "      <td>PCH_SM_19</td>\n",
       "      <td>Veränderung in Prozent gegenüber dem entsprech...</td>\n",
       "      <td>I551</td>\n",
       "      <td>Hotels, Gasthöfe und Pensionen</td>\n",
       "      <td>DE</td>\n",
       "      <td>Deutschland</td>\n",
       "      <td>2020-04</td>\n",
       "      <td>-89.48</td>\n",
       "    </tr>\n",
       "    <tr>\n",
       "      <th>9463</th>\n",
       "      <td>M</td>\n",
       "      <td>Monatlich</td>\n",
       "      <td>DOM</td>\n",
       "      <td>Inland</td>\n",
       "      <td>PCH_SM_19</td>\n",
       "      <td>Veränderung in Prozent gegenüber dem entsprech...</td>\n",
       "      <td>I551</td>\n",
       "      <td>Hotels, Gasthöfe und Pensionen</td>\n",
       "      <td>DE</td>\n",
       "      <td>Deutschland</td>\n",
       "      <td>2020-05</td>\n",
       "      <td>-78.47</td>\n",
       "    </tr>\n",
       "    <tr>\n",
       "      <th>...</th>\n",
       "      <td>...</td>\n",
       "      <td>...</td>\n",
       "      <td>...</td>\n",
       "      <td>...</td>\n",
       "      <td>...</td>\n",
       "      <td>...</td>\n",
       "      <td>...</td>\n",
       "      <td>...</td>\n",
       "      <td>...</td>\n",
       "      <td>...</td>\n",
       "      <td>...</td>\n",
       "      <td>...</td>\n",
       "    </tr>\n",
       "    <tr>\n",
       "      <th>22869</th>\n",
       "      <td>M</td>\n",
       "      <td>Monatlich</td>\n",
       "      <td>FOR</td>\n",
       "      <td>Ausland</td>\n",
       "      <td>PCH_SM_19</td>\n",
       "      <td>Veränderung in Prozent gegenüber dem entsprech...</td>\n",
       "      <td>I553</td>\n",
       "      <td>Campingplätze</td>\n",
       "      <td>SE</td>\n",
       "      <td>Schweden</td>\n",
       "      <td>2025-02</td>\n",
       "      <td>4.62</td>\n",
       "    </tr>\n",
       "    <tr>\n",
       "      <th>22870</th>\n",
       "      <td>M</td>\n",
       "      <td>Monatlich</td>\n",
       "      <td>FOR</td>\n",
       "      <td>Ausland</td>\n",
       "      <td>PCH_SM_19</td>\n",
       "      <td>Veränderung in Prozent gegenüber dem entsprech...</td>\n",
       "      <td>I553</td>\n",
       "      <td>Campingplätze</td>\n",
       "      <td>SE</td>\n",
       "      <td>Schweden</td>\n",
       "      <td>2025-03</td>\n",
       "      <td>0.40</td>\n",
       "    </tr>\n",
       "    <tr>\n",
       "      <th>22871</th>\n",
       "      <td>M</td>\n",
       "      <td>Monatlich</td>\n",
       "      <td>FOR</td>\n",
       "      <td>Ausland</td>\n",
       "      <td>PCH_SM_19</td>\n",
       "      <td>Veränderung in Prozent gegenüber dem entsprech...</td>\n",
       "      <td>I553</td>\n",
       "      <td>Campingplätze</td>\n",
       "      <td>SE</td>\n",
       "      <td>Schweden</td>\n",
       "      <td>2025-04</td>\n",
       "      <td>-7.01</td>\n",
       "    </tr>\n",
       "    <tr>\n",
       "      <th>22872</th>\n",
       "      <td>M</td>\n",
       "      <td>Monatlich</td>\n",
       "      <td>FOR</td>\n",
       "      <td>Ausland</td>\n",
       "      <td>PCH_SM_19</td>\n",
       "      <td>Veränderung in Prozent gegenüber dem entsprech...</td>\n",
       "      <td>I553</td>\n",
       "      <td>Campingplätze</td>\n",
       "      <td>SE</td>\n",
       "      <td>Schweden</td>\n",
       "      <td>2025-05</td>\n",
       "      <td>13.43</td>\n",
       "    </tr>\n",
       "    <tr>\n",
       "      <th>22873</th>\n",
       "      <td>M</td>\n",
       "      <td>Monatlich</td>\n",
       "      <td>FOR</td>\n",
       "      <td>Ausland</td>\n",
       "      <td>PCH_SM_19</td>\n",
       "      <td>Veränderung in Prozent gegenüber dem entsprech...</td>\n",
       "      <td>I553</td>\n",
       "      <td>Campingplätze</td>\n",
       "      <td>SE</td>\n",
       "      <td>Schweden</td>\n",
       "      <td>2025-06</td>\n",
       "      <td>10.09</td>\n",
       "    </tr>\n",
       "  </tbody>\n",
       "</table>\n",
       "<p>3956 rows × 12 columns</p>\n",
       "</div>"
      ],
      "text/plain": [
       "      Zeitliche_Frequenz_Idx Zeitliche_Frequenz Aufenthaltsland_Idx  \\\n",
       "9459                       M          Monatlich                 DOM   \n",
       "9460                       M          Monatlich                 DOM   \n",
       "9461                       M          Monatlich                 DOM   \n",
       "9462                       M          Monatlich                 DOM   \n",
       "9463                       M          Monatlich                 DOM   \n",
       "...                      ...                ...                 ...   \n",
       "22869                      M          Monatlich                 FOR   \n",
       "22870                      M          Monatlich                 FOR   \n",
       "22871                      M          Monatlich                 FOR   \n",
       "22872                      M          Monatlich                 FOR   \n",
       "22873                      M          Monatlich                 FOR   \n",
       "\n",
       "      Aufenthaltsland Maßeinheit_Idx  \\\n",
       "9459           Inland      PCH_SM_19   \n",
       "9460           Inland      PCH_SM_19   \n",
       "9461           Inland      PCH_SM_19   \n",
       "9462           Inland      PCH_SM_19   \n",
       "9463           Inland      PCH_SM_19   \n",
       "...               ...            ...   \n",
       "22869         Ausland      PCH_SM_19   \n",
       "22870         Ausland      PCH_SM_19   \n",
       "22871         Ausland      PCH_SM_19   \n",
       "22872         Ausland      PCH_SM_19   \n",
       "22873         Ausland      PCH_SM_19   \n",
       "\n",
       "                                              Maßeinheit NACEr2_Idx  \\\n",
       "9459   Veränderung in Prozent gegenüber dem entsprech...       I551   \n",
       "9460   Veränderung in Prozent gegenüber dem entsprech...       I551   \n",
       "9461   Veränderung in Prozent gegenüber dem entsprech...       I551   \n",
       "9462   Veränderung in Prozent gegenüber dem entsprech...       I551   \n",
       "9463   Veränderung in Prozent gegenüber dem entsprech...       I551   \n",
       "...                                                  ...        ...   \n",
       "22869  Veränderung in Prozent gegenüber dem entsprech...       I553   \n",
       "22870  Veränderung in Prozent gegenüber dem entsprech...       I553   \n",
       "22871  Veränderung in Prozent gegenüber dem entsprech...       I553   \n",
       "22872  Veränderung in Prozent gegenüber dem entsprech...       I553   \n",
       "22873  Veränderung in Prozent gegenüber dem entsprech...       I553   \n",
       "\n",
       "                               NACEr2 Geopolitische_Meldeeinheit_Idx  \\\n",
       "9459   Hotels, Gasthöfe und Pensionen                             DE   \n",
       "9460   Hotels, Gasthöfe und Pensionen                             DE   \n",
       "9461   Hotels, Gasthöfe und Pensionen                             DE   \n",
       "9462   Hotels, Gasthöfe und Pensionen                             DE   \n",
       "9463   Hotels, Gasthöfe und Pensionen                             DE   \n",
       "...                               ...                            ...   \n",
       "22869                   Campingplätze                             SE   \n",
       "22870                   Campingplätze                             SE   \n",
       "22871                   Campingplätze                             SE   \n",
       "22872                   Campingplätze                             SE   \n",
       "22873                   Campingplätze                             SE   \n",
       "\n",
       "      Geopolitische_Meldeeinheit JahrMonat  value  \n",
       "9459                 Deutschland   2020-01   2.84  \n",
       "9460                 Deutschland   2020-02   7.72  \n",
       "9461                 Deutschland   2020-03 -55.11  \n",
       "9462                 Deutschland   2020-04 -89.48  \n",
       "9463                 Deutschland   2020-05 -78.47  \n",
       "...                          ...       ...    ...  \n",
       "22869                   Schweden   2025-02   4.62  \n",
       "22870                   Schweden   2025-03   0.40  \n",
       "22871                   Schweden   2025-04  -7.01  \n",
       "22872                   Schweden   2025-05  13.43  \n",
       "22873                   Schweden   2025-06  10.09  \n",
       "\n",
       "[3956 rows x 12 columns]"
      ]
     },
     "metadata": {},
     "output_type": "display_data"
    }
   ],
   "source": [
    "display(df_pch_sm_19)"
   ]
  },
  {
   "cell_type": "code",
   "execution_count": 7,
   "id": "225256b0",
   "metadata": {},
   "outputs": [],
   "source": [
    "# Define join keys\n",
    "keys = [\"Aufenthaltsland_Idx\", \"NACEr2_Idx\", \"Geopolitische_Meldeeinheit_Idx\", \"JahrMonat\"]\n",
    "\n",
    "# Select + rename value column from df_pch_sm\n",
    "df_pch_sm_sel = df_pch_sm[keys + [\"value\"]].rename(columns={\"value\": \"pch_sm\"})\n",
    "\n",
    "# Select + rename value column from df_pch_sm_19\n",
    "df_pch_sm_19_sel = df_pch_sm_19[keys + [\"value\"]].rename(columns={\"value\": \"pch_sm_19\"})\n",
    "\n",
    "# Merge step by step\n",
    "df_merged = (\n",
    "    df_anzahl\n",
    "    .merge(df_pch_sm_sel, on=keys, how=\"left\")\n",
    "    .merge(df_pch_sm_19_sel, on=keys, how=\"left\")\n",
    ")\n",
    "\n",
    "df_anzahl = df_merged.copy()"
   ]
  },
  {
   "cell_type": "code",
   "execution_count": 8,
   "id": "1ca28fde",
   "metadata": {},
   "outputs": [
    {
     "data": {
      "application/vnd.microsoft.datawrangler.viewer.v0+json": {
       "columns": [
        {
         "name": "index",
         "rawType": "int64",
         "type": "integer"
        },
        {
         "name": "Zeitliche_Frequenz_Idx",
         "rawType": "object",
         "type": "string"
        },
        {
         "name": "Zeitliche_Frequenz",
         "rawType": "object",
         "type": "string"
        },
        {
         "name": "Aufenthaltsland_Idx",
         "rawType": "object",
         "type": "string"
        },
        {
         "name": "Aufenthaltsland",
         "rawType": "object",
         "type": "string"
        },
        {
         "name": "Maßeinheit_Idx",
         "rawType": "object",
         "type": "string"
        },
        {
         "name": "Maßeinheit",
         "rawType": "object",
         "type": "string"
        },
        {
         "name": "NACEr2_Idx",
         "rawType": "object",
         "type": "string"
        },
        {
         "name": "NACEr2",
         "rawType": "object",
         "type": "string"
        },
        {
         "name": "Geopolitische_Meldeeinheit_Idx",
         "rawType": "object",
         "type": "string"
        },
        {
         "name": "Geopolitische_Meldeeinheit",
         "rawType": "object",
         "type": "string"
        },
        {
         "name": "JahrMonat",
         "rawType": "object",
         "type": "string"
        },
        {
         "name": "value",
         "rawType": "float64",
         "type": "float"
        },
        {
         "name": "pch_sm",
         "rawType": "float64",
         "type": "float"
        },
        {
         "name": "pch_sm_19",
         "rawType": "float64",
         "type": "float"
        },
        {
         "name": "month",
         "rawType": "object",
         "type": "string"
        },
        {
         "name": "pch_sm_12",
         "rawType": "float64",
         "type": "float"
        }
       ],
       "ref": "ce141e8b-c10b-4c5e-8617-053ddc93cb57",
       "rows": [
        [
         "0",
         "M",
         "Monatlich",
         "DOM",
         "Inland",
         "NR",
         "Anzahl",
         "I551",
         "Hotels, Gasthöfe und Pensionen",
         "DE",
         "Deutschland",
         "2012-01",
         "11022604.0",
         "5.31",
         null,
         "01",
         "0.0"
        ],
        [
         "1",
         "M",
         "Monatlich",
         "DOM",
         "Inland",
         "NR",
         "Anzahl",
         "I551",
         "Hotels, Gasthöfe und Pensionen",
         "DE",
         "Deutschland",
         "2012-02",
         "11916641.0",
         "10.18",
         null,
         "02",
         "0.0"
        ],
        [
         "2",
         "M",
         "Monatlich",
         "DOM",
         "Inland",
         "NR",
         "Anzahl",
         "I551",
         "Hotels, Gasthöfe und Pensionen",
         "DE",
         "Deutschland",
         "2012-03",
         "14018007.0",
         "6.15",
         null,
         "03",
         "0.0"
        ],
        [
         "3",
         "M",
         "Monatlich",
         "DOM",
         "Inland",
         "NR",
         "Anzahl",
         "I551",
         "Hotels, Gasthöfe und Pensionen",
         "DE",
         "Deutschland",
         "2012-04",
         "15472920.0",
         "3.93",
         null,
         "04",
         "0.0"
        ],
        [
         "4",
         "M",
         "Monatlich",
         "DOM",
         "Inland",
         "NR",
         "Anzahl",
         "I551",
         "Hotels, Gasthöfe und Pensionen",
         "DE",
         "Deutschland",
         "2012-05",
         "18319333.0",
         "4.37",
         null,
         "05",
         "0.0"
        ],
        [
         "5",
         "M",
         "Monatlich",
         "DOM",
         "Inland",
         "NR",
         "Anzahl",
         "I551",
         "Hotels, Gasthöfe und Pensionen",
         "DE",
         "Deutschland",
         "2012-06",
         "18486480.0",
         "-1.16",
         null,
         "06",
         "0.0"
        ],
        [
         "6",
         "M",
         "Monatlich",
         "DOM",
         "Inland",
         "NR",
         "Anzahl",
         "I551",
         "Hotels, Gasthöfe und Pensionen",
         "DE",
         "Deutschland",
         "2012-07",
         "19202249.0",
         "-0.25",
         null,
         "07",
         "0.0"
        ],
        [
         "7",
         "M",
         "Monatlich",
         "DOM",
         "Inland",
         "NR",
         "Anzahl",
         "I551",
         "Hotels, Gasthöfe und Pensionen",
         "DE",
         "Deutschland",
         "2012-08",
         "20631875.0",
         "2.91",
         null,
         "08",
         "0.0"
        ],
        [
         "8",
         "M",
         "Monatlich",
         "DOM",
         "Inland",
         "NR",
         "Anzahl",
         "I551",
         "Hotels, Gasthöfe und Pensionen",
         "DE",
         "Deutschland",
         "2012-09",
         "20677647.0",
         "3.45",
         null,
         "09",
         "0.0"
        ],
        [
         "9",
         "M",
         "Monatlich",
         "DOM",
         "Inland",
         "NR",
         "Anzahl",
         "I551",
         "Hotels, Gasthöfe und Pensionen",
         "DE",
         "Deutschland",
         "2012-10",
         "18473660.0",
         "-1.18",
         null,
         "10",
         "0.0"
        ],
        [
         "10",
         "M",
         "Monatlich",
         "DOM",
         "Inland",
         "NR",
         "Anzahl",
         "I551",
         "Hotels, Gasthöfe und Pensionen",
         "DE",
         "Deutschland",
         "2012-11",
         "13687385.0",
         "1.87",
         null,
         "11",
         "0.0"
        ],
        [
         "11",
         "M",
         "Monatlich",
         "DOM",
         "Inland",
         "NR",
         "Anzahl",
         "I551",
         "Hotels, Gasthöfe und Pensionen",
         "DE",
         "Deutschland",
         "2012-12",
         "13048683.0",
         "5.7",
         null,
         "12",
         "0.0"
        ],
        [
         "12",
         "M",
         "Monatlich",
         "DOM",
         "Inland",
         "NR",
         "Anzahl",
         "I551",
         "Hotels, Gasthöfe und Pensionen",
         "DE",
         "Deutschland",
         "2013-01",
         "11115403.0",
         "0.84",
         null,
         "01",
         "0.84"
        ],
        [
         "13",
         "M",
         "Monatlich",
         "DOM",
         "Inland",
         "NR",
         "Anzahl",
         "I551",
         "Hotels, Gasthöfe und Pensionen",
         "DE",
         "Deutschland",
         "2013-02",
         "11879065.0",
         "-0.32",
         null,
         "02",
         "-0.32"
        ],
        [
         "14",
         "M",
         "Monatlich",
         "DOM",
         "Inland",
         "NR",
         "Anzahl",
         "I551",
         "Hotels, Gasthöfe und Pensionen",
         "DE",
         "Deutschland",
         "2013-03",
         "14435053.0",
         "2.98",
         null,
         "03",
         "2.98"
        ],
        [
         "15",
         "M",
         "Monatlich",
         "DOM",
         "Inland",
         "NR",
         "Anzahl",
         "I551",
         "Hotels, Gasthöfe und Pensionen",
         "DE",
         "Deutschland",
         "2013-04",
         "14772131.0",
         "-4.53",
         null,
         "04",
         "-4.53"
        ],
        [
         "16",
         "M",
         "Monatlich",
         "DOM",
         "Inland",
         "NR",
         "Anzahl",
         "I551",
         "Hotels, Gasthöfe und Pensionen",
         "DE",
         "Deutschland",
         "2013-05",
         "18641212.0",
         "1.76",
         null,
         "05",
         "1.76"
        ],
        [
         "17",
         "M",
         "Monatlich",
         "DOM",
         "Inland",
         "NR",
         "Anzahl",
         "I551",
         "Hotels, Gasthöfe und Pensionen",
         "DE",
         "Deutschland",
         "2013-06",
         "18452404.0",
         "-0.18",
         null,
         "06",
         "-0.18"
        ],
        [
         "18",
         "M",
         "Monatlich",
         "DOM",
         "Inland",
         "NR",
         "Anzahl",
         "I551",
         "Hotels, Gasthöfe und Pensionen",
         "DE",
         "Deutschland",
         "2013-07",
         "19788757.0",
         "3.05",
         null,
         "07",
         "3.05"
        ],
        [
         "19",
         "M",
         "Monatlich",
         "DOM",
         "Inland",
         "NR",
         "Anzahl",
         "I551",
         "Hotels, Gasthöfe und Pensionen",
         "DE",
         "Deutschland",
         "2013-08",
         "21156478.0",
         "2.54",
         null,
         "08",
         "2.54"
        ],
        [
         "20",
         "M",
         "Monatlich",
         "DOM",
         "Inland",
         "NR",
         "Anzahl",
         "I551",
         "Hotels, Gasthöfe und Pensionen",
         "DE",
         "Deutschland",
         "2013-09",
         "20286746.0",
         "-1.89",
         null,
         "09",
         "-1.89"
        ],
        [
         "21",
         "M",
         "Monatlich",
         "DOM",
         "Inland",
         "NR",
         "Anzahl",
         "I551",
         "Hotels, Gasthöfe und Pensionen",
         "DE",
         "Deutschland",
         "2013-10",
         "19138829.0",
         "3.6",
         null,
         "10",
         "3.6"
        ],
        [
         "22",
         "M",
         "Monatlich",
         "DOM",
         "Inland",
         "NR",
         "Anzahl",
         "I551",
         "Hotels, Gasthöfe und Pensionen",
         "DE",
         "Deutschland",
         "2013-11",
         "14074469.0",
         "2.83",
         null,
         "11",
         "2.83"
        ],
        [
         "23",
         "M",
         "Monatlich",
         "DOM",
         "Inland",
         "NR",
         "Anzahl",
         "I551",
         "Hotels, Gasthöfe und Pensionen",
         "DE",
         "Deutschland",
         "2013-12",
         "13127938.0",
         "0.61",
         null,
         "12",
         "0.61"
        ],
        [
         "24",
         "M",
         "Monatlich",
         "DOM",
         "Inland",
         "NR",
         "Anzahl",
         "I551",
         "Hotels, Gasthöfe und Pensionen",
         "DE",
         "Deutschland",
         "2014-01",
         "11248641.0",
         "1.2",
         null,
         "01",
         "2.05"
        ],
        [
         "25",
         "M",
         "Monatlich",
         "DOM",
         "Inland",
         "NR",
         "Anzahl",
         "I551",
         "Hotels, Gasthöfe und Pensionen",
         "DE",
         "Deutschland",
         "2014-02",
         "11942593.0",
         "0.53",
         null,
         "02",
         "0.22"
        ],
        [
         "26",
         "M",
         "Monatlich",
         "DOM",
         "Inland",
         "NR",
         "Anzahl",
         "I551",
         "Hotels, Gasthöfe und Pensionen",
         "DE",
         "Deutschland",
         "2014-03",
         "14386635.0",
         "-0.34",
         null,
         "03",
         "2.63"
        ],
        [
         "27",
         "M",
         "Monatlich",
         "DOM",
         "Inland",
         "NR",
         "Anzahl",
         "I551",
         "Hotels, Gasthöfe und Pensionen",
         "DE",
         "Deutschland",
         "2014-04",
         "15631416.0",
         "5.82",
         null,
         "04",
         "1.02"
        ],
        [
         "28",
         "M",
         "Monatlich",
         "DOM",
         "Inland",
         "NR",
         "Anzahl",
         "I551",
         "Hotels, Gasthöfe und Pensionen",
         "DE",
         "Deutschland",
         "2014-05",
         "19281358.0",
         "3.43",
         null,
         "05",
         "5.25"
        ],
        [
         "29",
         "M",
         "Monatlich",
         "DOM",
         "Inland",
         "NR",
         "Anzahl",
         "I551",
         "Hotels, Gasthöfe und Pensionen",
         "DE",
         "Deutschland",
         "2014-06",
         "19038903.0",
         "3.18",
         null,
         "06",
         "2.99"
        ],
        [
         "30",
         "M",
         "Monatlich",
         "DOM",
         "Inland",
         "NR",
         "Anzahl",
         "I551",
         "Hotels, Gasthöfe und Pensionen",
         "DE",
         "Deutschland",
         "2014-07",
         "19574882.0",
         "-1.08",
         null,
         "07",
         "1.94"
        ],
        [
         "31",
         "M",
         "Monatlich",
         "DOM",
         "Inland",
         "NR",
         "Anzahl",
         "I551",
         "Hotels, Gasthöfe und Pensionen",
         "DE",
         "Deutschland",
         "2014-08",
         "21892529.0",
         "3.48",
         null,
         "08",
         "6.11"
        ],
        [
         "32",
         "M",
         "Monatlich",
         "DOM",
         "Inland",
         "NR",
         "Anzahl",
         "I551",
         "Hotels, Gasthöfe und Pensionen",
         "DE",
         "Deutschland",
         "2014-09",
         "20827544.0",
         "2.67",
         null,
         "09",
         "0.72"
        ],
        [
         "33",
         "M",
         "Monatlich",
         "DOM",
         "Inland",
         "NR",
         "Anzahl",
         "I551",
         "Hotels, Gasthöfe und Pensionen",
         "DE",
         "Deutschland",
         "2014-10",
         "19988421.0",
         "4.44",
         null,
         "10",
         "8.2"
        ],
        [
         "34",
         "M",
         "Monatlich",
         "DOM",
         "Inland",
         "NR",
         "Anzahl",
         "I551",
         "Hotels, Gasthöfe und Pensionen",
         "DE",
         "Deutschland",
         "2014-11",
         "14527945.0",
         "3.22",
         null,
         "11",
         "6.14"
        ],
        [
         "35",
         "M",
         "Monatlich",
         "DOM",
         "Inland",
         "NR",
         "Anzahl",
         "I551",
         "Hotels, Gasthöfe und Pensionen",
         "DE",
         "Deutschland",
         "2014-12",
         "13797418.0",
         "5.1",
         null,
         "12",
         "5.74"
        ],
        [
         "36",
         "M",
         "Monatlich",
         "DOM",
         "Inland",
         "NR",
         "Anzahl",
         "I551",
         "Hotels, Gasthöfe und Pensionen",
         "DE",
         "Deutschland",
         "2015-01",
         "11556578.0",
         "2.74",
         null,
         "01",
         "4.84"
        ],
        [
         "37",
         "M",
         "Monatlich",
         "DOM",
         "Inland",
         "NR",
         "Anzahl",
         "I551",
         "Hotels, Gasthöfe und Pensionen",
         "DE",
         "Deutschland",
         "2015-02",
         "12661791.0",
         "6.02",
         null,
         "02",
         "6.25"
        ],
        [
         "38",
         "M",
         "Monatlich",
         "DOM",
         "Inland",
         "NR",
         "Anzahl",
         "I551",
         "Hotels, Gasthöfe und Pensionen",
         "DE",
         "Deutschland",
         "2015-03",
         "14900948.0",
         "3.57",
         null,
         "03",
         "6.3"
        ],
        [
         "39",
         "M",
         "Monatlich",
         "DOM",
         "Inland",
         "NR",
         "Anzahl",
         "I551",
         "Hotels, Gasthöfe und Pensionen",
         "DE",
         "Deutschland",
         "2015-04",
         "15964041.0",
         "2.13",
         null,
         "04",
         "3.17"
        ],
        [
         "40",
         "M",
         "Monatlich",
         "DOM",
         "Inland",
         "NR",
         "Anzahl",
         "I551",
         "Hotels, Gasthöfe und Pensionen",
         "DE",
         "Deutschland",
         "2015-05",
         "19746072.0",
         "2.41",
         null,
         "05",
         "7.79"
        ],
        [
         "41",
         "M",
         "Monatlich",
         "DOM",
         "Inland",
         "NR",
         "Anzahl",
         "I551",
         "Hotels, Gasthöfe und Pensionen",
         "DE",
         "Deutschland",
         "2015-06",
         "19781740.0",
         "3.9",
         null,
         "06",
         "7.01"
        ],
        [
         "42",
         "M",
         "Monatlich",
         "DOM",
         "Inland",
         "NR",
         "Anzahl",
         "I551",
         "Hotels, Gasthöfe und Pensionen",
         "DE",
         "Deutschland",
         "2015-07",
         "20464287.0",
         "4.54",
         null,
         "07",
         "6.57"
        ],
        [
         "43",
         "M",
         "Monatlich",
         "DOM",
         "Inland",
         "NR",
         "Anzahl",
         "I551",
         "Hotels, Gasthöfe und Pensionen",
         "DE",
         "Deutschland",
         "2015-08",
         "22110010.0",
         "0.99",
         null,
         "08",
         "7.16"
        ],
        [
         "44",
         "M",
         "Monatlich",
         "DOM",
         "Inland",
         "NR",
         "Anzahl",
         "I551",
         "Hotels, Gasthöfe und Pensionen",
         "DE",
         "Deutschland",
         "2015-09",
         "21225480.0",
         "1.91",
         null,
         "09",
         "2.65"
        ],
        [
         "45",
         "M",
         "Monatlich",
         "DOM",
         "Inland",
         "NR",
         "Anzahl",
         "I551",
         "Hotels, Gasthöfe und Pensionen",
         "DE",
         "Deutschland",
         "2015-10",
         "20110010.0",
         "0.61",
         null,
         "10",
         "8.86"
        ],
        [
         "46",
         "M",
         "Monatlich",
         "DOM",
         "Inland",
         "NR",
         "Anzahl",
         "I551",
         "Hotels, Gasthöfe und Pensionen",
         "DE",
         "Deutschland",
         "2015-11",
         "15011587.0",
         "3.33",
         null,
         "11",
         "9.67"
        ],
        [
         "47",
         "M",
         "Monatlich",
         "DOM",
         "Inland",
         "NR",
         "Anzahl",
         "I551",
         "Hotels, Gasthöfe und Pensionen",
         "DE",
         "Deutschland",
         "2015-12",
         "14080853.0",
         "2.05",
         null,
         "12",
         "7.91"
        ],
        [
         "48",
         "M",
         "Monatlich",
         "DOM",
         "Inland",
         "NR",
         "Anzahl",
         "I551",
         "Hotels, Gasthöfe und Pensionen",
         "DE",
         "Deutschland",
         "2016-01",
         "11974553.0",
         "3.62",
         null,
         "01",
         "8.64"
        ],
        [
         "49",
         "M",
         "Monatlich",
         "DOM",
         "Inland",
         "NR",
         "Anzahl",
         "I551",
         "Hotels, Gasthöfe und Pensionen",
         "DE",
         "Deutschland",
         "2016-02",
         "13348057.0",
         "5.42",
         null,
         "02",
         "12.01"
        ]
       ],
       "shape": {
        "columns": 16,
        "rows": 9716
       }
      },
      "text/html": [
       "<div>\n",
       "<style scoped>\n",
       "    .dataframe tbody tr th:only-of-type {\n",
       "        vertical-align: middle;\n",
       "    }\n",
       "\n",
       "    .dataframe tbody tr th {\n",
       "        vertical-align: top;\n",
       "    }\n",
       "\n",
       "    .dataframe thead th {\n",
       "        text-align: right;\n",
       "    }\n",
       "</style>\n",
       "<table border=\"1\" class=\"dataframe\">\n",
       "  <thead>\n",
       "    <tr style=\"text-align: right;\">\n",
       "      <th></th>\n",
       "      <th>Zeitliche_Frequenz_Idx</th>\n",
       "      <th>Zeitliche_Frequenz</th>\n",
       "      <th>Aufenthaltsland_Idx</th>\n",
       "      <th>Aufenthaltsland</th>\n",
       "      <th>Maßeinheit_Idx</th>\n",
       "      <th>Maßeinheit</th>\n",
       "      <th>NACEr2_Idx</th>\n",
       "      <th>NACEr2</th>\n",
       "      <th>Geopolitische_Meldeeinheit_Idx</th>\n",
       "      <th>Geopolitische_Meldeeinheit</th>\n",
       "      <th>JahrMonat</th>\n",
       "      <th>value</th>\n",
       "      <th>pch_sm</th>\n",
       "      <th>pch_sm_19</th>\n",
       "      <th>month</th>\n",
       "      <th>pch_sm_12</th>\n",
       "    </tr>\n",
       "  </thead>\n",
       "  <tbody>\n",
       "    <tr>\n",
       "      <th>0</th>\n",
       "      <td>M</td>\n",
       "      <td>Monatlich</td>\n",
       "      <td>DOM</td>\n",
       "      <td>Inland</td>\n",
       "      <td>NR</td>\n",
       "      <td>Anzahl</td>\n",
       "      <td>I551</td>\n",
       "      <td>Hotels, Gasthöfe und Pensionen</td>\n",
       "      <td>DE</td>\n",
       "      <td>Deutschland</td>\n",
       "      <td>2012-01</td>\n",
       "      <td>11022604.0</td>\n",
       "      <td>5.31</td>\n",
       "      <td>NaN</td>\n",
       "      <td>01</td>\n",
       "      <td>0.00</td>\n",
       "    </tr>\n",
       "    <tr>\n",
       "      <th>1</th>\n",
       "      <td>M</td>\n",
       "      <td>Monatlich</td>\n",
       "      <td>DOM</td>\n",
       "      <td>Inland</td>\n",
       "      <td>NR</td>\n",
       "      <td>Anzahl</td>\n",
       "      <td>I551</td>\n",
       "      <td>Hotels, Gasthöfe und Pensionen</td>\n",
       "      <td>DE</td>\n",
       "      <td>Deutschland</td>\n",
       "      <td>2012-02</td>\n",
       "      <td>11916641.0</td>\n",
       "      <td>10.18</td>\n",
       "      <td>NaN</td>\n",
       "      <td>02</td>\n",
       "      <td>0.00</td>\n",
       "    </tr>\n",
       "    <tr>\n",
       "      <th>2</th>\n",
       "      <td>M</td>\n",
       "      <td>Monatlich</td>\n",
       "      <td>DOM</td>\n",
       "      <td>Inland</td>\n",
       "      <td>NR</td>\n",
       "      <td>Anzahl</td>\n",
       "      <td>I551</td>\n",
       "      <td>Hotels, Gasthöfe und Pensionen</td>\n",
       "      <td>DE</td>\n",
       "      <td>Deutschland</td>\n",
       "      <td>2012-03</td>\n",
       "      <td>14018007.0</td>\n",
       "      <td>6.15</td>\n",
       "      <td>NaN</td>\n",
       "      <td>03</td>\n",
       "      <td>0.00</td>\n",
       "    </tr>\n",
       "    <tr>\n",
       "      <th>3</th>\n",
       "      <td>M</td>\n",
       "      <td>Monatlich</td>\n",
       "      <td>DOM</td>\n",
       "      <td>Inland</td>\n",
       "      <td>NR</td>\n",
       "      <td>Anzahl</td>\n",
       "      <td>I551</td>\n",
       "      <td>Hotels, Gasthöfe und Pensionen</td>\n",
       "      <td>DE</td>\n",
       "      <td>Deutschland</td>\n",
       "      <td>2012-04</td>\n",
       "      <td>15472920.0</td>\n",
       "      <td>3.93</td>\n",
       "      <td>NaN</td>\n",
       "      <td>04</td>\n",
       "      <td>0.00</td>\n",
       "    </tr>\n",
       "    <tr>\n",
       "      <th>4</th>\n",
       "      <td>M</td>\n",
       "      <td>Monatlich</td>\n",
       "      <td>DOM</td>\n",
       "      <td>Inland</td>\n",
       "      <td>NR</td>\n",
       "      <td>Anzahl</td>\n",
       "      <td>I551</td>\n",
       "      <td>Hotels, Gasthöfe und Pensionen</td>\n",
       "      <td>DE</td>\n",
       "      <td>Deutschland</td>\n",
       "      <td>2012-05</td>\n",
       "      <td>18319333.0</td>\n",
       "      <td>4.37</td>\n",
       "      <td>NaN</td>\n",
       "      <td>05</td>\n",
       "      <td>0.00</td>\n",
       "    </tr>\n",
       "    <tr>\n",
       "      <th>...</th>\n",
       "      <td>...</td>\n",
       "      <td>...</td>\n",
       "      <td>...</td>\n",
       "      <td>...</td>\n",
       "      <td>...</td>\n",
       "      <td>...</td>\n",
       "      <td>...</td>\n",
       "      <td>...</td>\n",
       "      <td>...</td>\n",
       "      <td>...</td>\n",
       "      <td>...</td>\n",
       "      <td>...</td>\n",
       "      <td>...</td>\n",
       "      <td>...</td>\n",
       "      <td>...</td>\n",
       "      <td>...</td>\n",
       "    </tr>\n",
       "    <tr>\n",
       "      <th>9711</th>\n",
       "      <td>M</td>\n",
       "      <td>Monatlich</td>\n",
       "      <td>FOR</td>\n",
       "      <td>Ausland</td>\n",
       "      <td>NR</td>\n",
       "      <td>Anzahl</td>\n",
       "      <td>I553</td>\n",
       "      <td>Campingplätze</td>\n",
       "      <td>SE</td>\n",
       "      <td>Schweden</td>\n",
       "      <td>2025-02</td>\n",
       "      <td>54382.0</td>\n",
       "      <td>23.78</td>\n",
       "      <td>4.62</td>\n",
       "      <td>02</td>\n",
       "      <td>11.79</td>\n",
       "    </tr>\n",
       "    <tr>\n",
       "      <th>9712</th>\n",
       "      <td>M</td>\n",
       "      <td>Monatlich</td>\n",
       "      <td>FOR</td>\n",
       "      <td>Ausland</td>\n",
       "      <td>NR</td>\n",
       "      <td>Anzahl</td>\n",
       "      <td>I553</td>\n",
       "      <td>Campingplätze</td>\n",
       "      <td>SE</td>\n",
       "      <td>Schweden</td>\n",
       "      <td>2025-03</td>\n",
       "      <td>53157.0</td>\n",
       "      <td>-14.98</td>\n",
       "      <td>0.40</td>\n",
       "      <td>03</td>\n",
       "      <td>1.44</td>\n",
       "    </tr>\n",
       "    <tr>\n",
       "      <th>9713</th>\n",
       "      <td>M</td>\n",
       "      <td>Monatlich</td>\n",
       "      <td>FOR</td>\n",
       "      <td>Ausland</td>\n",
       "      <td>NR</td>\n",
       "      <td>Anzahl</td>\n",
       "      <td>I553</td>\n",
       "      <td>Campingplätze</td>\n",
       "      <td>SE</td>\n",
       "      <td>Schweden</td>\n",
       "      <td>2025-04</td>\n",
       "      <td>101956.0</td>\n",
       "      <td>85.36</td>\n",
       "      <td>-7.01</td>\n",
       "      <td>04</td>\n",
       "      <td>20.76</td>\n",
       "    </tr>\n",
       "    <tr>\n",
       "      <th>9714</th>\n",
       "      <td>M</td>\n",
       "      <td>Monatlich</td>\n",
       "      <td>FOR</td>\n",
       "      <td>Ausland</td>\n",
       "      <td>NR</td>\n",
       "      <td>Anzahl</td>\n",
       "      <td>I553</td>\n",
       "      <td>Campingplätze</td>\n",
       "      <td>SE</td>\n",
       "      <td>Schweden</td>\n",
       "      <td>2025-05</td>\n",
       "      <td>249936.0</td>\n",
       "      <td>3.10</td>\n",
       "      <td>13.43</td>\n",
       "      <td>05</td>\n",
       "      <td>32.30</td>\n",
       "    </tr>\n",
       "    <tr>\n",
       "      <th>9715</th>\n",
       "      <td>M</td>\n",
       "      <td>Monatlich</td>\n",
       "      <td>FOR</td>\n",
       "      <td>Ausland</td>\n",
       "      <td>NR</td>\n",
       "      <td>Anzahl</td>\n",
       "      <td>I553</td>\n",
       "      <td>Campingplätze</td>\n",
       "      <td>SE</td>\n",
       "      <td>Schweden</td>\n",
       "      <td>2025-06</td>\n",
       "      <td>687015.0</td>\n",
       "      <td>4.77</td>\n",
       "      <td>10.09</td>\n",
       "      <td>06</td>\n",
       "      <td>56.36</td>\n",
       "    </tr>\n",
       "  </tbody>\n",
       "</table>\n",
       "<p>9716 rows × 16 columns</p>\n",
       "</div>"
      ],
      "text/plain": [
       "     Zeitliche_Frequenz_Idx Zeitliche_Frequenz Aufenthaltsland_Idx  \\\n",
       "0                         M          Monatlich                 DOM   \n",
       "1                         M          Monatlich                 DOM   \n",
       "2                         M          Monatlich                 DOM   \n",
       "3                         M          Monatlich                 DOM   \n",
       "4                         M          Monatlich                 DOM   \n",
       "...                     ...                ...                 ...   \n",
       "9711                      M          Monatlich                 FOR   \n",
       "9712                      M          Monatlich                 FOR   \n",
       "9713                      M          Monatlich                 FOR   \n",
       "9714                      M          Monatlich                 FOR   \n",
       "9715                      M          Monatlich                 FOR   \n",
       "\n",
       "     Aufenthaltsland Maßeinheit_Idx Maßeinheit NACEr2_Idx  \\\n",
       "0             Inland             NR     Anzahl       I551   \n",
       "1             Inland             NR     Anzahl       I551   \n",
       "2             Inland             NR     Anzahl       I551   \n",
       "3             Inland             NR     Anzahl       I551   \n",
       "4             Inland             NR     Anzahl       I551   \n",
       "...              ...            ...        ...        ...   \n",
       "9711         Ausland             NR     Anzahl       I553   \n",
       "9712         Ausland             NR     Anzahl       I553   \n",
       "9713         Ausland             NR     Anzahl       I553   \n",
       "9714         Ausland             NR     Anzahl       I553   \n",
       "9715         Ausland             NR     Anzahl       I553   \n",
       "\n",
       "                              NACEr2 Geopolitische_Meldeeinheit_Idx  \\\n",
       "0     Hotels, Gasthöfe und Pensionen                             DE   \n",
       "1     Hotels, Gasthöfe und Pensionen                             DE   \n",
       "2     Hotels, Gasthöfe und Pensionen                             DE   \n",
       "3     Hotels, Gasthöfe und Pensionen                             DE   \n",
       "4     Hotels, Gasthöfe und Pensionen                             DE   \n",
       "...                              ...                            ...   \n",
       "9711                   Campingplätze                             SE   \n",
       "9712                   Campingplätze                             SE   \n",
       "9713                   Campingplätze                             SE   \n",
       "9714                   Campingplätze                             SE   \n",
       "9715                   Campingplätze                             SE   \n",
       "\n",
       "     Geopolitische_Meldeeinheit JahrMonat       value  pch_sm  pch_sm_19  \\\n",
       "0                   Deutschland   2012-01  11022604.0    5.31        NaN   \n",
       "1                   Deutschland   2012-02  11916641.0   10.18        NaN   \n",
       "2                   Deutschland   2012-03  14018007.0    6.15        NaN   \n",
       "3                   Deutschland   2012-04  15472920.0    3.93        NaN   \n",
       "4                   Deutschland   2012-05  18319333.0    4.37        NaN   \n",
       "...                         ...       ...         ...     ...        ...   \n",
       "9711                   Schweden   2025-02     54382.0   23.78       4.62   \n",
       "9712                   Schweden   2025-03     53157.0  -14.98       0.40   \n",
       "9713                   Schweden   2025-04    101956.0   85.36      -7.01   \n",
       "9714                   Schweden   2025-05    249936.0    3.10      13.43   \n",
       "9715                   Schweden   2025-06    687015.0    4.77      10.09   \n",
       "\n",
       "     month  pch_sm_12  \n",
       "0       01       0.00  \n",
       "1       02       0.00  \n",
       "2       03       0.00  \n",
       "3       04       0.00  \n",
       "4       05       0.00  \n",
       "...    ...        ...  \n",
       "9711    02      11.79  \n",
       "9712    03       1.44  \n",
       "9713    04      20.76  \n",
       "9714    05      32.30  \n",
       "9715    06      56.36  \n",
       "\n",
       "[9716 rows x 16 columns]"
      ]
     },
     "metadata": {},
     "output_type": "display_data"
    }
   ],
   "source": [
    "# Calculate percentage change same month over base year 2012\n",
    "# Define the grouping columns\n",
    "group_cols = [\"Aufenthaltsland_Idx\", \"NACEr2_Idx\", \"Geopolitische_Meldeeinheit_Idx\"]\n",
    "\n",
    "# # Extract month part to align with base year\n",
    "df_anzahl[\"month\"] = df_anzahl[\"JahrMonat\"].str[-2:]\n",
    "\n",
    "# Create a reference DataFrame with 2012 values\n",
    "base = (\n",
    "    df_anzahl[df_anzahl[\"JahrMonat\"].str.startswith(\"2012\")]\n",
    "    .loc[:, group_cols + [\"month\", \"value\"]]\n",
    "    .rename(columns={\"value\": \"base_value\"})\n",
    ")\n",
    "\n",
    "# Merge base year values on group + month\n",
    "df_12 = df_anzahl.merge(base, on=group_cols + [\"month\"], how=\"left\")\n",
    "\n",
    "# Calculate percentage change from base\n",
    "df_12[\"pch_sm_12\"] = np.where(\n",
    "    df_12[\"base_value\"].notnull() & (df_12[\"base_value\"] != 0),\n",
    "    round(((df_12[\"value\"] - df_12[\"base_value\"]) / df_12[\"base_value\"]) * 100, 2),\n",
    "    np.nan\n",
    ")\n",
    "df_anzahl[\"pch_sm_12\"] = df_12[\"pch_sm_12\"].copy()\n",
    "\n",
    "display(df_anzahl)"
   ]
  },
  {
   "cell_type": "code",
   "execution_count": 9,
   "id": "edc70d51",
   "metadata": {},
   "outputs": [
    {
     "data": {
      "application/vnd.microsoft.datawrangler.viewer.v0+json": {
       "columns": [
        {
         "name": "index",
         "rawType": "int64",
         "type": "integer"
        },
        {
         "name": "Zeitliche_Frequenz_Idx",
         "rawType": "object",
         "type": "string"
        },
        {
         "name": "Zeitliche_Frequenz",
         "rawType": "object",
         "type": "string"
        },
        {
         "name": "Aufenthaltsland_Idx",
         "rawType": "object",
         "type": "string"
        },
        {
         "name": "Aufenthaltsland",
         "rawType": "object",
         "type": "string"
        },
        {
         "name": "Maßeinheit_Idx",
         "rawType": "object",
         "type": "string"
        },
        {
         "name": "Maßeinheit",
         "rawType": "object",
         "type": "string"
        },
        {
         "name": "NACEr2_Idx",
         "rawType": "object",
         "type": "string"
        },
        {
         "name": "NACEr2",
         "rawType": "object",
         "type": "string"
        },
        {
         "name": "Geopolitische_Meldeeinheit_Idx",
         "rawType": "object",
         "type": "string"
        },
        {
         "name": "Geopolitische_Meldeeinheit",
         "rawType": "object",
         "type": "string"
        },
        {
         "name": "JahrMonat",
         "rawType": "datetime64[ns]",
         "type": "datetime"
        },
        {
         "name": "value",
         "rawType": "float64",
         "type": "float"
        },
        {
         "name": "pch_sm",
         "rawType": "float64",
         "type": "float"
        },
        {
         "name": "pch_sm_19",
         "rawType": "float64",
         "type": "float"
        },
        {
         "name": "month",
         "rawType": "object",
         "type": "string"
        },
        {
         "name": "pch_sm_12",
         "rawType": "float64",
         "type": "float"
        },
        {
         "name": "Monat",
         "rawType": "int64",
         "type": "integer"
        },
        {
         "name": "Quartal",
         "rawType": "object",
         "type": "string"
        },
        {
         "name": "Saison",
         "rawType": "object",
         "type": "string"
        },
        {
         "name": "Jahr",
         "rawType": "int64",
         "type": "integer"
        },
        {
         "name": "Month_cycl_sin",
         "rawType": "float64",
         "type": "float"
        },
        {
         "name": "Month_cycl_cos",
         "rawType": "float64",
         "type": "float"
        },
        {
         "name": "MA3",
         "rawType": "int64",
         "type": "integer"
        },
        {
         "name": "MA6",
         "rawType": "int64",
         "type": "integer"
        },
        {
         "name": "MA12",
         "rawType": "int64",
         "type": "integer"
        },
        {
         "name": "Lag_1",
         "rawType": "int64",
         "type": "integer"
        },
        {
         "name": "Lag_3",
         "rawType": "int64",
         "type": "integer"
        },
        {
         "name": "Lag_12",
         "rawType": "int64",
         "type": "integer"
        },
        {
         "name": "Aufenthaltsland_Saison",
         "rawType": "object",
         "type": "string"
        },
        {
         "name": "NACEr2_Saison",
         "rawType": "object",
         "type": "string"
        },
        {
         "name": "Land_Monat",
         "rawType": "object",
         "type": "string"
        },
        {
         "name": "Land_Saison",
         "rawType": "object",
         "type": "string"
        },
        {
         "name": "pandemic_dummy",
         "rawType": "int64",
         "type": "integer"
        }
       ],
       "ref": "2387e765-46d9-423f-8072-e2551bd5f687",
       "rows": [
        [
         "0",
         "M",
         "Monatlich",
         "DOM",
         "Inland",
         "NR",
         "Anzahl",
         "I551",
         "Hotels, Gasthöfe und Pensionen",
         "DE",
         "Deutschland",
         "2012-01-01 00:00:00",
         "11022604.0",
         "5.31",
         null,
         "01",
         "0.0",
         "1",
         "1",
         "Winter",
         "2012",
         "0.49999999999999994",
         "0.8660254037844387",
         "0",
         "0",
         "0",
         "0",
         "0",
         "0",
         "DOM_Winter",
         "I551_Winter",
         "DE_1",
         "DE_Winter",
         "0"
        ],
        [
         "1",
         "M",
         "Monatlich",
         "DOM",
         "Inland",
         "NR",
         "Anzahl",
         "I551",
         "Hotels, Gasthöfe und Pensionen",
         "DE",
         "Deutschland",
         "2012-02-01 00:00:00",
         "11916641.0",
         "10.18",
         null,
         "02",
         "0.0",
         "2",
         "1",
         "Winter",
         "2012",
         "0.8660254037844386",
         "0.5000000000000001",
         "0",
         "0",
         "0",
         "11022604",
         "0",
         "0",
         "DOM_Winter",
         "I551_Winter",
         "DE_2",
         "DE_Winter",
         "0"
        ],
        [
         "2",
         "M",
         "Monatlich",
         "DOM",
         "Inland",
         "NR",
         "Anzahl",
         "I551",
         "Hotels, Gasthöfe und Pensionen",
         "DE",
         "Deutschland",
         "2012-03-01 00:00:00",
         "14018007.0",
         "6.15",
         null,
         "03",
         "0.0",
         "3",
         "1",
         "Frühling",
         "2012",
         "1.0",
         "6.123233995736766e-17",
         "0",
         "0",
         "0",
         "11916641",
         "0",
         "0",
         "DOM_Frühling",
         "I551_Frühling",
         "DE_3",
         "DE_Frühling",
         "0"
        ],
        [
         "3",
         "M",
         "Monatlich",
         "DOM",
         "Inland",
         "NR",
         "Anzahl",
         "I551",
         "Hotels, Gasthöfe und Pensionen",
         "DE",
         "Deutschland",
         "2012-04-01 00:00:00",
         "15472920.0",
         "3.93",
         null,
         "04",
         "0.0",
         "4",
         "2",
         "Frühling",
         "2012",
         "0.8660254037844387",
         "-0.4999999999999998",
         "12319084",
         "0",
         "0",
         "14018007",
         "11022604",
         "0",
         "DOM_Frühling",
         "I551_Frühling",
         "DE_4",
         "DE_Frühling",
         "0"
        ],
        [
         "4",
         "M",
         "Monatlich",
         "DOM",
         "Inland",
         "NR",
         "Anzahl",
         "I551",
         "Hotels, Gasthöfe und Pensionen",
         "DE",
         "Deutschland",
         "2012-05-01 00:00:00",
         "18319333.0",
         "4.37",
         null,
         "05",
         "0.0",
         "5",
         "2",
         "Frühling",
         "2012",
         "0.49999999999999994",
         "-0.8660254037844387",
         "13802522",
         "0",
         "0",
         "15472920",
         "11916641",
         "0",
         "DOM_Frühling",
         "I551_Frühling",
         "DE_5",
         "DE_Frühling",
         "0"
        ],
        [
         "5",
         "M",
         "Monatlich",
         "DOM",
         "Inland",
         "NR",
         "Anzahl",
         "I551",
         "Hotels, Gasthöfe und Pensionen",
         "DE",
         "Deutschland",
         "2012-06-01 00:00:00",
         "18486480.0",
         "-1.16",
         null,
         "06",
         "0.0",
         "6",
         "2",
         "Sommer",
         "2012",
         "1.2246467991473532e-16",
         "-1.0",
         "15936753",
         "0",
         "0",
         "18319333",
         "14018007",
         "0",
         "DOM_Sommer",
         "I551_Sommer",
         "DE_6",
         "DE_Sommer",
         "0"
        ],
        [
         "6",
         "M",
         "Monatlich",
         "DOM",
         "Inland",
         "NR",
         "Anzahl",
         "I551",
         "Hotels, Gasthöfe und Pensionen",
         "DE",
         "Deutschland",
         "2012-07-01 00:00:00",
         "19202249.0",
         "-0.25",
         null,
         "07",
         "0.0",
         "7",
         "3",
         "Sommer",
         "2012",
         "-0.4999999999999997",
         "-0.8660254037844388",
         "17426244",
         "14872664",
         "0",
         "18486480",
         "15472920",
         "0",
         "DOM_Sommer",
         "I551_Sommer",
         "DE_7",
         "DE_Sommer",
         "0"
        ],
        [
         "7",
         "M",
         "Monatlich",
         "DOM",
         "Inland",
         "NR",
         "Anzahl",
         "I551",
         "Hotels, Gasthöfe und Pensionen",
         "DE",
         "Deutschland",
         "2012-08-01 00:00:00",
         "20631875.0",
         "2.91",
         null,
         "08",
         "0.0",
         "8",
         "3",
         "Sommer",
         "2012",
         "-0.8660254037844385",
         "-0.5000000000000004",
         "18669354",
         "16235938",
         "0",
         "19202249",
         "18319333",
         "0",
         "DOM_Sommer",
         "I551_Sommer",
         "DE_8",
         "DE_Sommer",
         "0"
        ],
        [
         "8",
         "M",
         "Monatlich",
         "DOM",
         "Inland",
         "NR",
         "Anzahl",
         "I551",
         "Hotels, Gasthöfe und Pensionen",
         "DE",
         "Deutschland",
         "2012-09-01 00:00:00",
         "20677647.0",
         "3.45",
         null,
         "09",
         "0.0",
         "9",
         "3",
         "Herbst",
         "2012",
         "-1.0",
         "-1.8369701987210297e-16",
         "19440201",
         "17688477",
         "0",
         "20631875",
         "18486480",
         "0",
         "DOM_Herbst",
         "I551_Herbst",
         "DE_9",
         "DE_Herbst",
         "0"
        ],
        [
         "9",
         "M",
         "Monatlich",
         "DOM",
         "Inland",
         "NR",
         "Anzahl",
         "I551",
         "Hotels, Gasthöfe und Pensionen",
         "DE",
         "Deutschland",
         "2012-10-01 00:00:00",
         "18473660.0",
         "-1.18",
         null,
         "10",
         "0.0",
         "10",
         "4",
         "Herbst",
         "2012",
         "-0.8660254037844386",
         "0.5000000000000001",
         "20170590",
         "18798417",
         "0",
         "20677647",
         "19202249",
         "0",
         "DOM_Herbst",
         "I551_Herbst",
         "DE_10",
         "DE_Herbst",
         "0"
        ],
        [
         "10",
         "M",
         "Monatlich",
         "DOM",
         "Inland",
         "NR",
         "Anzahl",
         "I551",
         "Hotels, Gasthöfe und Pensionen",
         "DE",
         "Deutschland",
         "2012-11-01 00:00:00",
         "13687385.0",
         "1.87",
         null,
         "11",
         "0.0",
         "11",
         "4",
         "Herbst",
         "2012",
         "-0.5000000000000004",
         "0.8660254037844384",
         "19927727",
         "19298540",
         "0",
         "18473660",
         "20631875",
         "0",
         "DOM_Herbst",
         "I551_Herbst",
         "DE_11",
         "DE_Herbst",
         "0"
        ],
        [
         "11",
         "M",
         "Monatlich",
         "DOM",
         "Inland",
         "NR",
         "Anzahl",
         "I551",
         "Hotels, Gasthöfe und Pensionen",
         "DE",
         "Deutschland",
         "2012-12-01 00:00:00",
         "13048683.0",
         "5.7",
         null,
         "12",
         "0.0",
         "12",
         "4",
         "Winter",
         "2012",
         "-2.4492935982947064e-16",
         "1.0",
         "17612897",
         "18526549",
         "0",
         "13687385",
         "20677647",
         "0",
         "DOM_Winter",
         "I551_Winter",
         "DE_12",
         "DE_Winter",
         "0"
        ],
        [
         "12",
         "M",
         "Monatlich",
         "DOM",
         "Inland",
         "NR",
         "Anzahl",
         "I551",
         "Hotels, Gasthöfe und Pensionen",
         "DE",
         "Deutschland",
         "2013-01-01 00:00:00",
         "11115403.0",
         "0.84",
         null,
         "01",
         "0.84",
         "1",
         "1",
         "Winter",
         "2013",
         "0.49999999999999994",
         "0.8660254037844387",
         "15069909",
         "17620249",
         "16246457",
         "13048683",
         "18473660",
         "11022604",
         "DOM_Winter",
         "I551_Winter",
         "DE_1",
         "DE_Winter",
         "0"
        ],
        [
         "13",
         "M",
         "Monatlich",
         "DOM",
         "Inland",
         "NR",
         "Anzahl",
         "I551",
         "Hotels, Gasthöfe und Pensionen",
         "DE",
         "Deutschland",
         "2013-02-01 00:00:00",
         "11879065.0",
         "-0.32",
         null,
         "02",
         "-0.32",
         "2",
         "1",
         "Winter",
         "2013",
         "0.8660254037844386",
         "0.5000000000000001",
         "12617157",
         "16272442",
         "16254190",
         "11115403",
         "13687385",
         "11916641",
         "DOM_Winter",
         "I551_Winter",
         "DE_2",
         "DE_Winter",
         "0"
        ],
        [
         "14",
         "M",
         "Monatlich",
         "DOM",
         "Inland",
         "NR",
         "Anzahl",
         "I551",
         "Hotels, Gasthöfe und Pensionen",
         "DE",
         "Deutschland",
         "2013-03-01 00:00:00",
         "14435053.0",
         "2.98",
         null,
         "03",
         "2.98",
         "3",
         "1",
         "Frühling",
         "2013",
         "1.0",
         "6.123233995736766e-17",
         "12014383",
         "14813640",
         "16251058",
         "11879065",
         "13048683",
         "14018007",
         "DOM_Frühling",
         "I551_Frühling",
         "DE_3",
         "DE_Frühling",
         "0"
        ],
        [
         "15",
         "M",
         "Monatlich",
         "DOM",
         "Inland",
         "NR",
         "Anzahl",
         "I551",
         "Hotels, Gasthöfe und Pensionen",
         "DE",
         "Deutschland",
         "2013-04-01 00:00:00",
         "14772131.0",
         "-4.53",
         null,
         "04",
         "-4.53",
         "4",
         "2",
         "Frühling",
         "2013",
         "0.8660254037844387",
         "-0.4999999999999998",
         "12476507",
         "13773208",
         "16285812",
         "14435053",
         "11115403",
         "15472920",
         "DOM_Frühling",
         "I551_Frühling",
         "DE_4",
         "DE_Frühling",
         "0"
        ],
        [
         "16",
         "M",
         "Monatlich",
         "DOM",
         "Inland",
         "NR",
         "Anzahl",
         "I551",
         "Hotels, Gasthöfe und Pensionen",
         "DE",
         "Deutschland",
         "2013-05-01 00:00:00",
         "18641212.0",
         "1.76",
         null,
         "05",
         "1.76",
         "5",
         "2",
         "Frühling",
         "2013",
         "0.49999999999999994",
         "-0.8660254037844387",
         "13695416",
         "13156286",
         "16227413",
         "14772131",
         "11879065",
         "18319333",
         "DOM_Frühling",
         "I551_Frühling",
         "DE_5",
         "DE_Frühling",
         "0"
        ],
        [
         "17",
         "M",
         "Monatlich",
         "DOM",
         "Inland",
         "NR",
         "Anzahl",
         "I551",
         "Hotels, Gasthöfe und Pensionen",
         "DE",
         "Deutschland",
         "2013-06-01 00:00:00",
         "18452404.0",
         "-0.18",
         null,
         "06",
         "-0.18",
         "6",
         "2",
         "Sommer",
         "2013",
         "1.2246467991473532e-16",
         "-1.0",
         "15949465",
         "13981924",
         "16254236",
         "18641212",
         "14435053",
         "18486480",
         "DOM_Sommer",
         "I551_Sommer",
         "DE_6",
         "DE_Sommer",
         "0"
        ],
        [
         "18",
         "M",
         "Monatlich",
         "DOM",
         "Inland",
         "NR",
         "Anzahl",
         "I551",
         "Hotels, Gasthöfe und Pensionen",
         "DE",
         "Deutschland",
         "2013-07-01 00:00:00",
         "19788757.0",
         "3.05",
         null,
         "07",
         "3.05",
         "7",
         "3",
         "Sommer",
         "2013",
         "-0.4999999999999997",
         "-0.8660254037844388",
         "17288582",
         "14882544",
         "16251397",
         "18452404",
         "14772131",
         "19202249",
         "DOM_Sommer",
         "I551_Sommer",
         "DE_7",
         "DE_Sommer",
         "0"
        ],
        [
         "19",
         "M",
         "Monatlich",
         "DOM",
         "Inland",
         "NR",
         "Anzahl",
         "I551",
         "Hotels, Gasthöfe und Pensionen",
         "DE",
         "Deutschland",
         "2013-08-01 00:00:00",
         "21156478.0",
         "2.54",
         null,
         "08",
         "2.54",
         "8",
         "3",
         "Sommer",
         "2013",
         "-0.8660254037844385",
         "-0.5000000000000004",
         "18960791",
         "16328103",
         "16300272",
         "19788757",
         "18641212",
         "20631875",
         "DOM_Sommer",
         "I551_Sommer",
         "DE_8",
         "DE_Sommer",
         "0"
        ],
        [
         "20",
         "M",
         "Monatlich",
         "DOM",
         "Inland",
         "NR",
         "Anzahl",
         "I551",
         "Hotels, Gasthöfe und Pensionen",
         "DE",
         "Deutschland",
         "2013-09-01 00:00:00",
         "20286746.0",
         "-1.89",
         null,
         "09",
         "-1.89",
         "9",
         "3",
         "Herbst",
         "2013",
         "-1.0",
         "-1.8369701987210297e-16",
         "19799213",
         "17874339",
         "16343989",
         "21156478",
         "18452404",
         "20677647",
         "DOM_Herbst",
         "I551_Herbst",
         "DE_9",
         "DE_Herbst",
         "0"
        ],
        [
         "21",
         "M",
         "Monatlich",
         "DOM",
         "Inland",
         "NR",
         "Anzahl",
         "I551",
         "Hotels, Gasthöfe und Pensionen",
         "DE",
         "Deutschland",
         "2013-10-01 00:00:00",
         "19138829.0",
         "3.6",
         null,
         "10",
         "3.6",
         "10",
         "4",
         "Herbst",
         "2013",
         "-0.8660254037844386",
         "0.5000000000000001",
         "20410660",
         "18849621",
         "16311414",
         "20286746",
         "19788757",
         "18473660",
         "DOM_Herbst",
         "I551_Herbst",
         "DE_10",
         "DE_Herbst",
         "0"
        ],
        [
         "22",
         "M",
         "Monatlich",
         "DOM",
         "Inland",
         "NR",
         "Anzahl",
         "I551",
         "Hotels, Gasthöfe und Pensionen",
         "DE",
         "Deutschland",
         "2013-11-01 00:00:00",
         "14074469.0",
         "2.83",
         null,
         "11",
         "2.83",
         "11",
         "4",
         "Herbst",
         "2013",
         "-0.5000000000000004",
         "0.8660254037844384",
         "20194017",
         "19577404",
         "16366845",
         "19138829",
         "21156478",
         "13687385",
         "DOM_Herbst",
         "I551_Herbst",
         "DE_11",
         "DE_Herbst",
         "0"
        ],
        [
         "23",
         "M",
         "Monatlich",
         "DOM",
         "Inland",
         "NR",
         "Anzahl",
         "I551",
         "Hotels, Gasthöfe und Pensionen",
         "DE",
         "Deutschland",
         "2013-12-01 00:00:00",
         "13127938.0",
         "0.61",
         null,
         "12",
         "0.61",
         "12",
         "4",
         "Winter",
         "2013",
         "-2.4492935982947064e-16",
         "1.0",
         "17833348",
         "18816280",
         "16399102",
         "14074469",
         "20286746",
         "13048683",
         "DOM_Winter",
         "I551_Winter",
         "DE_12",
         "DE_Winter",
         "0"
        ],
        [
         "24",
         "M",
         "Monatlich",
         "DOM",
         "Inland",
         "NR",
         "Anzahl",
         "I551",
         "Hotels, Gasthöfe und Pensionen",
         "DE",
         "Deutschland",
         "2014-01-01 00:00:00",
         "11248641.0",
         "1.2",
         null,
         "01",
         "2.05",
         "1",
         "1",
         "Winter",
         "2014",
         "0.49999999999999994",
         "0.8660254037844387",
         "15447078",
         "17928869",
         "16405707",
         "13127938",
         "19138829",
         "11115403",
         "DOM_Winter",
         "I551_Winter",
         "DE_1",
         "DE_Winter",
         "0"
        ],
        [
         "25",
         "M",
         "Monatlich",
         "DOM",
         "Inland",
         "NR",
         "Anzahl",
         "I551",
         "Hotels, Gasthöfe und Pensionen",
         "DE",
         "Deutschland",
         "2014-02-01 00:00:00",
         "11942593.0",
         "0.53",
         null,
         "02",
         "0.22",
         "2",
         "1",
         "Winter",
         "2014",
         "0.8660254037844386",
         "0.5000000000000001",
         "12817016",
         "16505516",
         "16416810",
         "11248641",
         "14074469",
         "11879065",
         "DOM_Winter",
         "I551_Winter",
         "DE_2",
         "DE_Winter",
         "0"
        ],
        [
         "26",
         "M",
         "Monatlich",
         "DOM",
         "Inland",
         "NR",
         "Anzahl",
         "I551",
         "Hotels, Gasthöfe und Pensionen",
         "DE",
         "Deutschland",
         "2014-03-01 00:00:00",
         "14386635.0",
         "-0.34",
         null,
         "03",
         "2.63",
         "3",
         "1",
         "Frühling",
         "2014",
         "1.0",
         "6.123233995736766e-17",
         "12106390",
         "14969869",
         "16422104",
         "11942593",
         "13127938",
         "14435053",
         "DOM_Frühling",
         "I551_Frühling",
         "DE_3",
         "DE_Frühling",
         "0"
        ],
        [
         "27",
         "M",
         "Monatlich",
         "DOM",
         "Inland",
         "NR",
         "Anzahl",
         "I551",
         "Hotels, Gasthöfe und Pensionen",
         "DE",
         "Deutschland",
         "2014-04-01 00:00:00",
         "15631416.0",
         "5.82",
         null,
         "04",
         "1.02",
         "4",
         "2",
         "Frühling",
         "2014",
         "0.8660254037844387",
         "-0.4999999999999998",
         "12525956",
         "13986517",
         "16418069",
         "14386635",
         "11248641",
         "14772131",
         "DOM_Frühling",
         "I551_Frühling",
         "DE_4",
         "DE_Frühling",
         "0"
        ],
        [
         "28",
         "M",
         "Monatlich",
         "DOM",
         "Inland",
         "NR",
         "Anzahl",
         "I551",
         "Hotels, Gasthöfe und Pensionen",
         "DE",
         "Deutschland",
         "2014-05-01 00:00:00",
         "19281358.0",
         "3.43",
         null,
         "05",
         "5.25",
         "5",
         "2",
         "Frühling",
         "2014",
         "0.49999999999999994",
         "-0.8660254037844387",
         "13986881",
         "13401948",
         "16489676",
         "15631416",
         "11942593",
         "18641212",
         "DOM_Frühling",
         "I551_Frühling",
         "DE_5",
         "DE_Frühling",
         "0"
        ],
        [
         "29",
         "M",
         "Monatlich",
         "DOM",
         "Inland",
         "NR",
         "Anzahl",
         "I551",
         "Hotels, Gasthöfe und Pensionen",
         "DE",
         "Deutschland",
         "2014-06-01 00:00:00",
         "19038903.0",
         "3.18",
         null,
         "06",
         "2.99",
         "6",
         "2",
         "Sommer",
         "2014",
         "1.2246467991473532e-16",
         "-1.0",
         "16433136",
         "14269763",
         "16543022",
         "19281358",
         "14386635",
         "18452404",
         "DOM_Sommer",
         "I551_Sommer",
         "DE_6",
         "DE_Sommer",
         "0"
        ],
        [
         "30",
         "M",
         "Monatlich",
         "DOM",
         "Inland",
         "NR",
         "Anzahl",
         "I551",
         "Hotels, Gasthöfe und Pensionen",
         "DE",
         "Deutschland",
         "2014-07-01 00:00:00",
         "19574882.0",
         "-1.08",
         null,
         "07",
         "1.94",
         "7",
         "3",
         "Sommer",
         "2014",
         "-0.4999999999999997",
         "-0.8660254037844388",
         "17983892",
         "15254924",
         "16591896",
         "19038903",
         "15631416",
         "19788757",
         "DOM_Sommer",
         "I551_Sommer",
         "DE_7",
         "DE_Sommer",
         "0"
        ],
        [
         "31",
         "M",
         "Monatlich",
         "DOM",
         "Inland",
         "NR",
         "Anzahl",
         "I551",
         "Hotels, Gasthöfe und Pensionen",
         "DE",
         "Deutschland",
         "2014-08-01 00:00:00",
         "21892529.0",
         "3.48",
         null,
         "08",
         "6.11",
         "8",
         "3",
         "Sommer",
         "2014",
         "-0.8660254037844385",
         "-0.5000000000000004",
         "19298381",
         "16642631",
         "16574074",
         "19574882",
         "19281358",
         "21156478",
         "DOM_Sommer",
         "I551_Sommer",
         "DE_8",
         "DE_Sommer",
         "0"
        ],
        [
         "32",
         "M",
         "Monatlich",
         "DOM",
         "Inland",
         "NR",
         "Anzahl",
         "I551",
         "Hotels, Gasthöfe und Pensionen",
         "DE",
         "Deutschland",
         "2014-09-01 00:00:00",
         "20827544.0",
         "2.67",
         null,
         "09",
         "0.72",
         "9",
         "3",
         "Herbst",
         "2014",
         "-1.0",
         "-1.8369701987210297e-16",
         "20168771",
         "18300953",
         "16635411",
         "21892529",
         "19038903",
         "20286746",
         "DOM_Herbst",
         "I551_Herbst",
         "DE_9",
         "DE_Herbst",
         "0"
        ],
        [
         "33",
         "M",
         "Monatlich",
         "DOM",
         "Inland",
         "NR",
         "Anzahl",
         "I551",
         "Hotels, Gasthöfe und Pensionen",
         "DE",
         "Deutschland",
         "2014-10-01 00:00:00",
         "19988421.0",
         "4.44",
         null,
         "10",
         "8.2",
         "10",
         "4",
         "Herbst",
         "2014",
         "-0.8660254037844386",
         "0.5000000000000001",
         "20764985",
         "19374438",
         "16680478",
         "20827544",
         "19574882",
         "19138829",
         "DOM_Herbst",
         "I551_Herbst",
         "DE_10",
         "DE_Herbst",
         "0"
        ],
        [
         "34",
         "M",
         "Monatlich",
         "DOM",
         "Inland",
         "NR",
         "Anzahl",
         "I551",
         "Hotels, Gasthöfe und Pensionen",
         "DE",
         "Deutschland",
         "2014-11-01 00:00:00",
         "14527945.0",
         "3.22",
         null,
         "11",
         "6.14",
         "11",
         "4",
         "Herbst",
         "2014",
         "-0.5000000000000004",
         "0.8660254037844384",
         "20902831",
         "20100606",
         "16751277",
         "19988421",
         "21892529",
         "14074469",
         "DOM_Herbst",
         "I551_Herbst",
         "DE_11",
         "DE_Herbst",
         "0"
        ],
        [
         "35",
         "M",
         "Monatlich",
         "DOM",
         "Inland",
         "NR",
         "Anzahl",
         "I551",
         "Hotels, Gasthöfe und Pensionen",
         "DE",
         "Deutschland",
         "2014-12-01 00:00:00",
         "13797418.0",
         "5.1",
         null,
         "12",
         "5.74",
         "12",
         "4",
         "Winter",
         "2014",
         "-2.4492935982947064e-16",
         "1.0",
         "18447970",
         "19308370",
         "16789067",
         "14527945",
         "20827544",
         "13127938",
         "DOM_Winter",
         "I551_Winter",
         "DE_12",
         "DE_Winter",
         "0"
        ],
        [
         "36",
         "M",
         "Monatlich",
         "DOM",
         "Inland",
         "NR",
         "Anzahl",
         "I551",
         "Hotels, Gasthöfe und Pensionen",
         "DE",
         "Deutschland",
         "2015-01-01 00:00:00",
         "11556578.0",
         "2.74",
         null,
         "01",
         "4.84",
         "1",
         "1",
         "Winter",
         "2015",
         "0.49999999999999994",
         "0.8660254037844387",
         "16104594",
         "18434789",
         "16844857",
         "13797418",
         "19988421",
         "11248641",
         "DOM_Winter",
         "I551_Winter",
         "DE_1",
         "DE_Winter",
         "0"
        ],
        [
         "37",
         "M",
         "Monatlich",
         "DOM",
         "Inland",
         "NR",
         "Anzahl",
         "I551",
         "Hotels, Gasthöfe und Pensionen",
         "DE",
         "Deutschland",
         "2015-02-01 00:00:00",
         "12661791.0",
         "6.02",
         null,
         "02",
         "6.25",
         "2",
         "1",
         "Winter",
         "2015",
         "0.8660254037844386",
         "0.5000000000000001",
         "13293980",
         "17098405",
         "16870518",
         "11556578",
         "14527945",
         "11942593",
         "DOM_Winter",
         "I551_Winter",
         "DE_2",
         "DE_Winter",
         "0"
        ],
        [
         "38",
         "M",
         "Monatlich",
         "DOM",
         "Inland",
         "NR",
         "Anzahl",
         "I551",
         "Hotels, Gasthöfe und Pensionen",
         "DE",
         "Deutschland",
         "2015-03-01 00:00:00",
         "14900948.0",
         "3.57",
         null,
         "03",
         "6.3",
         "3",
         "1",
         "Frühling",
         "2015",
         "1.0",
         "6.123233995736766e-17",
         "12671929",
         "15559949",
         "16930451",
         "12661791",
         "13797418",
         "14386635",
         "DOM_Frühling",
         "I551_Frühling",
         "DE_3",
         "DE_Frühling",
         "0"
        ],
        [
         "39",
         "M",
         "Monatlich",
         "DOM",
         "Inland",
         "NR",
         "Anzahl",
         "I551",
         "Hotels, Gasthöfe und Pensionen",
         "DE",
         "Deutschland",
         "2015-04-01 00:00:00",
         "15964041.0",
         "2.13",
         null,
         "04",
         "3.17",
         "4",
         "2",
         "Frühling",
         "2015",
         "0.8660254037844387",
         "-0.4999999999999998",
         "13039772",
         "14572183",
         "16973311",
         "14900948",
         "11556578",
         "15631416",
         "DOM_Frühling",
         "I551_Frühling",
         "DE_4",
         "DE_Frühling",
         "0"
        ],
        [
         "40",
         "M",
         "Monatlich",
         "DOM",
         "Inland",
         "NR",
         "Anzahl",
         "I551",
         "Hotels, Gasthöfe und Pensionen",
         "DE",
         "Deutschland",
         "2015-05-01 00:00:00",
         "19746072.0",
         "2.41",
         null,
         "05",
         "7.79",
         "5",
         "2",
         "Frühling",
         "2015",
         "0.49999999999999994",
         "-0.8660254037844387",
         "14508926",
         "13901453",
         "17001029",
         "15964041",
         "12661791",
         "19281358",
         "DOM_Frühling",
         "I551_Frühling",
         "DE_5",
         "DE_Frühling",
         "0"
        ],
        [
         "41",
         "M",
         "Monatlich",
         "DOM",
         "Inland",
         "NR",
         "Anzahl",
         "I551",
         "Hotels, Gasthöfe und Pensionen",
         "DE",
         "Deutschland",
         "2015-06-01 00:00:00",
         "19781740.0",
         "3.9",
         null,
         "06",
         "7.01",
         "6",
         "2",
         "Sommer",
         "2015",
         "1.2246467991473532e-16",
         "-1.0",
         "16870353",
         "14771141",
         "17039756",
         "19746072",
         "14900948",
         "19038903",
         "DOM_Sommer",
         "I551_Sommer",
         "DE_6",
         "DE_Sommer",
         "0"
        ],
        [
         "42",
         "M",
         "Monatlich",
         "DOM",
         "Inland",
         "NR",
         "Anzahl",
         "I551",
         "Hotels, Gasthöfe und Pensionen",
         "DE",
         "Deutschland",
         "2015-07-01 00:00:00",
         "20464287.0",
         "4.54",
         null,
         "07",
         "6.57",
         "7",
         "3",
         "Sommer",
         "2015",
         "-0.4999999999999997",
         "-0.8660254037844388",
         "18497284",
         "15768528",
         "17101659",
         "19781740",
         "15964041",
         "19574882",
         "DOM_Sommer",
         "I551_Sommer",
         "DE_7",
         "DE_Sommer",
         "0"
        ],
        [
         "43",
         "M",
         "Monatlich",
         "DOM",
         "Inland",
         "NR",
         "Anzahl",
         "I551",
         "Hotels, Gasthöfe und Pensionen",
         "DE",
         "Deutschland",
         "2015-08-01 00:00:00",
         "22110010.0",
         "0.99",
         null,
         "08",
         "7.16",
         "8",
         "3",
         "Sommer",
         "2015",
         "-0.8660254037844385",
         "-0.5000000000000004",
         "19997366",
         "17253146",
         "17175776",
         "20464287",
         "19746072",
         "21892529",
         "DOM_Sommer",
         "I551_Sommer",
         "DE_8",
         "DE_Sommer",
         "0"
        ],
        [
         "44",
         "M",
         "Monatlich",
         "DOM",
         "Inland",
         "NR",
         "Anzahl",
         "I551",
         "Hotels, Gasthöfe und Pensionen",
         "DE",
         "Deutschland",
         "2015-09-01 00:00:00",
         "21225480.0",
         "1.91",
         null,
         "09",
         "2.65",
         "9",
         "3",
         "Herbst",
         "2015",
         "-1.0",
         "-1.8369701987210297e-16",
         "20785345",
         "18827849",
         "17193899",
         "22110010",
         "19781740",
         "20827544",
         "DOM_Herbst",
         "I551_Herbst",
         "DE_9",
         "DE_Herbst",
         "0"
        ],
        [
         "45",
         "M",
         "Monatlich",
         "DOM",
         "Inland",
         "NR",
         "Anzahl",
         "I551",
         "Hotels, Gasthöfe und Pensionen",
         "DE",
         "Deutschland",
         "2015-10-01 00:00:00",
         "20110010.0",
         "0.61",
         null,
         "10",
         "8.86",
         "10",
         "4",
         "Herbst",
         "2015",
         "-0.8660254037844386",
         "0.5000000000000001",
         "21266592",
         "19881938",
         "17227060",
         "21225480",
         "20464287",
         "19988421",
         "DOM_Herbst",
         "I551_Herbst",
         "DE_10",
         "DE_Herbst",
         "0"
        ],
        [
         "46",
         "M",
         "Monatlich",
         "DOM",
         "Inland",
         "NR",
         "Anzahl",
         "I551",
         "Hotels, Gasthöfe und Pensionen",
         "DE",
         "Deutschland",
         "2015-11-01 00:00:00",
         "15011587.0",
         "3.33",
         null,
         "11",
         "9.67",
         "11",
         "4",
         "Herbst",
         "2015",
         "-0.5000000000000004",
         "0.8660254037844384",
         "21148500",
         "20572933",
         "17237193",
         "20110010",
         "22110010",
         "14527945",
         "DOM_Herbst",
         "I551_Herbst",
         "DE_11",
         "DE_Herbst",
         "0"
        ],
        [
         "47",
         "M",
         "Monatlich",
         "DOM",
         "Inland",
         "NR",
         "Anzahl",
         "I551",
         "Hotels, Gasthöfe und Pensionen",
         "DE",
         "Deutschland",
         "2015-12-01 00:00:00",
         "14080853.0",
         "2.05",
         null,
         "12",
         "7.91",
         "12",
         "4",
         "Winter",
         "2015",
         "-2.4492935982947064e-16",
         "1.0",
         "18782359",
         "19783852",
         "17277496",
         "15011587",
         "21225480",
         "13797418",
         "DOM_Winter",
         "I551_Winter",
         "DE_12",
         "DE_Winter",
         "0"
        ],
        [
         "48",
         "M",
         "Monatlich",
         "DOM",
         "Inland",
         "NR",
         "Anzahl",
         "I551",
         "Hotels, Gasthöfe und Pensionen",
         "DE",
         "Deutschland",
         "2016-01-01 00:00:00",
         "11974553.0",
         "3.62",
         null,
         "01",
         "8.64",
         "1",
         "1",
         "Winter",
         "2016",
         "0.49999999999999994",
         "0.8660254037844387",
         "16400816",
         "18833704",
         "17301116",
         "14080853",
         "20110010",
         "11556578",
         "DOM_Winter",
         "I551_Winter",
         "DE_1",
         "DE_Winter",
         "0"
        ],
        [
         "49",
         "M",
         "Monatlich",
         "DOM",
         "Inland",
         "NR",
         "Anzahl",
         "I551",
         "Hotels, Gasthöfe und Pensionen",
         "DE",
         "Deutschland",
         "2016-02-01 00:00:00",
         "13348057.0",
         "5.42",
         null,
         "02",
         "12.01",
         "2",
         "1",
         "Winter",
         "2016",
         "0.8660254037844386",
         "0.5000000000000001",
         "13688997",
         "17418748",
         "17335947",
         "11974553",
         "15011587",
         "12661791",
         "DOM_Winter",
         "I551_Winter",
         "DE_2",
         "DE_Winter",
         "0"
        ]
       ],
       "shape": {
        "columns": 33,
        "rows": 9716
       }
      },
      "text/html": [
       "<div>\n",
       "<style scoped>\n",
       "    .dataframe tbody tr th:only-of-type {\n",
       "        vertical-align: middle;\n",
       "    }\n",
       "\n",
       "    .dataframe tbody tr th {\n",
       "        vertical-align: top;\n",
       "    }\n",
       "\n",
       "    .dataframe thead th {\n",
       "        text-align: right;\n",
       "    }\n",
       "</style>\n",
       "<table border=\"1\" class=\"dataframe\">\n",
       "  <thead>\n",
       "    <tr style=\"text-align: right;\">\n",
       "      <th></th>\n",
       "      <th>Zeitliche_Frequenz_Idx</th>\n",
       "      <th>Zeitliche_Frequenz</th>\n",
       "      <th>Aufenthaltsland_Idx</th>\n",
       "      <th>Aufenthaltsland</th>\n",
       "      <th>Maßeinheit_Idx</th>\n",
       "      <th>Maßeinheit</th>\n",
       "      <th>NACEr2_Idx</th>\n",
       "      <th>NACEr2</th>\n",
       "      <th>Geopolitische_Meldeeinheit_Idx</th>\n",
       "      <th>Geopolitische_Meldeeinheit</th>\n",
       "      <th>...</th>\n",
       "      <th>MA6</th>\n",
       "      <th>MA12</th>\n",
       "      <th>Lag_1</th>\n",
       "      <th>Lag_3</th>\n",
       "      <th>Lag_12</th>\n",
       "      <th>Aufenthaltsland_Saison</th>\n",
       "      <th>NACEr2_Saison</th>\n",
       "      <th>Land_Monat</th>\n",
       "      <th>Land_Saison</th>\n",
       "      <th>pandemic_dummy</th>\n",
       "    </tr>\n",
       "  </thead>\n",
       "  <tbody>\n",
       "    <tr>\n",
       "      <th>0</th>\n",
       "      <td>M</td>\n",
       "      <td>Monatlich</td>\n",
       "      <td>DOM</td>\n",
       "      <td>Inland</td>\n",
       "      <td>NR</td>\n",
       "      <td>Anzahl</td>\n",
       "      <td>I551</td>\n",
       "      <td>Hotels, Gasthöfe und Pensionen</td>\n",
       "      <td>DE</td>\n",
       "      <td>Deutschland</td>\n",
       "      <td>...</td>\n",
       "      <td>0</td>\n",
       "      <td>0</td>\n",
       "      <td>0</td>\n",
       "      <td>0</td>\n",
       "      <td>0</td>\n",
       "      <td>DOM_Winter</td>\n",
       "      <td>I551_Winter</td>\n",
       "      <td>DE_1</td>\n",
       "      <td>DE_Winter</td>\n",
       "      <td>0</td>\n",
       "    </tr>\n",
       "    <tr>\n",
       "      <th>1</th>\n",
       "      <td>M</td>\n",
       "      <td>Monatlich</td>\n",
       "      <td>DOM</td>\n",
       "      <td>Inland</td>\n",
       "      <td>NR</td>\n",
       "      <td>Anzahl</td>\n",
       "      <td>I551</td>\n",
       "      <td>Hotels, Gasthöfe und Pensionen</td>\n",
       "      <td>DE</td>\n",
       "      <td>Deutschland</td>\n",
       "      <td>...</td>\n",
       "      <td>0</td>\n",
       "      <td>0</td>\n",
       "      <td>11022604</td>\n",
       "      <td>0</td>\n",
       "      <td>0</td>\n",
       "      <td>DOM_Winter</td>\n",
       "      <td>I551_Winter</td>\n",
       "      <td>DE_2</td>\n",
       "      <td>DE_Winter</td>\n",
       "      <td>0</td>\n",
       "    </tr>\n",
       "    <tr>\n",
       "      <th>2</th>\n",
       "      <td>M</td>\n",
       "      <td>Monatlich</td>\n",
       "      <td>DOM</td>\n",
       "      <td>Inland</td>\n",
       "      <td>NR</td>\n",
       "      <td>Anzahl</td>\n",
       "      <td>I551</td>\n",
       "      <td>Hotels, Gasthöfe und Pensionen</td>\n",
       "      <td>DE</td>\n",
       "      <td>Deutschland</td>\n",
       "      <td>...</td>\n",
       "      <td>0</td>\n",
       "      <td>0</td>\n",
       "      <td>11916641</td>\n",
       "      <td>0</td>\n",
       "      <td>0</td>\n",
       "      <td>DOM_Frühling</td>\n",
       "      <td>I551_Frühling</td>\n",
       "      <td>DE_3</td>\n",
       "      <td>DE_Frühling</td>\n",
       "      <td>0</td>\n",
       "    </tr>\n",
       "    <tr>\n",
       "      <th>3</th>\n",
       "      <td>M</td>\n",
       "      <td>Monatlich</td>\n",
       "      <td>DOM</td>\n",
       "      <td>Inland</td>\n",
       "      <td>NR</td>\n",
       "      <td>Anzahl</td>\n",
       "      <td>I551</td>\n",
       "      <td>Hotels, Gasthöfe und Pensionen</td>\n",
       "      <td>DE</td>\n",
       "      <td>Deutschland</td>\n",
       "      <td>...</td>\n",
       "      <td>0</td>\n",
       "      <td>0</td>\n",
       "      <td>14018007</td>\n",
       "      <td>11022604</td>\n",
       "      <td>0</td>\n",
       "      <td>DOM_Frühling</td>\n",
       "      <td>I551_Frühling</td>\n",
       "      <td>DE_4</td>\n",
       "      <td>DE_Frühling</td>\n",
       "      <td>0</td>\n",
       "    </tr>\n",
       "    <tr>\n",
       "      <th>4</th>\n",
       "      <td>M</td>\n",
       "      <td>Monatlich</td>\n",
       "      <td>DOM</td>\n",
       "      <td>Inland</td>\n",
       "      <td>NR</td>\n",
       "      <td>Anzahl</td>\n",
       "      <td>I551</td>\n",
       "      <td>Hotels, Gasthöfe und Pensionen</td>\n",
       "      <td>DE</td>\n",
       "      <td>Deutschland</td>\n",
       "      <td>...</td>\n",
       "      <td>0</td>\n",
       "      <td>0</td>\n",
       "      <td>15472920</td>\n",
       "      <td>11916641</td>\n",
       "      <td>0</td>\n",
       "      <td>DOM_Frühling</td>\n",
       "      <td>I551_Frühling</td>\n",
       "      <td>DE_5</td>\n",
       "      <td>DE_Frühling</td>\n",
       "      <td>0</td>\n",
       "    </tr>\n",
       "    <tr>\n",
       "      <th>...</th>\n",
       "      <td>...</td>\n",
       "      <td>...</td>\n",
       "      <td>...</td>\n",
       "      <td>...</td>\n",
       "      <td>...</td>\n",
       "      <td>...</td>\n",
       "      <td>...</td>\n",
       "      <td>...</td>\n",
       "      <td>...</td>\n",
       "      <td>...</td>\n",
       "      <td>...</td>\n",
       "      <td>...</td>\n",
       "      <td>...</td>\n",
       "      <td>...</td>\n",
       "      <td>...</td>\n",
       "      <td>...</td>\n",
       "      <td>...</td>\n",
       "      <td>...</td>\n",
       "      <td>...</td>\n",
       "      <td>...</td>\n",
       "      <td>...</td>\n",
       "    </tr>\n",
       "    <tr>\n",
       "      <th>9711</th>\n",
       "      <td>M</td>\n",
       "      <td>Monatlich</td>\n",
       "      <td>FOR</td>\n",
       "      <td>Ausland</td>\n",
       "      <td>NR</td>\n",
       "      <td>Anzahl</td>\n",
       "      <td>I553</td>\n",
       "      <td>Campingplätze</td>\n",
       "      <td>SE</td>\n",
       "      <td>Schweden</td>\n",
       "      <td>...</td>\n",
       "      <td>222207</td>\n",
       "      <td>347966</td>\n",
       "      <td>39993</td>\n",
       "      <td>16442</td>\n",
       "      <td>43935</td>\n",
       "      <td>FOR_Winter</td>\n",
       "      <td>I553_Winter</td>\n",
       "      <td>SE_2</td>\n",
       "      <td>SE_Winter</td>\n",
       "      <td>0</td>\n",
       "    </tr>\n",
       "    <tr>\n",
       "      <th>9712</th>\n",
       "      <td>M</td>\n",
       "      <td>Monatlich</td>\n",
       "      <td>FOR</td>\n",
       "      <td>Ausland</td>\n",
       "      <td>NR</td>\n",
       "      <td>Anzahl</td>\n",
       "      <td>I553</td>\n",
       "      <td>Campingplätze</td>\n",
       "      <td>SE</td>\n",
       "      <td>Schweden</td>\n",
       "      <td>...</td>\n",
       "      <td>61692</td>\n",
       "      <td>348836</td>\n",
       "      <td>54382</td>\n",
       "      <td>18819</td>\n",
       "      <td>62523</td>\n",
       "      <td>FOR_Frühling</td>\n",
       "      <td>I553_Frühling</td>\n",
       "      <td>SE_3</td>\n",
       "      <td>SE_Frühling</td>\n",
       "      <td>0</td>\n",
       "    </tr>\n",
       "    <tr>\n",
       "      <th>9713</th>\n",
       "      <td>M</td>\n",
       "      <td>Monatlich</td>\n",
       "      <td>FOR</td>\n",
       "      <td>Ausland</td>\n",
       "      <td>NR</td>\n",
       "      <td>Anzahl</td>\n",
       "      <td>I553</td>\n",
       "      <td>Campingplätze</td>\n",
       "      <td>SE</td>\n",
       "      <td>Schweden</td>\n",
       "      <td>...</td>\n",
       "      <td>39363</td>\n",
       "      <td>348056</td>\n",
       "      <td>53157</td>\n",
       "      <td>39993</td>\n",
       "      <td>55004</td>\n",
       "      <td>FOR_Frühling</td>\n",
       "      <td>I553_Frühling</td>\n",
       "      <td>SE_4</td>\n",
       "      <td>SE_Frühling</td>\n",
       "      <td>0</td>\n",
       "    </tr>\n",
       "    <tr>\n",
       "      <th>9714</th>\n",
       "      <td>M</td>\n",
       "      <td>Monatlich</td>\n",
       "      <td>FOR</td>\n",
       "      <td>Ausland</td>\n",
       "      <td>NR</td>\n",
       "      <td>Anzahl</td>\n",
       "      <td>I553</td>\n",
       "      <td>Campingplätze</td>\n",
       "      <td>SE</td>\n",
       "      <td>Schweden</td>\n",
       "      <td>...</td>\n",
       "      <td>47458</td>\n",
       "      <td>351968</td>\n",
       "      <td>101956</td>\n",
       "      <td>54382</td>\n",
       "      <td>242426</td>\n",
       "      <td>FOR_Frühling</td>\n",
       "      <td>I553_Frühling</td>\n",
       "      <td>SE_5</td>\n",
       "      <td>SE_Frühling</td>\n",
       "      <td>0</td>\n",
       "    </tr>\n",
       "    <tr>\n",
       "      <th>9715</th>\n",
       "      <td>M</td>\n",
       "      <td>Monatlich</td>\n",
       "      <td>FOR</td>\n",
       "      <td>Ausland</td>\n",
       "      <td>NR</td>\n",
       "      <td>Anzahl</td>\n",
       "      <td>I553</td>\n",
       "      <td>Campingplätze</td>\n",
       "      <td>SE</td>\n",
       "      <td>Schweden</td>\n",
       "      <td>...</td>\n",
       "      <td>86373</td>\n",
       "      <td>352594</td>\n",
       "      <td>249936</td>\n",
       "      <td>53157</td>\n",
       "      <td>655707</td>\n",
       "      <td>FOR_Sommer</td>\n",
       "      <td>I553_Sommer</td>\n",
       "      <td>SE_6</td>\n",
       "      <td>SE_Sommer</td>\n",
       "      <td>0</td>\n",
       "    </tr>\n",
       "  </tbody>\n",
       "</table>\n",
       "<p>9716 rows × 33 columns</p>\n",
       "</div>"
      ],
      "text/plain": [
       "     Zeitliche_Frequenz_Idx Zeitliche_Frequenz Aufenthaltsland_Idx  \\\n",
       "0                         M          Monatlich                 DOM   \n",
       "1                         M          Monatlich                 DOM   \n",
       "2                         M          Monatlich                 DOM   \n",
       "3                         M          Monatlich                 DOM   \n",
       "4                         M          Monatlich                 DOM   \n",
       "...                     ...                ...                 ...   \n",
       "9711                      M          Monatlich                 FOR   \n",
       "9712                      M          Monatlich                 FOR   \n",
       "9713                      M          Monatlich                 FOR   \n",
       "9714                      M          Monatlich                 FOR   \n",
       "9715                      M          Monatlich                 FOR   \n",
       "\n",
       "     Aufenthaltsland Maßeinheit_Idx Maßeinheit NACEr2_Idx  \\\n",
       "0             Inland             NR     Anzahl       I551   \n",
       "1             Inland             NR     Anzahl       I551   \n",
       "2             Inland             NR     Anzahl       I551   \n",
       "3             Inland             NR     Anzahl       I551   \n",
       "4             Inland             NR     Anzahl       I551   \n",
       "...              ...            ...        ...        ...   \n",
       "9711         Ausland             NR     Anzahl       I553   \n",
       "9712         Ausland             NR     Anzahl       I553   \n",
       "9713         Ausland             NR     Anzahl       I553   \n",
       "9714         Ausland             NR     Anzahl       I553   \n",
       "9715         Ausland             NR     Anzahl       I553   \n",
       "\n",
       "                              NACEr2 Geopolitische_Meldeeinheit_Idx  \\\n",
       "0     Hotels, Gasthöfe und Pensionen                             DE   \n",
       "1     Hotels, Gasthöfe und Pensionen                             DE   \n",
       "2     Hotels, Gasthöfe und Pensionen                             DE   \n",
       "3     Hotels, Gasthöfe und Pensionen                             DE   \n",
       "4     Hotels, Gasthöfe und Pensionen                             DE   \n",
       "...                              ...                            ...   \n",
       "9711                   Campingplätze                             SE   \n",
       "9712                   Campingplätze                             SE   \n",
       "9713                   Campingplätze                             SE   \n",
       "9714                   Campingplätze                             SE   \n",
       "9715                   Campingplätze                             SE   \n",
       "\n",
       "     Geopolitische_Meldeeinheit  ...     MA6    MA12     Lag_1     Lag_3  \\\n",
       "0                   Deutschland  ...       0       0         0         0   \n",
       "1                   Deutschland  ...       0       0  11022604         0   \n",
       "2                   Deutschland  ...       0       0  11916641         0   \n",
       "3                   Deutschland  ...       0       0  14018007  11022604   \n",
       "4                   Deutschland  ...       0       0  15472920  11916641   \n",
       "...                         ...  ...     ...     ...       ...       ...   \n",
       "9711                   Schweden  ...  222207  347966     39993     16442   \n",
       "9712                   Schweden  ...   61692  348836     54382     18819   \n",
       "9713                   Schweden  ...   39363  348056     53157     39993   \n",
       "9714                   Schweden  ...   47458  351968    101956     54382   \n",
       "9715                   Schweden  ...   86373  352594    249936     53157   \n",
       "\n",
       "      Lag_12  Aufenthaltsland_Saison  NACEr2_Saison Land_Monat  Land_Saison  \\\n",
       "0          0              DOM_Winter    I551_Winter       DE_1    DE_Winter   \n",
       "1          0              DOM_Winter    I551_Winter       DE_2    DE_Winter   \n",
       "2          0            DOM_Frühling  I551_Frühling       DE_3  DE_Frühling   \n",
       "3          0            DOM_Frühling  I551_Frühling       DE_4  DE_Frühling   \n",
       "4          0            DOM_Frühling  I551_Frühling       DE_5  DE_Frühling   \n",
       "...      ...                     ...            ...        ...          ...   \n",
       "9711   43935              FOR_Winter    I553_Winter       SE_2    SE_Winter   \n",
       "9712   62523            FOR_Frühling  I553_Frühling       SE_3  SE_Frühling   \n",
       "9713   55004            FOR_Frühling  I553_Frühling       SE_4  SE_Frühling   \n",
       "9714  242426            FOR_Frühling  I553_Frühling       SE_5  SE_Frühling   \n",
       "9715  655707              FOR_Sommer    I553_Sommer       SE_6    SE_Sommer   \n",
       "\n",
       "      pandemic_dummy  \n",
       "0                  0  \n",
       "1                  0  \n",
       "2                  0  \n",
       "3                  0  \n",
       "4                  0  \n",
       "...              ...  \n",
       "9711               0  \n",
       "9712               0  \n",
       "9713               0  \n",
       "9714               0  \n",
       "9715               0  \n",
       "\n",
       "[9716 rows x 33 columns]"
      ]
     },
     "metadata": {},
     "output_type": "display_data"
    }
   ],
   "source": [
    "import pandas as pd\n",
    "import numpy as np\n",
    "\n",
    "# ---  Add additional Feature columnms  --- #\n",
    "\n",
    "# 1. Monat (month as number, regex)\n",
    "df_anzahl[\"Monat\"] = df_anzahl[\"JahrMonat\"].str.extract(r\"-(\\d{2})\").astype(int)\n",
    "\n",
    "# 2. Quartal (map months to quarters)\n",
    "month_to_quarter = {\n",
    "    1: \"1\", 2: \"1\", 3: \"1\",\n",
    "    4: \"2\", 5: \"2\", 6: \"2\",\n",
    "    7: \"3\", 8: \"3\", 9: \"3\",\n",
    "    10: \"4\", 11: \"4\", 12: \"4\"\n",
    "}\n",
    "df_anzahl[\"Quartal\"] = df_anzahl[\"Monat\"].map(month_to_quarter)\n",
    "\n",
    "# 3. Season (die Saison/ die Jahreszeit)\n",
    "month_to_season = {\n",
    "    1: \"Winter\", 2: \"Winter\", 3: \"Frühling\",\n",
    "    4: \"Frühling\", 5: \"Frühling\", 6: \"Sommer\",\n",
    "    7: \"Sommer\", 8: \"Sommer\", 9: \"Herbst\",\n",
    "    10: \"Herbst\", 11: \"Herbst\", 12: \"Winter\"\n",
    "}\n",
    "df_anzahl[\"Saison\"] = df_anzahl[\"Monat\"].map(month_to_season)\n",
    "\n",
    "# 4. Jahr (year as number, regex)\n",
    "df_anzahl[\"Jahr\"] = df_anzahl[\"JahrMonat\"].str.extract(r\"(\\d{4})\").astype(int)\n",
    "\n",
    "# 5. Cyclical encoding of month\n",
    "df_anzahl[\"Month_cycl_sin\"] = np.sin(2 * np.pi * df_anzahl[\"Monat\"] / 12)\n",
    "df_anzahl[\"Month_cycl_cos\"] = np.cos(2 * np.pi * df_anzahl[\"Monat\"] / 12)\n",
    "\n",
    "# 6. Moving averages\n",
    "df_anzahl = df_anzahl.sort_values([\"Geopolitische_Meldeeinheit_Idx\", \n",
    "                     \"Aufenthaltsland_Idx\",\n",
    "                     \"NACEr2_Idx\",\n",
    "                     \"JahrMonat\"]) # chronological order\n",
    "\n",
    "df_anzahl[\"MA3\"] = (\n",
    "    df_anzahl.groupby([\"Geopolitische_Meldeeinheit_Idx\", \n",
    "                \"Aufenthaltsland_Idx\",\n",
    "                \"NACEr2_Idx\"])[\"value\"]\n",
    "      .transform(lambda x: x.shift(1).rolling(3).mean().fillna(0).astype(int))\n",
    ")\n",
    "\n",
    "df_anzahl[\"MA6\"] = (\n",
    "    df_anzahl.groupby([\"Geopolitische_Meldeeinheit_Idx\", \n",
    "                \"Aufenthaltsland_Idx\",\n",
    "                \"NACEr2_Idx\"])[\"value\"]\n",
    "      .transform(lambda x: x.shift(1).rolling(6).mean().fillna(0).astype(int))\n",
    ")\n",
    "\n",
    "df_anzahl[\"MA12\"] = (\n",
    "    df_anzahl.groupby([\"Geopolitische_Meldeeinheit_Idx\", \n",
    "                \"Aufenthaltsland_Idx\",\n",
    "                \"NACEr2_Idx\"])[\"value\"]\n",
    "      .transform(lambda x: x.shift(1).rolling(12).mean().fillna(0).astype(int))\n",
    ")\n",
    "\n",
    "# 7. Lags des Targets (lag_1, lag_3, lag_12):\n",
    "df_anzahl = df_anzahl.sort_values([\"Geopolitische_Meldeeinheit_Idx\",\n",
    "                     \"Aufenthaltsland_Idx\",\n",
    "                     \"NACEr2_Idx\",\n",
    "                     \"JahrMonat\"])\n",
    "\n",
    "# Gruppe definieren\n",
    "grp = df_anzahl.groupby([\"Geopolitische_Meldeeinheit_Idx\",\n",
    "                  \"Aufenthaltsland_Idx\",\n",
    "                  \"NACEr2_Idx\"])\n",
    "\n",
    "# Lags berechnen\n",
    "for L in [1, 3, 12]:\n",
    "    df_anzahl[f\"Lag_{L}\"] = grp[\"value\"].shift(L).fillna(0).astype(int)\n",
    "\n",
    "# 8. Residency × Saison (Inländer vs. Ausländer):\n",
    "df_anzahl[\"Aufenthaltsland_Saison\"] = df_anzahl[\"Aufenthaltsland_Idx\"] + \"_\" + df_anzahl[\"Saison\"].astype(str)\n",
    "\n",
    "# 9. Unterkunft × Saison:\n",
    "df_anzahl[\"NACEr2_Saison\"] = df_anzahl[\"NACEr2_Idx\"] + \"_\" + df_anzahl[\"Saison\"].astype(str)\n",
    "\n",
    "# 10. Land × Monat:\n",
    "df_anzahl[\"Land_Monat\"] = df_anzahl[\"Geopolitische_Meldeeinheit_Idx\"] + \"_\" + df_anzahl[\"Monat\"].astype(str)\n",
    "\n",
    "# 10. Land × Saison:\n",
    "df_anzahl[\"Land_Saison\"] = df_anzahl[\"Geopolitische_Meldeeinheit_Idx\"] + \"_\" + df_anzahl[\"Saison\"].astype(str)\n",
    "\n",
    "# 11. Pandemic (Covid19) Maske\n",
    "# Define pandemic period (adjust dates as needed)\n",
    "pandemic_start = \"2020-03\"\n",
    "pandemic_end   = \"2023-04\"\n",
    "\n",
    "df_anzahl[\"JahrMonat\"] = pd.to_datetime(df_anzahl[\"JahrMonat\"])   # <- use later to convert\n",
    "\n",
    "df_anzahl[\"pandemic_dummy\"] = (\n",
    "    (df_anzahl[\"JahrMonat\"] >= pandemic_start) &\n",
    "    (df_anzahl[\"JahrMonat\"] <= pandemic_end)\n",
    ").astype(int)\n",
    "\n",
    "\n",
    "display(df_anzahl)"
   ]
  },
  {
   "cell_type": "code",
   "execution_count": 10,
   "id": "fee7f709",
   "metadata": {},
   "outputs": [
    {
     "name": "stdout",
     "output_type": "stream",
     "text": [
      "<class 'pandas.core.frame.DataFrame'>\n",
      "Index: 9716 entries, 0 to 9715\n",
      "Data columns (total 33 columns):\n",
      " #   Column                          Non-Null Count  Dtype         \n",
      "---  ------                          --------------  -----         \n",
      " 0   Zeitliche_Frequenz_Idx          9716 non-null   object        \n",
      " 1   Zeitliche_Frequenz              9716 non-null   object        \n",
      " 2   Aufenthaltsland_Idx             9716 non-null   object        \n",
      " 3   Aufenthaltsland                 9716 non-null   object        \n",
      " 4   Maßeinheit_Idx                  9716 non-null   object        \n",
      " 5   Maßeinheit                      9716 non-null   object        \n",
      " 6   NACEr2_Idx                      9716 non-null   object        \n",
      " 7   NACEr2                          9716 non-null   object        \n",
      " 8   Geopolitische_Meldeeinheit_Idx  9716 non-null   object        \n",
      " 9   Geopolitische_Meldeeinheit      9716 non-null   object        \n",
      " 10  JahrMonat                       9716 non-null   datetime64[ns]\n",
      " 11  value                           9716 non-null   float64       \n",
      " 12  pch_sm                          9202 non-null   float64       \n",
      " 13  pch_sm_19                       3956 non-null   float64       \n",
      " 14  month                           9716 non-null   object        \n",
      " 15  pch_sm_12                       9608 non-null   float64       \n",
      " 16  Monat                           9716 non-null   int64         \n",
      " 17  Quartal                         9716 non-null   object        \n",
      " 18  Saison                          9716 non-null   object        \n",
      " 19  Jahr                            9716 non-null   int64         \n",
      " 20  Month_cycl_sin                  9716 non-null   float64       \n",
      " 21  Month_cycl_cos                  9716 non-null   float64       \n",
      " 22  MA3                             9716 non-null   int64         \n",
      " 23  MA6                             9716 non-null   int64         \n",
      " 24  MA12                            9716 non-null   int64         \n",
      " 25  Lag_1                           9716 non-null   int64         \n",
      " 26  Lag_3                           9716 non-null   int64         \n",
      " 27  Lag_12                          9716 non-null   int64         \n",
      " 28  Aufenthaltsland_Saison          9716 non-null   object        \n",
      " 29  NACEr2_Saison                   9716 non-null   object        \n",
      " 30  Land_Monat                      9716 non-null   object        \n",
      " 31  Land_Saison                     9716 non-null   object        \n",
      " 32  pandemic_dummy                  9716 non-null   int64         \n",
      "dtypes: datetime64[ns](1), float64(6), int64(9), object(17)\n",
      "memory usage: 2.5+ MB\n"
     ]
    },
    {
     "data": {
      "application/vnd.microsoft.datawrangler.viewer.v0+json": {
       "columns": [
        {
         "name": "index",
         "rawType": "object",
         "type": "string"
        },
        {
         "name": "NaN count",
         "rawType": "int64",
         "type": "integer"
        }
       ],
       "ref": "bb9b79cd-6d59-4cdc-9985-341087b77c1e",
       "rows": [
        [
         "pch_sm",
         "514"
        ],
        [
         "pch_sm_19",
         "5760"
        ],
        [
         "pch_sm_12",
         "108"
        ]
       ],
       "shape": {
        "columns": 1,
        "rows": 3
       }
      },
      "text/html": [
       "<div>\n",
       "<style scoped>\n",
       "    .dataframe tbody tr th:only-of-type {\n",
       "        vertical-align: middle;\n",
       "    }\n",
       "\n",
       "    .dataframe tbody tr th {\n",
       "        vertical-align: top;\n",
       "    }\n",
       "\n",
       "    .dataframe thead th {\n",
       "        text-align: right;\n",
       "    }\n",
       "</style>\n",
       "<table border=\"1\" class=\"dataframe\">\n",
       "  <thead>\n",
       "    <tr style=\"text-align: right;\">\n",
       "      <th></th>\n",
       "      <th>NaN count</th>\n",
       "    </tr>\n",
       "  </thead>\n",
       "  <tbody>\n",
       "    <tr>\n",
       "      <th>pch_sm</th>\n",
       "      <td>514</td>\n",
       "    </tr>\n",
       "    <tr>\n",
       "      <th>pch_sm_19</th>\n",
       "      <td>5760</td>\n",
       "    </tr>\n",
       "    <tr>\n",
       "      <th>pch_sm_12</th>\n",
       "      <td>108</td>\n",
       "    </tr>\n",
       "  </tbody>\n",
       "</table>\n",
       "</div>"
      ],
      "text/plain": [
       "           NaN count\n",
       "pch_sm           514\n",
       "pch_sm_19       5760\n",
       "pch_sm_12        108"
      ]
     },
     "execution_count": 10,
     "metadata": {},
     "output_type": "execute_result"
    }
   ],
   "source": [
    "df_anzahl.info()\n",
    "na_counts = df_anzahl.isna().sum()\n",
    "na_counts = na_counts[na_counts > 0]\n",
    "na_counts = na_counts.to_frame(name=\"NaN count\")\n",
    "na_counts"
   ]
  },
  {
   "cell_type": "code",
   "execution_count": 11,
   "id": "637407d3",
   "metadata": {},
   "outputs": [
    {
     "name": "stdout",
     "output_type": "stream",
     "text": [
      "<class 'pandas.core.frame.DataFrame'>\n",
      "Index: 9716 entries, 0 to 9715\n",
      "Data columns (total 33 columns):\n",
      " #   Column                          Non-Null Count  Dtype         \n",
      "---  ------                          --------------  -----         \n",
      " 0   Zeitliche_Frequenz_Idx          9716 non-null   object        \n",
      " 1   Zeitliche_Frequenz              9716 non-null   object        \n",
      " 2   Aufenthaltsland_Idx             9716 non-null   object        \n",
      " 3   Aufenthaltsland                 9716 non-null   object        \n",
      " 4   Maßeinheit_Idx                  9716 non-null   object        \n",
      " 5   Maßeinheit                      9716 non-null   object        \n",
      " 6   NACEr2_Idx                      9716 non-null   object        \n",
      " 7   NACEr2                          9716 non-null   object        \n",
      " 8   Geopolitische_Meldeeinheit_Idx  9716 non-null   object        \n",
      " 9   Geopolitische_Meldeeinheit      9716 non-null   object        \n",
      " 10  JahrMonat                       9716 non-null   datetime64[ns]\n",
      " 11  value                           9716 non-null   float64       \n",
      " 12  pch_sm                          9716 non-null   float64       \n",
      " 13  pch_sm_19                       9716 non-null   float64       \n",
      " 14  month                           9716 non-null   object        \n",
      " 15  pch_sm_12                       9716 non-null   float64       \n",
      " 16  Monat                           9716 non-null   int64         \n",
      " 17  Quartal                         9716 non-null   object        \n",
      " 18  Saison                          9716 non-null   object        \n",
      " 19  Jahr                            9716 non-null   int64         \n",
      " 20  Month_cycl_sin                  9716 non-null   float64       \n",
      " 21  Month_cycl_cos                  9716 non-null   float64       \n",
      " 22  MA3                             9716 non-null   int64         \n",
      " 23  MA6                             9716 non-null   int64         \n",
      " 24  MA12                            9716 non-null   int64         \n",
      " 25  Lag_1                           9716 non-null   int64         \n",
      " 26  Lag_3                           9716 non-null   int64         \n",
      " 27  Lag_12                          9716 non-null   int64         \n",
      " 28  Aufenthaltsland_Saison          9716 non-null   object        \n",
      " 29  NACEr2_Saison                   9716 non-null   object        \n",
      " 30  Land_Monat                      9716 non-null   object        \n",
      " 31  Land_Saison                     9716 non-null   object        \n",
      " 32  pandemic_dummy                  9716 non-null   int64         \n",
      "dtypes: datetime64[ns](1), float64(6), int64(9), object(17)\n",
      "memory usage: 2.5+ MB\n"
     ]
    }
   ],
   "source": [
    "# Replace all NaN values with zero (0) - in 'pch_sm', 'pch_sm_19' , 'pch_sm_12'\n",
    "cols_to_fix = [\"pch_sm\", \"pch_sm_19\", \"pch_sm_12\"]\n",
    "df_anzahl[cols_to_fix] = df_anzahl[cols_to_fix].fillna(0)\n",
    "df_anzahl.info()"
   ]
  },
  {
   "cell_type": "code",
   "execution_count": 44,
   "id": "5749334d",
   "metadata": {},
   "outputs": [
    {
     "name": "stdout",
     "output_type": "stream",
     "text": [
      "Unique values per categorical column:\n",
      "\n",
      "Land_Monat                        120\n",
      "Land_Saison                        40\n",
      "month                              12\n",
      "NACEr2_Saison                      12\n",
      "Geopolitische_Meldeeinheit_Idx     10\n",
      "Geopolitische_Meldeeinheit         10\n",
      "Aufenthaltsland_Saison              8\n",
      "Saison                              4\n",
      "Quartal                             4\n",
      "NACEr2_Idx                          3\n",
      "NACEr2                              3\n",
      "Aufenthaltsland                     2\n",
      "Aufenthaltsland_Idx                 2\n",
      "dtype: int64\n",
      "Land_Monat: 120 unique values\n",
      "\n",
      "Land_Monat\n",
      "DE_1    84\n",
      "DE_2    84\n",
      "DE_3    84\n",
      "DE_4    84\n",
      "DE_5    84\n",
      "DE_6    84\n",
      "DK_3    84\n",
      "DK_4    84\n",
      "DK_6    84\n",
      "DK_5    84\n",
      "Name: count, dtype: int64\n",
      "--------------------------------------------------\n",
      "\n",
      "Land_Saison: 40 unique values\n",
      "\n",
      "Land_Saison\n",
      "DE_Frühling    252\n",
      "DK_Frühling    252\n",
      "SE_Frühling    252\n",
      "PT_Frühling    252\n",
      "IT_Frühling    252\n",
      "HR_Frühling    252\n",
      "FI_Frühling    252\n",
      "ES_Frühling    252\n",
      "NO_Frühling    252\n",
      "EL_Frühling    250\n",
      "Name: count, dtype: int64\n",
      "--------------------------------------------------\n",
      "\n",
      "month: 12 unique values\n",
      "\n",
      "month\n",
      "01    840\n",
      "02    840\n",
      "04    840\n",
      "05    840\n",
      "06    840\n",
      "03    838\n",
      "07    780\n",
      "08    780\n",
      "09    780\n",
      "10    780\n",
      "Name: count, dtype: int64\n",
      "--------------------------------------------------\n",
      "\n",
      "NACEr2_Saison: 12 unique values\n",
      "\n",
      "NACEr2_Saison\n",
      "I551_Frühling    840\n",
      "I552_Frühling    840\n",
      "I553_Frühling    838\n",
      "I551_Winter      820\n",
      "I552_Winter      820\n",
      "I553_Winter      818\n",
      "I553_Sommer      800\n",
      "I551_Sommer      800\n",
      "I552_Sommer      800\n",
      "I551_Herbst      780\n",
      "Name: count, dtype: int64\n",
      "--------------------------------------------------\n",
      "\n",
      "Geopolitische_Meldeeinheit_Idx: 10 unique values\n",
      "\n",
      "Geopolitische_Meldeeinheit_Idx\n",
      "DE    972\n",
      "DK    972\n",
      "ES    972\n",
      "FI    972\n",
      "HR    972\n",
      "IT    972\n",
      "PT    972\n",
      "NO    972\n",
      "SE    972\n",
      "EL    968\n",
      "Name: count, dtype: int64\n",
      "--------------------------------------------------\n",
      "\n",
      "Geopolitische_Meldeeinheit: 10 unique values\n",
      "\n",
      "Geopolitische_Meldeeinheit\n",
      "Deutschland     972\n",
      "Dänemark        972\n",
      "Spanien         972\n",
      "Finnland        972\n",
      "Kroatien        972\n",
      "Italien         972\n",
      "Portugal        972\n",
      "Norwegen        972\n",
      "Schweden        972\n",
      "Griechenland    968\n",
      "Name: count, dtype: int64\n",
      "--------------------------------------------------\n",
      "\n",
      "Aufenthaltsland_Saison: 8 unique values\n",
      "\n",
      "Aufenthaltsland_Saison\n",
      "DOM_Frühling    1259\n",
      "FOR_Frühling    1259\n",
      "FOR_Winter      1229\n",
      "DOM_Winter      1229\n",
      "FOR_Sommer      1200\n",
      "DOM_Sommer      1200\n",
      "DOM_Herbst      1170\n",
      "FOR_Herbst      1170\n",
      "Name: count, dtype: int64\n",
      "--------------------------------------------------\n",
      "\n",
      "Saison: 4 unique values\n",
      "\n",
      "Saison\n",
      "Frühling    2518\n",
      "Winter      2458\n",
      "Sommer      2400\n",
      "Herbst      2340\n",
      "Name: count, dtype: int64\n",
      "--------------------------------------------------\n",
      "\n",
      "Quartal: 4 unique values\n",
      "\n",
      "Quartal\n",
      "2    2520\n",
      "1    2518\n",
      "3    2340\n",
      "4    2338\n",
      "Name: count, dtype: int64\n",
      "--------------------------------------------------\n",
      "\n",
      "NACEr2_Idx: 3 unique values\n",
      "\n",
      "NACEr2_Idx\n",
      "I551    3240\n",
      "I552    3240\n",
      "I553    3236\n",
      "Name: count, dtype: int64\n",
      "--------------------------------------------------\n",
      "\n",
      "NACEr2: 3 unique values\n",
      "\n",
      "NACEr2\n",
      "Hotels, Gasthöfe und Pensionen                         3240\n",
      "Ferienunterkünfte und ähnliche Beherbergungsstätten    3240\n",
      "Campingplätze                                          3236\n",
      "Name: count, dtype: int64\n",
      "--------------------------------------------------\n",
      "\n",
      "Aufenthaltsland: 2 unique values\n",
      "\n",
      "Aufenthaltsland\n",
      "Inland     4858\n",
      "Ausland    4858\n",
      "Name: count, dtype: int64\n",
      "--------------------------------------------------\n",
      "\n",
      "Aufenthaltsland_Idx: 2 unique values\n",
      "\n",
      "Aufenthaltsland_Idx\n",
      "DOM    4858\n",
      "FOR    4858\n",
      "Name: count, dtype: int64\n",
      "--------------------------------------------------\n",
      "\n"
     ]
    }
   ],
   "source": [
    "# Identify categorical (object/string) columns\n",
    "cat_cols = df_anzahl.select_dtypes(include=[\"object\"]).columns\n",
    "\n",
    "# Count unique values per categorical column\n",
    "unique_counts = df_anzahl[cat_cols].nunique().sort_values(ascending=False)\n",
    "\n",
    "# Keep only categorical columns with more than 1 unique value\n",
    "valid_cat_cols = unique_counts[unique_counts > 1].index\n",
    "\n",
    "# Drop the rest\n",
    "df_anzahl = df_anzahl.drop(columns=[col for col in cat_cols if col not in valid_cat_cols])\n",
    "\n",
    "print(\"Unique values per categorical column:\\n\")\n",
    "print(unique_counts)\n",
    "\n",
    "for col in valid_cat_cols:\n",
    "    print(f\"{col}: {df_anzahl[col].nunique()} unique values\\n\")\n",
    "    print(df_anzahl[col].value_counts().head(10))  # show top 10 categories\n",
    "    print(\"-\" * 50 + \"\\n\")"
   ]
  },
  {
   "cell_type": "code",
   "execution_count": 47,
   "id": "ef77dc78",
   "metadata": {},
   "outputs": [
    {
     "name": "stdout",
     "output_type": "stream",
     "text": [
      "<class 'pandas.core.frame.DataFrame'>\n",
      "Index: 9716 entries, 0 to 9715\n",
      "Data columns (total 29 columns):\n",
      " #   Column                          Non-Null Count  Dtype         \n",
      "---  ------                          --------------  -----         \n",
      " 0   Aufenthaltsland_Idx             9716 non-null   object        \n",
      " 1   Aufenthaltsland                 9716 non-null   object        \n",
      " 2   NACEr2_Idx                      9716 non-null   object        \n",
      " 3   NACEr2                          9716 non-null   object        \n",
      " 4   Geopolitische_Meldeeinheit_Idx  9716 non-null   object        \n",
      " 5   Geopolitische_Meldeeinheit      9716 non-null   object        \n",
      " 6   JahrMonat                       9716 non-null   datetime64[ns]\n",
      " 7   value                           9716 non-null   float64       \n",
      " 8   pch_sm                          9716 non-null   float64       \n",
      " 9   pch_sm_19                       9716 non-null   float64       \n",
      " 10  month                           9716 non-null   object        \n",
      " 11  pch_sm_12                       9716 non-null   float64       \n",
      " 12  Monat                           9716 non-null   int64         \n",
      " 13  Quartal                         9716 non-null   object        \n",
      " 14  Saison                          9716 non-null   object        \n",
      " 15  Jahr                            9716 non-null   int64         \n",
      " 16  Month_cycl_sin                  9716 non-null   float64       \n",
      " 17  Month_cycl_cos                  9716 non-null   float64       \n",
      " 18  MA3                             9716 non-null   int64         \n",
      " 19  MA6                             9716 non-null   int64         \n",
      " 20  MA12                            9716 non-null   int64         \n",
      " 21  Lag_1                           9716 non-null   int64         \n",
      " 22  Lag_3                           9716 non-null   int64         \n",
      " 23  Lag_12                          9716 non-null   int64         \n",
      " 24  Aufenthaltsland_Saison          9716 non-null   object        \n",
      " 25  NACEr2_Saison                   9716 non-null   object        \n",
      " 26  Land_Monat                      9716 non-null   object        \n",
      " 27  Land_Saison                     9716 non-null   object        \n",
      " 28  pandemic_dummy                  9716 non-null   int64         \n",
      "dtypes: datetime64[ns](1), float64(6), int64(9), object(13)\n",
      "memory usage: 2.2+ MB\n"
     ]
    }
   ],
   "source": [
    "df_anzahl.info()"
   ]
  },
  {
   "cell_type": "code",
   "execution_count": 45,
   "id": "52c1fd5c",
   "metadata": {},
   "outputs": [],
   "source": [
    "import pandas as pd\n",
    "import plotly.express as px\n",
    "\n",
    "# choose grouping level (example: domestic vs foreign)\n",
    "groups = [\"NACEr2_Saison\", \"Aufenthaltsland_Saison\", \"Land_Saison\"]\n",
    "# groups = [\"Land_Saison\"]\n",
    "\n",
    "# numeric features only\n",
    "num_cols = [\n",
    "    \"value\", \"Monat\", \"Jahr\", \"pch_sm\",\n",
    "    \"Month_cycl_sin\", \"Month_cycl_cos\",\n",
    "    \"MA3\", \"MA6\", \"MA12\",\n",
    "    \"Lag_1\", \"Lag_3\", \"Lag_12\"\n",
    "]\n",
    "\n",
    "# loop per group and plot correlation heatmap   - In Streamlit make in tabs\n",
    "for group_col in groups:\n",
    "    for group, df_group in df_anzahl.groupby(group_col):\n",
    "        corr = df_group[num_cols].corr()\n",
    "        fig1 = px.imshow(\n",
    "            corr,\n",
    "            text_auto=True,\n",
    "            aspect=\"auto\",\n",
    "            title=f\"Correlation heatmap ({group_col} = {group})\",\n",
    "            \n",
    "        )\n",
    "        fig1.update_traces(textfont=dict(size=10))\n",
    "        fig1.update_layout(\n",
    "        xaxis=dict(tickfont=dict(size=12)),\n",
    "        yaxis=dict(tickfont=dict(size=12))\n",
    "        )\n",
    "        # fig1.show()"
   ]
  },
  {
   "cell_type": "code",
   "execution_count": 46,
   "id": "c82b01f2",
   "metadata": {},
   "outputs": [
    {
     "data": {
      "application/vnd.microsoft.datawrangler.viewer.v0+json": {
       "columns": [
        {
         "name": "index",
         "rawType": "int64",
         "type": "integer"
        },
        {
         "name": "Land_Saison",
         "rawType": "object",
         "type": "string"
        },
        {
         "name": "JahrMonat",
         "rawType": "datetime64[ns]",
         "type": "datetime"
        },
        {
         "name": "value",
         "rawType": "float64",
         "type": "float"
        },
        {
         "name": "pch_sm",
         "rawType": "float64",
         "type": "float"
        },
        {
         "name": "pch_sm_19",
         "rawType": "float64",
         "type": "float"
        }
       ],
       "ref": "33c4f621-bbdc-47b7-aaa0-98758bebf516",
       "rows": [
        [
         "3329",
         "DE_Sommer",
         "2019-06-01 00:00:00",
         "5355845.0",
         "52.57",
         "0.0"
        ],
        [
         "3376",
         "DE_Frühling",
         "2023-05-01 00:00:00",
         "4877814.0",
         "30.93",
         "89.01"
        ],
        [
         "3380",
         "DE_Herbst",
         "2023-09-01 00:00:00",
         "4446687.0",
         "20.48",
         "54.32"
        ],
        [
         "3386",
         "DE_Frühling",
         "2024-03-01 00:00:00",
         "1407110.0",
         "168.12",
         "209.37"
        ],
        [
         "3388",
         "DE_Frühling",
         "2024-05-01 00:00:00",
         "5774622.0",
         "18.39",
         "123.77"
        ],
        [
         "3394",
         "DE_Herbst",
         "2024-11-01 00:00:00",
         "500450.0",
         "23.07",
         "54.01"
        ],
        [
         "3396",
         "DE_Winter",
         "2025-01-01 00:00:00",
         "379895.0",
         "22.51",
         "52.92"
        ],
        [
         "3398",
         "DE_Frühling",
         "2025-03-01 00:00:00",
         "811872.0",
         "-42.3",
         "78.5"
        ],
        [
         "3399",
         "DE_Frühling",
         "2025-04-01 00:00:00",
         "3450889.0",
         "70.15",
         "42.89"
        ],
        [
         "3400",
         "DE_Frühling",
         "2025-05-01 00:00:00",
         "4515745.0",
         "-21.8",
         "74.98"
        ],
        [
         "8244",
         "DE_Frühling",
         "2024-03-01 00:00:00",
         "79474.0",
         "128.18",
         "121.2"
        ],
        [
         "1928",
         "DK_Frühling",
         "2024-03-01 00:00:00",
         "396538.0",
         "16.98",
         "65.34"
        ],
        [
         "3548",
         "DK_Frühling",
         "2024-03-01 00:00:00",
         "221362.0",
         "50.89",
         "85.17"
        ],
        [
         "3556",
         "DK_Herbst",
         "2024-11-01 00:00:00",
         "151415.0",
         "41.86",
         "78.22"
        ],
        [
         "3557",
         "DK_Winter",
         "2024-12-01 00:00:00",
         "138035.0",
         "42.88",
         "72.35"
        ],
        [
         "6786",
         "DK_Frühling",
         "2024-03-01 00:00:00",
         "169927.0",
         "35.4",
         "66.13"
        ],
        [
         "6793",
         "DK_Herbst",
         "2024-10-01 00:00:00",
         "298980.0",
         "12.67",
         "50.47"
        ],
        [
         "6799",
         "DK_Frühling",
         "2025-04-01 00:00:00",
         "305335.0",
         "36.44",
         "52.08"
        ],
        [
         "8396",
         "DK_Frühling",
         "2023-05-01 00:00:00",
         "394848.0",
         "31.21",
         "69.59"
        ],
        [
         "8399",
         "DK_Sommer",
         "2023-08-01 00:00:00",
         "1213502.0",
         "0.35",
         "52.34"
        ],
        [
         "8400",
         "DK_Herbst",
         "2023-09-01 00:00:00",
         "308382.0",
         "10.54",
         "63.45"
        ],
        [
         "8405",
         "DK_Winter",
         "2024-02-01 00:00:00",
         "12665.0",
         "3.24",
         "62.52"
        ],
        [
         "8406",
         "DK_Frühling",
         "2024-03-01 00:00:00",
         "75115.0",
         "148.31",
         "314.82"
        ],
        [
         "8408",
         "DK_Frühling",
         "2024-05-01 00:00:00",
         "440445.0",
         "11.55",
         "89.17"
        ],
        [
         "8411",
         "DK_Sommer",
         "2024-08-01 00:00:00",
         "1286736.0",
         "6.03",
         "61.53"
        ],
        [
         "8412",
         "DK_Herbst",
         "2024-09-01 00:00:00",
         "367009.0",
         "19.01",
         "94.53"
        ],
        [
         "8413",
         "DK_Herbst",
         "2024-10-01 00:00:00",
         "157619.0",
         "17.19",
         "58.5"
        ],
        [
         "8414",
         "DK_Herbst",
         "2024-11-01 00:00:00",
         "28894.0",
         "52.11",
         "99.85"
        ],
        [
         "8415",
         "DK_Winter",
         "2024-12-01 00:00:00",
         "43377.0",
         "102.51",
         "151.01"
        ],
        [
         "8416",
         "DK_Winter",
         "2025-01-01 00:00:00",
         "22092.0",
         "69.9",
         "138.99"
        ],
        [
         "8417",
         "DK_Winter",
         "2025-02-01 00:00:00",
         "17297.0",
         "36.57",
         "121.96"
        ],
        [
         "8418",
         "DK_Frühling",
         "2025-03-01 00:00:00",
         "36377.0",
         "-51.57",
         "100.89"
        ],
        [
         "8420",
         "DK_Frühling",
         "2025-05-01 00:00:00",
         "377316.0",
         "-14.33",
         "62.06"
        ],
        [
         "3648",
         "EL_Winter",
         "2019-01-01 00:00:00",
         "1011.0",
         "230.39",
         "0.0"
        ],
        [
         "3649",
         "EL_Winter",
         "2019-02-01 00:00:00",
         "630.0",
         "121.05",
         "0.0"
        ],
        [
         "3657",
         "EL_Herbst",
         "2019-10-01 00:00:00",
         "4562.0",
         "86.66",
         "0.0"
        ],
        [
         "3658",
         "EL_Herbst",
         "2019-11-01 00:00:00",
         "1231.0",
         "59.46",
         "0.0"
        ],
        [
         "3660",
         "EL_Winter",
         "2020-01-01 00:00:00",
         "57.0",
         "-94.36",
         "-94.36"
        ],
        [
         "3661",
         "EL_Winter",
         "2020-02-01 00:00:00",
         "129.0",
         "-79.52",
         "-79.52"
        ],
        [
         "3698",
         "EL_Frühling",
         "2023-05-01 00:00:00",
         "38166.0",
         "53.17",
         "-42.41"
        ],
        [
         "3720",
         "EL_Frühling",
         "2025-03-01 00:00:00",
         "845.0",
         "67.0",
         "4.32"
        ],
        [
         "8518",
         "EL_Winter",
         "2020-01-01 00:00:00",
         "2119.0",
         "119.59",
         "119.59"
        ],
        [
         "8519",
         "EL_Winter",
         "2020-02-01 00:00:00",
         "1354.0",
         "54.04",
         "54.04"
        ],
        [
         "8561",
         "EL_Herbst",
         "2023-10-01 00:00:00",
         "24745.0",
         "65.39",
         "11.56"
        ],
        [
         "8562",
         "EL_Herbst",
         "2023-11-01 00:00:00",
         "3518.0",
         "54.71",
         "53.83"
        ],
        [
         "8563",
         "EL_Winter",
         "2023-12-01 00:00:00",
         "2955.0",
         "148.32",
         "113.51"
        ],
        [
         "8564",
         "EL_Winter",
         "2024-01-01 00:00:00",
         "1584.0",
         "1.02",
         "64.15"
        ],
        [
         "8574",
         "EL_Herbst",
         "2024-11-01 00:00:00",
         "3731.0",
         "6.05",
         "63.14"
        ],
        [
         "8575",
         "EL_Winter",
         "2024-12-01 00:00:00",
         "3106.0",
         "5.11",
         "124.42"
        ],
        [
         "2252",
         "ES_Frühling",
         "2024-03-01 00:00:00",
         "2379617.0",
         "47.67",
         "62.69"
        ]
       ],
       "shape": {
        "columns": 5,
        "rows": 188
       }
      },
      "text/html": [
       "<div>\n",
       "<style scoped>\n",
       "    .dataframe tbody tr th:only-of-type {\n",
       "        vertical-align: middle;\n",
       "    }\n",
       "\n",
       "    .dataframe tbody tr th {\n",
       "        vertical-align: top;\n",
       "    }\n",
       "\n",
       "    .dataframe thead th {\n",
       "        text-align: right;\n",
       "    }\n",
       "</style>\n",
       "<table border=\"1\" class=\"dataframe\">\n",
       "  <thead>\n",
       "    <tr style=\"text-align: right;\">\n",
       "      <th></th>\n",
       "      <th>Land_Saison</th>\n",
       "      <th>JahrMonat</th>\n",
       "      <th>value</th>\n",
       "      <th>pch_sm</th>\n",
       "      <th>pch_sm_19</th>\n",
       "    </tr>\n",
       "  </thead>\n",
       "  <tbody>\n",
       "    <tr>\n",
       "      <th>3329</th>\n",
       "      <td>DE_Sommer</td>\n",
       "      <td>2019-06-01</td>\n",
       "      <td>5355845.0</td>\n",
       "      <td>52.57</td>\n",
       "      <td>0.00</td>\n",
       "    </tr>\n",
       "    <tr>\n",
       "      <th>3376</th>\n",
       "      <td>DE_Frühling</td>\n",
       "      <td>2023-05-01</td>\n",
       "      <td>4877814.0</td>\n",
       "      <td>30.93</td>\n",
       "      <td>89.01</td>\n",
       "    </tr>\n",
       "    <tr>\n",
       "      <th>3380</th>\n",
       "      <td>DE_Herbst</td>\n",
       "      <td>2023-09-01</td>\n",
       "      <td>4446687.0</td>\n",
       "      <td>20.48</td>\n",
       "      <td>54.32</td>\n",
       "    </tr>\n",
       "    <tr>\n",
       "      <th>3386</th>\n",
       "      <td>DE_Frühling</td>\n",
       "      <td>2024-03-01</td>\n",
       "      <td>1407110.0</td>\n",
       "      <td>168.12</td>\n",
       "      <td>209.37</td>\n",
       "    </tr>\n",
       "    <tr>\n",
       "      <th>3388</th>\n",
       "      <td>DE_Frühling</td>\n",
       "      <td>2024-05-01</td>\n",
       "      <td>5774622.0</td>\n",
       "      <td>18.39</td>\n",
       "      <td>123.77</td>\n",
       "    </tr>\n",
       "    <tr>\n",
       "      <th>...</th>\n",
       "      <td>...</td>\n",
       "      <td>...</td>\n",
       "      <td>...</td>\n",
       "      <td>...</td>\n",
       "      <td>...</td>\n",
       "    </tr>\n",
       "    <tr>\n",
       "      <th>7932</th>\n",
       "      <td>PT_Frühling</td>\n",
       "      <td>2025-03-01</td>\n",
       "      <td>614686.0</td>\n",
       "      <td>-12.30</td>\n",
       "      <td>50.50</td>\n",
       "    </tr>\n",
       "    <tr>\n",
       "      <th>4855</th>\n",
       "      <td>SE_Frühling</td>\n",
       "      <td>2025-04-01</td>\n",
       "      <td>535786.0</td>\n",
       "      <td>57.96</td>\n",
       "      <td>14.37</td>\n",
       "    </tr>\n",
       "    <tr>\n",
       "      <th>9641</th>\n",
       "      <td>SE_Frühling</td>\n",
       "      <td>2019-04-01</td>\n",
       "      <td>109646.0</td>\n",
       "      <td>65.04</td>\n",
       "      <td>0.00</td>\n",
       "    </tr>\n",
       "    <tr>\n",
       "      <th>9700</th>\n",
       "      <td>SE_Frühling</td>\n",
       "      <td>2024-03-01</td>\n",
       "      <td>62523.0</td>\n",
       "      <td>54.04</td>\n",
       "      <td>18.09</td>\n",
       "    </tr>\n",
       "    <tr>\n",
       "      <th>9713</th>\n",
       "      <td>SE_Frühling</td>\n",
       "      <td>2025-04-01</td>\n",
       "      <td>101956.0</td>\n",
       "      <td>85.36</td>\n",
       "      <td>-7.01</td>\n",
       "    </tr>\n",
       "  </tbody>\n",
       "</table>\n",
       "<p>188 rows × 5 columns</p>\n",
       "</div>"
      ],
      "text/plain": [
       "      Land_Saison  JahrMonat      value  pch_sm  pch_sm_19\n",
       "3329    DE_Sommer 2019-06-01  5355845.0   52.57       0.00\n",
       "3376  DE_Frühling 2023-05-01  4877814.0   30.93      89.01\n",
       "3380    DE_Herbst 2023-09-01  4446687.0   20.48      54.32\n",
       "3386  DE_Frühling 2024-03-01  1407110.0  168.12     209.37\n",
       "3388  DE_Frühling 2024-05-01  5774622.0   18.39     123.77\n",
       "...           ...        ...        ...     ...        ...\n",
       "7932  PT_Frühling 2025-03-01   614686.0  -12.30      50.50\n",
       "4855  SE_Frühling 2025-04-01   535786.0   57.96      14.37\n",
       "9641  SE_Frühling 2019-04-01   109646.0   65.04       0.00\n",
       "9700  SE_Frühling 2024-03-01    62523.0   54.04      18.09\n",
       "9713  SE_Frühling 2025-04-01   101956.0   85.36      -7.01\n",
       "\n",
       "[188 rows x 5 columns]"
      ]
     },
     "metadata": {},
     "output_type": "display_data"
    },
    {
     "name": "stdout",
     "output_type": "stream",
     "text": [
      "-- * - * - * --\n"
     ]
    },
    {
     "data": {
      "application/vnd.microsoft.datawrangler.viewer.v0+json": {
       "columns": [
        {
         "name": "index",
         "rawType": "object",
         "type": "string"
        },
        {
         "name": "JahrMonat",
         "rawType": "object",
         "type": "unknown"
        },
        {
         "name": "value",
         "rawType": "float64",
         "type": "float"
        },
        {
         "name": "pch_sm",
         "rawType": "float64",
         "type": "float"
        },
        {
         "name": "pch_sm_19",
         "rawType": "float64",
         "type": "float"
        }
       ],
       "ref": "e0b1aba6-1440-4cca-8197-e5ea1978eadf",
       "rows": [
        [
         "count",
         "188",
         "188.0",
         "188.0",
         "188.0"
        ],
        [
         "mean",
         "2024-01-08 09:11:29.361702144",
         "744676.3244680851",
         "29.402553191489364",
         "89.86563829787235"
        ],
        [
         "min",
         "2019-01-01 00:00:00",
         "57.0",
         "-94.36",
         "-94.36"
        ],
        [
         "25%",
         "2023-12-01 00:00:00",
         "31604.0",
         "2.595",
         "54.0325"
        ],
        [
         "50%",
         "2024-05-01 00:00:00",
         "156970.5",
         "17.085",
         "66.38"
        ],
        [
         "75%",
         "2024-12-08 18:00:00",
         "441730.75",
         "44.0775",
         "97.4875"
        ],
        [
         "max",
         "2025-06-01 00:00:00",
         "11162055.0",
         "585.5",
         "555.95"
        ],
        [
         "std",
         null,
         "1588349.762792823",
         "63.812676475821405",
         "95.60947778246876"
        ]
       ],
       "shape": {
        "columns": 4,
        "rows": 8
       }
      },
      "text/html": [
       "<div>\n",
       "<style scoped>\n",
       "    .dataframe tbody tr th:only-of-type {\n",
       "        vertical-align: middle;\n",
       "    }\n",
       "\n",
       "    .dataframe tbody tr th {\n",
       "        vertical-align: top;\n",
       "    }\n",
       "\n",
       "    .dataframe thead th {\n",
       "        text-align: right;\n",
       "    }\n",
       "</style>\n",
       "<table border=\"1\" class=\"dataframe\">\n",
       "  <thead>\n",
       "    <tr style=\"text-align: right;\">\n",
       "      <th></th>\n",
       "      <th>JahrMonat</th>\n",
       "      <th>value</th>\n",
       "      <th>pch_sm</th>\n",
       "      <th>pch_sm_19</th>\n",
       "    </tr>\n",
       "  </thead>\n",
       "  <tbody>\n",
       "    <tr>\n",
       "      <th>count</th>\n",
       "      <td>188</td>\n",
       "      <td>1.880000e+02</td>\n",
       "      <td>188.000000</td>\n",
       "      <td>188.000000</td>\n",
       "    </tr>\n",
       "    <tr>\n",
       "      <th>mean</th>\n",
       "      <td>2024-01-08 09:11:29.361702144</td>\n",
       "      <td>7.446763e+05</td>\n",
       "      <td>29.402553</td>\n",
       "      <td>89.865638</td>\n",
       "    </tr>\n",
       "    <tr>\n",
       "      <th>min</th>\n",
       "      <td>2019-01-01 00:00:00</td>\n",
       "      <td>5.700000e+01</td>\n",
       "      <td>-94.360000</td>\n",
       "      <td>-94.360000</td>\n",
       "    </tr>\n",
       "    <tr>\n",
       "      <th>25%</th>\n",
       "      <td>2023-12-01 00:00:00</td>\n",
       "      <td>3.160400e+04</td>\n",
       "      <td>2.595000</td>\n",
       "      <td>54.032500</td>\n",
       "    </tr>\n",
       "    <tr>\n",
       "      <th>50%</th>\n",
       "      <td>2024-05-01 00:00:00</td>\n",
       "      <td>1.569705e+05</td>\n",
       "      <td>17.085000</td>\n",
       "      <td>66.380000</td>\n",
       "    </tr>\n",
       "    <tr>\n",
       "      <th>75%</th>\n",
       "      <td>2024-12-08 18:00:00</td>\n",
       "      <td>4.417308e+05</td>\n",
       "      <td>44.077500</td>\n",
       "      <td>97.487500</td>\n",
       "    </tr>\n",
       "    <tr>\n",
       "      <th>max</th>\n",
       "      <td>2025-06-01 00:00:00</td>\n",
       "      <td>1.116206e+07</td>\n",
       "      <td>585.500000</td>\n",
       "      <td>555.950000</td>\n",
       "    </tr>\n",
       "    <tr>\n",
       "      <th>std</th>\n",
       "      <td>NaN</td>\n",
       "      <td>1.588350e+06</td>\n",
       "      <td>63.812676</td>\n",
       "      <td>95.609478</td>\n",
       "    </tr>\n",
       "  </tbody>\n",
       "</table>\n",
       "</div>"
      ],
      "text/plain": [
       "                           JahrMonat         value      pch_sm   pch_sm_19\n",
       "count                            188  1.880000e+02  188.000000  188.000000\n",
       "mean   2024-01-08 09:11:29.361702144  7.446763e+05   29.402553   89.865638\n",
       "min              2019-01-01 00:00:00  5.700000e+01  -94.360000  -94.360000\n",
       "25%              2023-12-01 00:00:00  3.160400e+04    2.595000   54.032500\n",
       "50%              2024-05-01 00:00:00  1.569705e+05   17.085000   66.380000\n",
       "75%              2024-12-08 18:00:00  4.417308e+05   44.077500   97.487500\n",
       "max              2025-06-01 00:00:00  1.116206e+07  585.500000  555.950000\n",
       "std                              NaN  1.588350e+06   63.812676   95.609478"
      ]
     },
     "metadata": {},
     "output_type": "display_data"
    }
   ],
   "source": [
    "# Check for spikes/drops per country\n",
    "# Sort for readability (optional)\n",
    "df_anzahl = df_anzahl.sort_values(\n",
    "    [\"Geopolitische_Meldeeinheit_Idx\", \"Aufenthaltsland_Idx\", \"NACEr2_Idx\", \"JahrMonat\"]\n",
    ")\n",
    "\n",
    "# Define threshold for anomaly detection\n",
    "threshold = 50  # % change threshold, adjust as needed\n",
    "\n",
    "# Collect anomalies across all 3 percentage change measures\n",
    "anomalies = df_anzahl[\n",
    "    (df_anzahl[\"pandemic_dummy\"] == 0) & (\n",
    "        (df_anzahl[\"pch_sm\"].abs() > threshold) |\n",
    "        (df_anzahl[\"pch_sm_19\"].abs() > threshold)\n",
    "        ) & (\n",
    "            df_anzahl[\"JahrMonat\"] >= \"2019-01\"\n",
    "        )\n",
    "][[\"Land_Saison\", \"JahrMonat\", \"value\", \"pch_sm\", \"pch_sm_19\"]]\n",
    "\n",
    "display(anomalies)  # preview anomalies\n",
    "print(\"-- * - * - * --\")\n",
    "display(anomalies.describe())"
   ]
  },
  {
   "cell_type": "code",
   "execution_count": 15,
   "id": "cfdd9642",
   "metadata": {},
   "outputs": [
    {
     "data": {
      "application/vnd.plotly.v1+json": {
       "config": {
        "plotlyServerURL": "https://plot.ly"
       },
       "data": [
        {
         "alignmentgroup": "True",
         "boxpoints": "all",
         "customdata": [
          [
           "DE_Sommer",
           "2019-06-01T00:00:00",
           5355845
          ],
          [
           "DE_Frühling",
           "2023-05-01T00:00:00",
           4877814
          ],
          [
           "DE_Herbst",
           "2023-09-01T00:00:00",
           4446687
          ],
          [
           "DE_Frühling",
           "2024-03-01T00:00:00",
           1407110
          ],
          [
           "DE_Frühling",
           "2024-05-01T00:00:00",
           5774622
          ],
          [
           "DE_Herbst",
           "2024-11-01T00:00:00",
           500450
          ],
          [
           "DE_Winter",
           "2025-01-01T00:00:00",
           379895
          ],
          [
           "DE_Frühling",
           "2025-03-01T00:00:00",
           811872
          ],
          [
           "DE_Frühling",
           "2025-04-01T00:00:00",
           3450889
          ],
          [
           "DE_Frühling",
           "2025-05-01T00:00:00",
           4515745
          ],
          [
           "DE_Frühling",
           "2024-03-01T00:00:00",
           79474
          ],
          [
           "DK_Frühling",
           "2024-03-01T00:00:00",
           396538
          ],
          [
           "DK_Frühling",
           "2024-03-01T00:00:00",
           221362
          ],
          [
           "DK_Herbst",
           "2024-11-01T00:00:00",
           151415
          ],
          [
           "DK_Winter",
           "2024-12-01T00:00:00",
           138035
          ],
          [
           "DK_Frühling",
           "2024-03-01T00:00:00",
           169927
          ],
          [
           "DK_Herbst",
           "2024-10-01T00:00:00",
           298980
          ],
          [
           "DK_Frühling",
           "2025-04-01T00:00:00",
           305335
          ],
          [
           "DK_Frühling",
           "2023-05-01T00:00:00",
           394848
          ],
          [
           "DK_Sommer",
           "2023-08-01T00:00:00",
           1213502
          ],
          [
           "DK_Herbst",
           "2023-09-01T00:00:00",
           308382
          ],
          [
           "DK_Winter",
           "2024-02-01T00:00:00",
           12665
          ],
          [
           "DK_Frühling",
           "2024-03-01T00:00:00",
           75115
          ],
          [
           "DK_Frühling",
           "2024-05-01T00:00:00",
           440445
          ],
          [
           "DK_Sommer",
           "2024-08-01T00:00:00",
           1286736
          ],
          [
           "DK_Herbst",
           "2024-09-01T00:00:00",
           367009
          ],
          [
           "DK_Herbst",
           "2024-10-01T00:00:00",
           157619
          ],
          [
           "DK_Herbst",
           "2024-11-01T00:00:00",
           28894
          ],
          [
           "DK_Winter",
           "2024-12-01T00:00:00",
           43377
          ],
          [
           "DK_Winter",
           "2025-01-01T00:00:00",
           22092
          ],
          [
           "DK_Winter",
           "2025-02-01T00:00:00",
           17297
          ],
          [
           "DK_Frühling",
           "2025-03-01T00:00:00",
           36377
          ],
          [
           "DK_Frühling",
           "2025-05-01T00:00:00",
           377316
          ],
          [
           "EL_Winter",
           "2019-01-01T00:00:00",
           1011
          ],
          [
           "EL_Winter",
           "2019-02-01T00:00:00",
           630
          ],
          [
           "EL_Herbst",
           "2019-10-01T00:00:00",
           4562
          ],
          [
           "EL_Herbst",
           "2019-11-01T00:00:00",
           1231
          ],
          [
           "EL_Winter",
           "2020-01-01T00:00:00",
           57
          ],
          [
           "EL_Winter",
           "2020-02-01T00:00:00",
           129
          ],
          [
           "EL_Frühling",
           "2023-05-01T00:00:00",
           38166
          ],
          [
           "EL_Frühling",
           "2025-03-01T00:00:00",
           845
          ],
          [
           "EL_Winter",
           "2020-01-01T00:00:00",
           2119
          ],
          [
           "EL_Winter",
           "2020-02-01T00:00:00",
           1354
          ],
          [
           "EL_Herbst",
           "2023-10-01T00:00:00",
           24745
          ],
          [
           "EL_Herbst",
           "2023-11-01T00:00:00",
           3518
          ],
          [
           "EL_Winter",
           "2023-12-01T00:00:00",
           2955
          ],
          [
           "EL_Winter",
           "2024-01-01T00:00:00",
           1584
          ],
          [
           "EL_Herbst",
           "2024-11-01T00:00:00",
           3731
          ],
          [
           "EL_Winter",
           "2024-12-01T00:00:00",
           3106
          ],
          [
           "ES_Frühling",
           "2024-03-01T00:00:00",
           2379617
          ],
          [
           "ES_Herbst",
           "2023-10-01T00:00:00",
           1263899
          ],
          [
           "ES_Winter",
           "2024-01-01T00:00:00",
           338259
          ],
          [
           "ES_Frühling",
           "2024-03-01T00:00:00",
           1537883
          ],
          [
           "ES_Frühling",
           "2024-05-01T00:00:00",
           1939907
          ],
          [
           "ES_Frühling",
           "2025-03-01T00:00:00",
           665465
          ],
          [
           "ES_Frühling",
           "2025-04-01T00:00:00",
           2161823
          ],
          [
           "ES_Frühling",
           "2025-05-01T00:00:00",
           2040941
          ],
          [
           "FI_Herbst",
           "2024-09-01T00:00:00",
           15398
          ],
          [
           "HR_Winter",
           "2024-02-01T00:00:00",
           184218
          ],
          [
           "HR_Sommer",
           "2024-07-01T00:00:00",
           473671
          ],
          [
           "HR_Sommer",
           "2024-08-01T00:00:00",
           613210
          ],
          [
           "HR_Herbst",
           "2024-11-01T00:00:00",
           249336
          ],
          [
           "HR_Winter",
           "2025-02-01T00:00:00",
           196529
          ],
          [
           "HR_Sommer",
           "2025-06-01T00:00:00",
           457298
          ],
          [
           "HR_Winter",
           "2019-01-01T00:00:00",
           660
          ],
          [
           "HR_Winter",
           "2019-02-01T00:00:00",
           898
          ],
          [
           "HR_Frühling",
           "2019-03-01T00:00:00",
           2903
          ],
          [
           "HR_Winter",
           "2019-12-01T00:00:00",
           910
          ],
          [
           "HR_Frühling",
           "2023-05-01T00:00:00",
           39844
          ],
          [
           "HR_Herbst",
           "2023-09-01T00:00:00",
           59637
          ],
          [
           "HR_Herbst",
           "2023-10-01T00:00:00",
           15556
          ],
          [
           "HR_Herbst",
           "2023-11-01T00:00:00",
           2995
          ],
          [
           "HR_Winter",
           "2023-12-01T00:00:00",
           4007
          ],
          [
           "HR_Winter",
           "2024-01-01T00:00:00",
           2838
          ],
          [
           "HR_Winter",
           "2024-02-01T00:00:00",
           4141
          ],
          [
           "HR_Frühling",
           "2024-03-01T00:00:00",
           10424
          ],
          [
           "HR_Frühling",
           "2024-04-01T00:00:00",
           24421
          ],
          [
           "HR_Frühling",
           "2024-05-01T00:00:00",
           51488
          ],
          [
           "HR_Herbst",
           "2024-09-01T00:00:00",
           61324
          ],
          [
           "HR_Herbst",
           "2024-10-01T00:00:00",
           14658
          ],
          [
           "HR_Herbst",
           "2024-11-01T00:00:00",
           9157
          ],
          [
           "HR_Winter",
           "2024-12-01T00:00:00",
           5009
          ],
          [
           "HR_Winter",
           "2025-01-01T00:00:00",
           3662
          ],
          [
           "HR_Winter",
           "2025-02-01T00:00:00",
           4297
          ],
          [
           "HR_Frühling",
           "2025-03-01T00:00:00",
           5279
          ],
          [
           "HR_Frühling",
           "2025-04-01T00:00:00",
           27660
          ],
          [
           "HR_Frühling",
           "2025-05-01T00:00:00",
           76932
          ],
          [
           "HR_Frühling",
           "2024-03-01T00:00:00",
           277215
          ],
          [
           "HR_Frühling",
           "2024-05-01T00:00:00",
           2241672
          ],
          [
           "HR_Winter",
           "2019-02-01T00:00:00",
           6495
          ],
          [
           "HR_Winter",
           "2020-01-01T00:00:00",
           9518
          ],
          [
           "HR_Frühling",
           "2023-05-01T00:00:00",
           1380575
          ],
          [
           "HR_Herbst",
           "2023-10-01T00:00:00",
           423671
          ],
          [
           "HR_Herbst",
           "2023-11-01T00:00:00",
           31965
          ],
          [
           "HR_Winter",
           "2023-12-01T00:00:00",
           35354
          ],
          [
           "HR_Winter",
           "2024-01-01T00:00:00",
           19341
          ],
          [
           "HR_Winter",
           "2024-02-01T00:00:00",
           19085
          ],
          [
           "HR_Frühling",
           "2024-03-01T00:00:00",
           99608
          ],
          [
           "HR_Frühling",
           "2024-05-01T00:00:00",
           1767857
          ],
          [
           "HR_Herbst",
           "2024-10-01T00:00:00",
           445588
          ],
          [
           "HR_Herbst",
           "2024-11-01T00:00:00",
           49535
          ],
          [
           "HR_Winter",
           "2024-12-01T00:00:00",
           46072
          ],
          [
           "HR_Winter",
           "2025-01-01T00:00:00",
           23365
          ],
          [
           "HR_Winter",
           "2025-02-01T00:00:00",
           17460
          ],
          [
           "HR_Frühling",
           "2025-03-01T00:00:00",
           33817
          ],
          [
           "IT_Frühling",
           "2024-03-01T00:00:00",
           324201
          ],
          [
           "IT_Herbst",
           "2024-11-01T00:00:00",
           252717
          ],
          [
           "IT_Winter",
           "2024-02-01T00:00:00",
           2830094
          ],
          [
           "IT_Frühling",
           "2024-03-01T00:00:00",
           3402485
          ],
          [
           "IT_Frühling",
           "2024-05-01T00:00:00",
           8089222
          ],
          [
           "IT_Herbst",
           "2024-10-01T00:00:00",
           6205213
          ],
          [
           "IT_Herbst",
           "2024-11-01T00:00:00",
           2370215
          ],
          [
           "IT_Winter",
           "2024-12-01T00:00:00",
           2335737
          ],
          [
           "IT_Winter",
           "2025-01-01T00:00:00",
           2358522
          ],
          [
           "IT_Winter",
           "2025-02-01T00:00:00",
           2914735
          ],
          [
           "IT_Frühling",
           "2025-03-01T00:00:00",
           3250328
          ],
          [
           "IT_Frühling",
           "2025-04-01T00:00:00",
           5657478
          ],
          [
           "IT_Frühling",
           "2025-05-01T00:00:00",
           7056984
          ],
          [
           "IT_Sommer",
           "2025-06-01T00:00:00",
           11162055
          ],
          [
           "IT_Herbst",
           "2019-11-01T00:00:00",
           59933
          ],
          [
           "IT_Winter",
           "2019-12-01T00:00:00",
           76927
          ],
          [
           "IT_Winter",
           "2020-01-01T00:00:00",
           62279
          ],
          [
           "IT_Frühling",
           "2023-05-01T00:00:00",
           2907891
          ],
          [
           "IT_Herbst",
           "2023-11-01T00:00:00",
           97745
          ],
          [
           "IT_Frühling",
           "2024-03-01T00:00:00",
           486099
          ],
          [
           "IT_Frühling",
           "2024-05-01T00:00:00",
           4068939
          ],
          [
           "IT_Herbst",
           "2024-11-01T00:00:00",
           139233
          ],
          [
           "IT_Winter",
           "2024-12-01T00:00:00",
           160835
          ],
          [
           "IT_Frühling",
           "2025-03-01T00:00:00",
           227659
          ],
          [
           "NO_Frühling",
           "2023-05-01T00:00:00",
           150355
          ],
          [
           "NO_Herbst",
           "2023-09-01T00:00:00",
           183092
          ],
          [
           "NO_Herbst",
           "2023-10-01T00:00:00",
           137326
          ],
          [
           "NO_Herbst",
           "2023-11-01T00:00:00",
           113227
          ],
          [
           "NO_Winter",
           "2023-12-01T00:00:00",
           98495
          ],
          [
           "NO_Winter",
           "2024-01-01T00:00:00",
           103182
          ],
          [
           "NO_Winter",
           "2024-02-01T00:00:00",
           131852
          ],
          [
           "NO_Frühling",
           "2024-03-01T00:00:00",
           175593
          ],
          [
           "NO_Frühling",
           "2024-05-01T00:00:00",
           124322
          ],
          [
           "NO_Herbst",
           "2024-09-01T00:00:00",
           170339
          ],
          [
           "NO_Herbst",
           "2024-11-01T00:00:00",
           102071
          ],
          [
           "NO_Winter",
           "2024-12-01T00:00:00",
           93851
          ],
          [
           "NO_Winter",
           "2025-01-01T00:00:00",
           98185
          ],
          [
           "NO_Winter",
           "2025-02-01T00:00:00",
           120166
          ],
          [
           "NO_Frühling",
           "2025-03-01T00:00:00",
           141767
          ],
          [
           "NO_Frühling",
           "2025-05-01T00:00:00",
           133826
          ],
          [
           "NO_Frühling",
           "2024-03-01T00:00:00",
           207800
          ],
          [
           "NO_Frühling",
           "2025-04-01T00:00:00",
           278604
          ],
          [
           "NO_Herbst",
           "2023-09-01T00:00:00",
           163366
          ],
          [
           "NO_Herbst",
           "2023-11-01T00:00:00",
           51482
          ],
          [
           "NO_Frühling",
           "2024-05-01T00:00:00",
           163544
          ],
          [
           "NO_Herbst",
           "2024-09-01T00:00:00",
           175296
          ],
          [
           "NO_Herbst",
           "2024-10-01T00:00:00",
           105322
          ],
          [
           "NO_Herbst",
           "2024-11-01T00:00:00",
           77357
          ],
          [
           "NO_Winter",
           "2024-12-01T00:00:00",
           129012
          ],
          [
           "NO_Winter",
           "2025-02-01T00:00:00",
           176626
          ],
          [
           "NO_Frühling",
           "2025-05-01T00:00:00",
           174472
          ],
          [
           "NO_Sommer",
           "2025-06-01T00:00:00",
           249629
          ],
          [
           "NO_Herbst",
           "2023-09-01T00:00:00",
           156322
          ],
          [
           "NO_Frühling",
           "2024-03-01T00:00:00",
           32058
          ],
          [
           "NO_Frühling",
           "2024-05-01T00:00:00",
           178626
          ],
          [
           "NO_Herbst",
           "2024-09-01T00:00:00",
           172408
          ],
          [
           "NO_Herbst",
           "2024-10-01T00:00:00",
           42632
          ],
          [
           "NO_Herbst",
           "2024-11-01T00:00:00",
           23052
          ],
          [
           "NO_Winter",
           "2024-12-01T00:00:00",
           30521
          ],
          [
           "NO_Winter",
           "2025-01-01T00:00:00",
           22634
          ],
          [
           "NO_Frühling",
           "2025-04-01T00:00:00",
           43163
          ],
          [
           "NO_Frühling",
           "2025-05-01T00:00:00",
           189244
          ],
          [
           "PT_Sommer",
           "2023-07-01T00:00:00",
           684585
          ],
          [
           "PT_Herbst",
           "2023-10-01T00:00:00",
           404216
          ],
          [
           "PT_Winter",
           "2023-12-01T00:00:00",
           332717
          ],
          [
           "PT_Winter",
           "2024-01-01T00:00:00",
           242008
          ],
          [
           "PT_Winter",
           "2024-02-01T00:00:00",
           294842
          ],
          [
           "PT_Frühling",
           "2024-03-01T00:00:00",
           348876
          ],
          [
           "PT_Frühling",
           "2024-05-01T00:00:00",
           436975
          ],
          [
           "PT_Herbst",
           "2024-11-01T00:00:00",
           341476
          ],
          [
           "PT_Winter",
           "2024-12-01T00:00:00",
           329828
          ],
          [
           "PT_Winter",
           "2025-01-01T00:00:00",
           251470
          ],
          [
           "PT_Winter",
           "2025-02-01T00:00:00",
           278789
          ],
          [
           "PT_Frühling",
           "2025-05-01T00:00:00",
           425423
          ],
          [
           "PT_Winter",
           "2024-02-01T00:00:00",
           471776
          ],
          [
           "PT_Frühling",
           "2024-03-01T00:00:00",
           700903
          ],
          [
           "PT_Frühling",
           "2024-05-01T00:00:00",
           1034946
          ],
          [
           "PT_Herbst",
           "2024-11-01T00:00:00",
           549618
          ],
          [
           "PT_Frühling",
           "2025-03-01T00:00:00",
           614686
          ],
          [
           "SE_Frühling",
           "2025-04-01T00:00:00",
           535786
          ],
          [
           "SE_Frühling",
           "2019-04-01T00:00:00",
           109646
          ],
          [
           "SE_Frühling",
           "2024-03-01T00:00:00",
           62523
          ],
          [
           "SE_Frühling",
           "2025-04-01T00:00:00",
           101956
          ]
         ],
         "hovertemplate": "Measure=%{x}<br>PctChange=%{y}<br>Land_Saison=%{customdata[0]}<br>JahrMonat=%{customdata[1]}<br>value=%{customdata[2]}<extra></extra>",
         "legendgroup": "pch_sm",
         "marker": {
          "color": "#636efa"
         },
         "name": "pch_sm",
         "notched": false,
         "offsetgroup": "pch_sm",
         "orientation": "v",
         "showlegend": true,
         "type": "box",
         "x": [
          "pch_sm",
          "pch_sm",
          "pch_sm",
          "pch_sm",
          "pch_sm",
          "pch_sm",
          "pch_sm",
          "pch_sm",
          "pch_sm",
          "pch_sm",
          "pch_sm",
          "pch_sm",
          "pch_sm",
          "pch_sm",
          "pch_sm",
          "pch_sm",
          "pch_sm",
          "pch_sm",
          "pch_sm",
          "pch_sm",
          "pch_sm",
          "pch_sm",
          "pch_sm",
          "pch_sm",
          "pch_sm",
          "pch_sm",
          "pch_sm",
          "pch_sm",
          "pch_sm",
          "pch_sm",
          "pch_sm",
          "pch_sm",
          "pch_sm",
          "pch_sm",
          "pch_sm",
          "pch_sm",
          "pch_sm",
          "pch_sm",
          "pch_sm",
          "pch_sm",
          "pch_sm",
          "pch_sm",
          "pch_sm",
          "pch_sm",
          "pch_sm",
          "pch_sm",
          "pch_sm",
          "pch_sm",
          "pch_sm",
          "pch_sm",
          "pch_sm",
          "pch_sm",
          "pch_sm",
          "pch_sm",
          "pch_sm",
          "pch_sm",
          "pch_sm",
          "pch_sm",
          "pch_sm",
          "pch_sm",
          "pch_sm",
          "pch_sm",
          "pch_sm",
          "pch_sm",
          "pch_sm",
          "pch_sm",
          "pch_sm",
          "pch_sm",
          "pch_sm",
          "pch_sm",
          "pch_sm",
          "pch_sm",
          "pch_sm",
          "pch_sm",
          "pch_sm",
          "pch_sm",
          "pch_sm",
          "pch_sm",
          "pch_sm",
          "pch_sm",
          "pch_sm",
          "pch_sm",
          "pch_sm",
          "pch_sm",
          "pch_sm",
          "pch_sm",
          "pch_sm",
          "pch_sm",
          "pch_sm",
          "pch_sm",
          "pch_sm",
          "pch_sm",
          "pch_sm",
          "pch_sm",
          "pch_sm",
          "pch_sm",
          "pch_sm",
          "pch_sm",
          "pch_sm",
          "pch_sm",
          "pch_sm",
          "pch_sm",
          "pch_sm",
          "pch_sm",
          "pch_sm",
          "pch_sm",
          "pch_sm",
          "pch_sm",
          "pch_sm",
          "pch_sm",
          "pch_sm",
          "pch_sm",
          "pch_sm",
          "pch_sm",
          "pch_sm",
          "pch_sm",
          "pch_sm",
          "pch_sm",
          "pch_sm",
          "pch_sm",
          "pch_sm",
          "pch_sm",
          "pch_sm",
          "pch_sm",
          "pch_sm",
          "pch_sm",
          "pch_sm",
          "pch_sm",
          "pch_sm",
          "pch_sm",
          "pch_sm",
          "pch_sm",
          "pch_sm",
          "pch_sm",
          "pch_sm",
          "pch_sm",
          "pch_sm",
          "pch_sm",
          "pch_sm",
          "pch_sm",
          "pch_sm",
          "pch_sm",
          "pch_sm",
          "pch_sm",
          "pch_sm",
          "pch_sm",
          "pch_sm",
          "pch_sm",
          "pch_sm",
          "pch_sm",
          "pch_sm",
          "pch_sm",
          "pch_sm",
          "pch_sm",
          "pch_sm",
          "pch_sm",
          "pch_sm",
          "pch_sm",
          "pch_sm",
          "pch_sm",
          "pch_sm",
          "pch_sm",
          "pch_sm",
          "pch_sm",
          "pch_sm",
          "pch_sm",
          "pch_sm",
          "pch_sm",
          "pch_sm",
          "pch_sm",
          "pch_sm",
          "pch_sm",
          "pch_sm",
          "pch_sm",
          "pch_sm",
          "pch_sm",
          "pch_sm",
          "pch_sm",
          "pch_sm",
          "pch_sm",
          "pch_sm",
          "pch_sm",
          "pch_sm",
          "pch_sm",
          "pch_sm",
          "pch_sm",
          "pch_sm",
          "pch_sm"
         ],
         "x0": " ",
         "xaxis": "x",
         "y": {
          "bdata": "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",
          "dtype": "f8"
         },
         "y0": " ",
         "yaxis": "y"
        },
        {
         "alignmentgroup": "True",
         "boxpoints": "all",
         "customdata": [
          [
           "DE_Sommer",
           "2019-06-01T00:00:00",
           5355845
          ],
          [
           "DE_Frühling",
           "2023-05-01T00:00:00",
           4877814
          ],
          [
           "DE_Herbst",
           "2023-09-01T00:00:00",
           4446687
          ],
          [
           "DE_Frühling",
           "2024-03-01T00:00:00",
           1407110
          ],
          [
           "DE_Frühling",
           "2024-05-01T00:00:00",
           5774622
          ],
          [
           "DE_Herbst",
           "2024-11-01T00:00:00",
           500450
          ],
          [
           "DE_Winter",
           "2025-01-01T00:00:00",
           379895
          ],
          [
           "DE_Frühling",
           "2025-03-01T00:00:00",
           811872
          ],
          [
           "DE_Frühling",
           "2025-04-01T00:00:00",
           3450889
          ],
          [
           "DE_Frühling",
           "2025-05-01T00:00:00",
           4515745
          ],
          [
           "DE_Frühling",
           "2024-03-01T00:00:00",
           79474
          ],
          [
           "DK_Frühling",
           "2024-03-01T00:00:00",
           396538
          ],
          [
           "DK_Frühling",
           "2024-03-01T00:00:00",
           221362
          ],
          [
           "DK_Herbst",
           "2024-11-01T00:00:00",
           151415
          ],
          [
           "DK_Winter",
           "2024-12-01T00:00:00",
           138035
          ],
          [
           "DK_Frühling",
           "2024-03-01T00:00:00",
           169927
          ],
          [
           "DK_Herbst",
           "2024-10-01T00:00:00",
           298980
          ],
          [
           "DK_Frühling",
           "2025-04-01T00:00:00",
           305335
          ],
          [
           "DK_Frühling",
           "2023-05-01T00:00:00",
           394848
          ],
          [
           "DK_Sommer",
           "2023-08-01T00:00:00",
           1213502
          ],
          [
           "DK_Herbst",
           "2023-09-01T00:00:00",
           308382
          ],
          [
           "DK_Winter",
           "2024-02-01T00:00:00",
           12665
          ],
          [
           "DK_Frühling",
           "2024-03-01T00:00:00",
           75115
          ],
          [
           "DK_Frühling",
           "2024-05-01T00:00:00",
           440445
          ],
          [
           "DK_Sommer",
           "2024-08-01T00:00:00",
           1286736
          ],
          [
           "DK_Herbst",
           "2024-09-01T00:00:00",
           367009
          ],
          [
           "DK_Herbst",
           "2024-10-01T00:00:00",
           157619
          ],
          [
           "DK_Herbst",
           "2024-11-01T00:00:00",
           28894
          ],
          [
           "DK_Winter",
           "2024-12-01T00:00:00",
           43377
          ],
          [
           "DK_Winter",
           "2025-01-01T00:00:00",
           22092
          ],
          [
           "DK_Winter",
           "2025-02-01T00:00:00",
           17297
          ],
          [
           "DK_Frühling",
           "2025-03-01T00:00:00",
           36377
          ],
          [
           "DK_Frühling",
           "2025-05-01T00:00:00",
           377316
          ],
          [
           "EL_Winter",
           "2019-01-01T00:00:00",
           1011
          ],
          [
           "EL_Winter",
           "2019-02-01T00:00:00",
           630
          ],
          [
           "EL_Herbst",
           "2019-10-01T00:00:00",
           4562
          ],
          [
           "EL_Herbst",
           "2019-11-01T00:00:00",
           1231
          ],
          [
           "EL_Winter",
           "2020-01-01T00:00:00",
           57
          ],
          [
           "EL_Winter",
           "2020-02-01T00:00:00",
           129
          ],
          [
           "EL_Frühling",
           "2023-05-01T00:00:00",
           38166
          ],
          [
           "EL_Frühling",
           "2025-03-01T00:00:00",
           845
          ],
          [
           "EL_Winter",
           "2020-01-01T00:00:00",
           2119
          ],
          [
           "EL_Winter",
           "2020-02-01T00:00:00",
           1354
          ],
          [
           "EL_Herbst",
           "2023-10-01T00:00:00",
           24745
          ],
          [
           "EL_Herbst",
           "2023-11-01T00:00:00",
           3518
          ],
          [
           "EL_Winter",
           "2023-12-01T00:00:00",
           2955
          ],
          [
           "EL_Winter",
           "2024-01-01T00:00:00",
           1584
          ],
          [
           "EL_Herbst",
           "2024-11-01T00:00:00",
           3731
          ],
          [
           "EL_Winter",
           "2024-12-01T00:00:00",
           3106
          ],
          [
           "ES_Frühling",
           "2024-03-01T00:00:00",
           2379617
          ],
          [
           "ES_Herbst",
           "2023-10-01T00:00:00",
           1263899
          ],
          [
           "ES_Winter",
           "2024-01-01T00:00:00",
           338259
          ],
          [
           "ES_Frühling",
           "2024-03-01T00:00:00",
           1537883
          ],
          [
           "ES_Frühling",
           "2024-05-01T00:00:00",
           1939907
          ],
          [
           "ES_Frühling",
           "2025-03-01T00:00:00",
           665465
          ],
          [
           "ES_Frühling",
           "2025-04-01T00:00:00",
           2161823
          ],
          [
           "ES_Frühling",
           "2025-05-01T00:00:00",
           2040941
          ],
          [
           "FI_Herbst",
           "2024-09-01T00:00:00",
           15398
          ],
          [
           "HR_Winter",
           "2024-02-01T00:00:00",
           184218
          ],
          [
           "HR_Sommer",
           "2024-07-01T00:00:00",
           473671
          ],
          [
           "HR_Sommer",
           "2024-08-01T00:00:00",
           613210
          ],
          [
           "HR_Herbst",
           "2024-11-01T00:00:00",
           249336
          ],
          [
           "HR_Winter",
           "2025-02-01T00:00:00",
           196529
          ],
          [
           "HR_Sommer",
           "2025-06-01T00:00:00",
           457298
          ],
          [
           "HR_Winter",
           "2019-01-01T00:00:00",
           660
          ],
          [
           "HR_Winter",
           "2019-02-01T00:00:00",
           898
          ],
          [
           "HR_Frühling",
           "2019-03-01T00:00:00",
           2903
          ],
          [
           "HR_Winter",
           "2019-12-01T00:00:00",
           910
          ],
          [
           "HR_Frühling",
           "2023-05-01T00:00:00",
           39844
          ],
          [
           "HR_Herbst",
           "2023-09-01T00:00:00",
           59637
          ],
          [
           "HR_Herbst",
           "2023-10-01T00:00:00",
           15556
          ],
          [
           "HR_Herbst",
           "2023-11-01T00:00:00",
           2995
          ],
          [
           "HR_Winter",
           "2023-12-01T00:00:00",
           4007
          ],
          [
           "HR_Winter",
           "2024-01-01T00:00:00",
           2838
          ],
          [
           "HR_Winter",
           "2024-02-01T00:00:00",
           4141
          ],
          [
           "HR_Frühling",
           "2024-03-01T00:00:00",
           10424
          ],
          [
           "HR_Frühling",
           "2024-04-01T00:00:00",
           24421
          ],
          [
           "HR_Frühling",
           "2024-05-01T00:00:00",
           51488
          ],
          [
           "HR_Herbst",
           "2024-09-01T00:00:00",
           61324
          ],
          [
           "HR_Herbst",
           "2024-10-01T00:00:00",
           14658
          ],
          [
           "HR_Herbst",
           "2024-11-01T00:00:00",
           9157
          ],
          [
           "HR_Winter",
           "2024-12-01T00:00:00",
           5009
          ],
          [
           "HR_Winter",
           "2025-01-01T00:00:00",
           3662
          ],
          [
           "HR_Winter",
           "2025-02-01T00:00:00",
           4297
          ],
          [
           "HR_Frühling",
           "2025-03-01T00:00:00",
           5279
          ],
          [
           "HR_Frühling",
           "2025-04-01T00:00:00",
           27660
          ],
          [
           "HR_Frühling",
           "2025-05-01T00:00:00",
           76932
          ],
          [
           "HR_Frühling",
           "2024-03-01T00:00:00",
           277215
          ],
          [
           "HR_Frühling",
           "2024-05-01T00:00:00",
           2241672
          ],
          [
           "HR_Winter",
           "2019-02-01T00:00:00",
           6495
          ],
          [
           "HR_Winter",
           "2020-01-01T00:00:00",
           9518
          ],
          [
           "HR_Frühling",
           "2023-05-01T00:00:00",
           1380575
          ],
          [
           "HR_Herbst",
           "2023-10-01T00:00:00",
           423671
          ],
          [
           "HR_Herbst",
           "2023-11-01T00:00:00",
           31965
          ],
          [
           "HR_Winter",
           "2023-12-01T00:00:00",
           35354
          ],
          [
           "HR_Winter",
           "2024-01-01T00:00:00",
           19341
          ],
          [
           "HR_Winter",
           "2024-02-01T00:00:00",
           19085
          ],
          [
           "HR_Frühling",
           "2024-03-01T00:00:00",
           99608
          ],
          [
           "HR_Frühling",
           "2024-05-01T00:00:00",
           1767857
          ],
          [
           "HR_Herbst",
           "2024-10-01T00:00:00",
           445588
          ],
          [
           "HR_Herbst",
           "2024-11-01T00:00:00",
           49535
          ],
          [
           "HR_Winter",
           "2024-12-01T00:00:00",
           46072
          ],
          [
           "HR_Winter",
           "2025-01-01T00:00:00",
           23365
          ],
          [
           "HR_Winter",
           "2025-02-01T00:00:00",
           17460
          ],
          [
           "HR_Frühling",
           "2025-03-01T00:00:00",
           33817
          ],
          [
           "IT_Frühling",
           "2024-03-01T00:00:00",
           324201
          ],
          [
           "IT_Herbst",
           "2024-11-01T00:00:00",
           252717
          ],
          [
           "IT_Winter",
           "2024-02-01T00:00:00",
           2830094
          ],
          [
           "IT_Frühling",
           "2024-03-01T00:00:00",
           3402485
          ],
          [
           "IT_Frühling",
           "2024-05-01T00:00:00",
           8089222
          ],
          [
           "IT_Herbst",
           "2024-10-01T00:00:00",
           6205213
          ],
          [
           "IT_Herbst",
           "2024-11-01T00:00:00",
           2370215
          ],
          [
           "IT_Winter",
           "2024-12-01T00:00:00",
           2335737
          ],
          [
           "IT_Winter",
           "2025-01-01T00:00:00",
           2358522
          ],
          [
           "IT_Winter",
           "2025-02-01T00:00:00",
           2914735
          ],
          [
           "IT_Frühling",
           "2025-03-01T00:00:00",
           3250328
          ],
          [
           "IT_Frühling",
           "2025-04-01T00:00:00",
           5657478
          ],
          [
           "IT_Frühling",
           "2025-05-01T00:00:00",
           7056984
          ],
          [
           "IT_Sommer",
           "2025-06-01T00:00:00",
           11162055
          ],
          [
           "IT_Herbst",
           "2019-11-01T00:00:00",
           59933
          ],
          [
           "IT_Winter",
           "2019-12-01T00:00:00",
           76927
          ],
          [
           "IT_Winter",
           "2020-01-01T00:00:00",
           62279
          ],
          [
           "IT_Frühling",
           "2023-05-01T00:00:00",
           2907891
          ],
          [
           "IT_Herbst",
           "2023-11-01T00:00:00",
           97745
          ],
          [
           "IT_Frühling",
           "2024-03-01T00:00:00",
           486099
          ],
          [
           "IT_Frühling",
           "2024-05-01T00:00:00",
           4068939
          ],
          [
           "IT_Herbst",
           "2024-11-01T00:00:00",
           139233
          ],
          [
           "IT_Winter",
           "2024-12-01T00:00:00",
           160835
          ],
          [
           "IT_Frühling",
           "2025-03-01T00:00:00",
           227659
          ],
          [
           "NO_Frühling",
           "2023-05-01T00:00:00",
           150355
          ],
          [
           "NO_Herbst",
           "2023-09-01T00:00:00",
           183092
          ],
          [
           "NO_Herbst",
           "2023-10-01T00:00:00",
           137326
          ],
          [
           "NO_Herbst",
           "2023-11-01T00:00:00",
           113227
          ],
          [
           "NO_Winter",
           "2023-12-01T00:00:00",
           98495
          ],
          [
           "NO_Winter",
           "2024-01-01T00:00:00",
           103182
          ],
          [
           "NO_Winter",
           "2024-02-01T00:00:00",
           131852
          ],
          [
           "NO_Frühling",
           "2024-03-01T00:00:00",
           175593
          ],
          [
           "NO_Frühling",
           "2024-05-01T00:00:00",
           124322
          ],
          [
           "NO_Herbst",
           "2024-09-01T00:00:00",
           170339
          ],
          [
           "NO_Herbst",
           "2024-11-01T00:00:00",
           102071
          ],
          [
           "NO_Winter",
           "2024-12-01T00:00:00",
           93851
          ],
          [
           "NO_Winter",
           "2025-01-01T00:00:00",
           98185
          ],
          [
           "NO_Winter",
           "2025-02-01T00:00:00",
           120166
          ],
          [
           "NO_Frühling",
           "2025-03-01T00:00:00",
           141767
          ],
          [
           "NO_Frühling",
           "2025-05-01T00:00:00",
           133826
          ],
          [
           "NO_Frühling",
           "2024-03-01T00:00:00",
           207800
          ],
          [
           "NO_Frühling",
           "2025-04-01T00:00:00",
           278604
          ],
          [
           "NO_Herbst",
           "2023-09-01T00:00:00",
           163366
          ],
          [
           "NO_Herbst",
           "2023-11-01T00:00:00",
           51482
          ],
          [
           "NO_Frühling",
           "2024-05-01T00:00:00",
           163544
          ],
          [
           "NO_Herbst",
           "2024-09-01T00:00:00",
           175296
          ],
          [
           "NO_Herbst",
           "2024-10-01T00:00:00",
           105322
          ],
          [
           "NO_Herbst",
           "2024-11-01T00:00:00",
           77357
          ],
          [
           "NO_Winter",
           "2024-12-01T00:00:00",
           129012
          ],
          [
           "NO_Winter",
           "2025-02-01T00:00:00",
           176626
          ],
          [
           "NO_Frühling",
           "2025-05-01T00:00:00",
           174472
          ],
          [
           "NO_Sommer",
           "2025-06-01T00:00:00",
           249629
          ],
          [
           "NO_Herbst",
           "2023-09-01T00:00:00",
           156322
          ],
          [
           "NO_Frühling",
           "2024-03-01T00:00:00",
           32058
          ],
          [
           "NO_Frühling",
           "2024-05-01T00:00:00",
           178626
          ],
          [
           "NO_Herbst",
           "2024-09-01T00:00:00",
           172408
          ],
          [
           "NO_Herbst",
           "2024-10-01T00:00:00",
           42632
          ],
          [
           "NO_Herbst",
           "2024-11-01T00:00:00",
           23052
          ],
          [
           "NO_Winter",
           "2024-12-01T00:00:00",
           30521
          ],
          [
           "NO_Winter",
           "2025-01-01T00:00:00",
           22634
          ],
          [
           "NO_Frühling",
           "2025-04-01T00:00:00",
           43163
          ],
          [
           "NO_Frühling",
           "2025-05-01T00:00:00",
           189244
          ],
          [
           "PT_Sommer",
           "2023-07-01T00:00:00",
           684585
          ],
          [
           "PT_Herbst",
           "2023-10-01T00:00:00",
           404216
          ],
          [
           "PT_Winter",
           "2023-12-01T00:00:00",
           332717
          ],
          [
           "PT_Winter",
           "2024-01-01T00:00:00",
           242008
          ],
          [
           "PT_Winter",
           "2024-02-01T00:00:00",
           294842
          ],
          [
           "PT_Frühling",
           "2024-03-01T00:00:00",
           348876
          ],
          [
           "PT_Frühling",
           "2024-05-01T00:00:00",
           436975
          ],
          [
           "PT_Herbst",
           "2024-11-01T00:00:00",
           341476
          ],
          [
           "PT_Winter",
           "2024-12-01T00:00:00",
           329828
          ],
          [
           "PT_Winter",
           "2025-01-01T00:00:00",
           251470
          ],
          [
           "PT_Winter",
           "2025-02-01T00:00:00",
           278789
          ],
          [
           "PT_Frühling",
           "2025-05-01T00:00:00",
           425423
          ],
          [
           "PT_Winter",
           "2024-02-01T00:00:00",
           471776
          ],
          [
           "PT_Frühling",
           "2024-03-01T00:00:00",
           700903
          ],
          [
           "PT_Frühling",
           "2024-05-01T00:00:00",
           1034946
          ],
          [
           "PT_Herbst",
           "2024-11-01T00:00:00",
           549618
          ],
          [
           "PT_Frühling",
           "2025-03-01T00:00:00",
           614686
          ],
          [
           "SE_Frühling",
           "2025-04-01T00:00:00",
           535786
          ],
          [
           "SE_Frühling",
           "2019-04-01T00:00:00",
           109646
          ],
          [
           "SE_Frühling",
           "2024-03-01T00:00:00",
           62523
          ],
          [
           "SE_Frühling",
           "2025-04-01T00:00:00",
           101956
          ]
         ],
         "hovertemplate": "Measure=%{x}<br>PctChange=%{y}<br>Land_Saison=%{customdata[0]}<br>JahrMonat=%{customdata[1]}<br>value=%{customdata[2]}<extra></extra>",
         "legendgroup": "pch_sm_19",
         "marker": {
          "color": "#EF553B"
         },
         "name": "pch_sm_19",
         "notched": false,
         "offsetgroup": "pch_sm_19",
         "orientation": "v",
         "showlegend": true,
         "type": "box",
         "x": [
          "pch_sm_19",
          "pch_sm_19",
          "pch_sm_19",
          "pch_sm_19",
          "pch_sm_19",
          "pch_sm_19",
          "pch_sm_19",
          "pch_sm_19",
          "pch_sm_19",
          "pch_sm_19",
          "pch_sm_19",
          "pch_sm_19",
          "pch_sm_19",
          "pch_sm_19",
          "pch_sm_19",
          "pch_sm_19",
          "pch_sm_19",
          "pch_sm_19",
          "pch_sm_19",
          "pch_sm_19",
          "pch_sm_19",
          "pch_sm_19",
          "pch_sm_19",
          "pch_sm_19",
          "pch_sm_19",
          "pch_sm_19",
          "pch_sm_19",
          "pch_sm_19",
          "pch_sm_19",
          "pch_sm_19",
          "pch_sm_19",
          "pch_sm_19",
          "pch_sm_19",
          "pch_sm_19",
          "pch_sm_19",
          "pch_sm_19",
          "pch_sm_19",
          "pch_sm_19",
          "pch_sm_19",
          "pch_sm_19",
          "pch_sm_19",
          "pch_sm_19",
          "pch_sm_19",
          "pch_sm_19",
          "pch_sm_19",
          "pch_sm_19",
          "pch_sm_19",
          "pch_sm_19",
          "pch_sm_19",
          "pch_sm_19",
          "pch_sm_19",
          "pch_sm_19",
          "pch_sm_19",
          "pch_sm_19",
          "pch_sm_19",
          "pch_sm_19",
          "pch_sm_19",
          "pch_sm_19",
          "pch_sm_19",
          "pch_sm_19",
          "pch_sm_19",
          "pch_sm_19",
          "pch_sm_19",
          "pch_sm_19",
          "pch_sm_19",
          "pch_sm_19",
          "pch_sm_19",
          "pch_sm_19",
          "pch_sm_19",
          "pch_sm_19",
          "pch_sm_19",
          "pch_sm_19",
          "pch_sm_19",
          "pch_sm_19",
          "pch_sm_19",
          "pch_sm_19",
          "pch_sm_19",
          "pch_sm_19",
          "pch_sm_19",
          "pch_sm_19",
          "pch_sm_19",
          "pch_sm_19",
          "pch_sm_19",
          "pch_sm_19",
          "pch_sm_19",
          "pch_sm_19",
          "pch_sm_19",
          "pch_sm_19",
          "pch_sm_19",
          "pch_sm_19",
          "pch_sm_19",
          "pch_sm_19",
          "pch_sm_19",
          "pch_sm_19",
          "pch_sm_19",
          "pch_sm_19",
          "pch_sm_19",
          "pch_sm_19",
          "pch_sm_19",
          "pch_sm_19",
          "pch_sm_19",
          "pch_sm_19",
          "pch_sm_19",
          "pch_sm_19",
          "pch_sm_19",
          "pch_sm_19",
          "pch_sm_19",
          "pch_sm_19",
          "pch_sm_19",
          "pch_sm_19",
          "pch_sm_19",
          "pch_sm_19",
          "pch_sm_19",
          "pch_sm_19",
          "pch_sm_19",
          "pch_sm_19",
          "pch_sm_19",
          "pch_sm_19",
          "pch_sm_19",
          "pch_sm_19",
          "pch_sm_19",
          "pch_sm_19",
          "pch_sm_19",
          "pch_sm_19",
          "pch_sm_19",
          "pch_sm_19",
          "pch_sm_19",
          "pch_sm_19",
          "pch_sm_19",
          "pch_sm_19",
          "pch_sm_19",
          "pch_sm_19",
          "pch_sm_19",
          "pch_sm_19",
          "pch_sm_19",
          "pch_sm_19",
          "pch_sm_19",
          "pch_sm_19",
          "pch_sm_19",
          "pch_sm_19",
          "pch_sm_19",
          "pch_sm_19",
          "pch_sm_19",
          "pch_sm_19",
          "pch_sm_19",
          "pch_sm_19",
          "pch_sm_19",
          "pch_sm_19",
          "pch_sm_19",
          "pch_sm_19",
          "pch_sm_19",
          "pch_sm_19",
          "pch_sm_19",
          "pch_sm_19",
          "pch_sm_19",
          "pch_sm_19",
          "pch_sm_19",
          "pch_sm_19",
          "pch_sm_19",
          "pch_sm_19",
          "pch_sm_19",
          "pch_sm_19",
          "pch_sm_19",
          "pch_sm_19",
          "pch_sm_19",
          "pch_sm_19",
          "pch_sm_19",
          "pch_sm_19",
          "pch_sm_19",
          "pch_sm_19",
          "pch_sm_19",
          "pch_sm_19",
          "pch_sm_19",
          "pch_sm_19",
          "pch_sm_19",
          "pch_sm_19",
          "pch_sm_19",
          "pch_sm_19",
          "pch_sm_19",
          "pch_sm_19",
          "pch_sm_19",
          "pch_sm_19",
          "pch_sm_19",
          "pch_sm_19",
          "pch_sm_19",
          "pch_sm_19",
          "pch_sm_19",
          "pch_sm_19"
         ],
         "x0": " ",
         "xaxis": "x",
         "y": {
          "bdata": "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",
          "dtype": "f8"
         },
         "y0": " ",
         "yaxis": "y"
        }
       ],
       "layout": {
        "boxmode": "group",
        "legend": {
         "title": {
          "text": "Measure"
         },
         "tracegroupgap": 0
        },
        "margin": {
         "t": 60
        },
        "template": {
         "data": {
          "bar": [
           {
            "error_x": {
             "color": "#2a3f5f"
            },
            "error_y": {
             "color": "#2a3f5f"
            },
            "marker": {
             "line": {
              "color": "white",
              "width": 0.5
             },
             "pattern": {
              "fillmode": "overlay",
              "size": 10,
              "solidity": 0.2
             }
            },
            "type": "bar"
           }
          ],
          "barpolar": [
           {
            "marker": {
             "line": {
              "color": "white",
              "width": 0.5
             },
             "pattern": {
              "fillmode": "overlay",
              "size": 10,
              "solidity": 0.2
             }
            },
            "type": "barpolar"
           }
          ],
          "carpet": [
           {
            "aaxis": {
             "endlinecolor": "#2a3f5f",
             "gridcolor": "#C8D4E3",
             "linecolor": "#C8D4E3",
             "minorgridcolor": "#C8D4E3",
             "startlinecolor": "#2a3f5f"
            },
            "baxis": {
             "endlinecolor": "#2a3f5f",
             "gridcolor": "#C8D4E3",
             "linecolor": "#C8D4E3",
             "minorgridcolor": "#C8D4E3",
             "startlinecolor": "#2a3f5f"
            },
            "type": "carpet"
           }
          ],
          "choropleth": [
           {
            "colorbar": {
             "outlinewidth": 0,
             "ticks": ""
            },
            "type": "choropleth"
           }
          ],
          "contour": [
           {
            "colorbar": {
             "outlinewidth": 0,
             "ticks": ""
            },
            "colorscale": [
             [
              0,
              "#0d0887"
             ],
             [
              0.1111111111111111,
              "#46039f"
             ],
             [
              0.2222222222222222,
              "#7201a8"
             ],
             [
              0.3333333333333333,
              "#9c179e"
             ],
             [
              0.4444444444444444,
              "#bd3786"
             ],
             [
              0.5555555555555556,
              "#d8576b"
             ],
             [
              0.6666666666666666,
              "#ed7953"
             ],
             [
              0.7777777777777778,
              "#fb9f3a"
             ],
             [
              0.8888888888888888,
              "#fdca26"
             ],
             [
              1,
              "#f0f921"
             ]
            ],
            "type": "contour"
           }
          ],
          "contourcarpet": [
           {
            "colorbar": {
             "outlinewidth": 0,
             "ticks": ""
            },
            "type": "contourcarpet"
           }
          ],
          "heatmap": [
           {
            "colorbar": {
             "outlinewidth": 0,
             "ticks": ""
            },
            "colorscale": [
             [
              0,
              "#0d0887"
             ],
             [
              0.1111111111111111,
              "#46039f"
             ],
             [
              0.2222222222222222,
              "#7201a8"
             ],
             [
              0.3333333333333333,
              "#9c179e"
             ],
             [
              0.4444444444444444,
              "#bd3786"
             ],
             [
              0.5555555555555556,
              "#d8576b"
             ],
             [
              0.6666666666666666,
              "#ed7953"
             ],
             [
              0.7777777777777778,
              "#fb9f3a"
             ],
             [
              0.8888888888888888,
              "#fdca26"
             ],
             [
              1,
              "#f0f921"
             ]
            ],
            "type": "heatmap"
           }
          ],
          "histogram": [
           {
            "marker": {
             "pattern": {
              "fillmode": "overlay",
              "size": 10,
              "solidity": 0.2
             }
            },
            "type": "histogram"
           }
          ],
          "histogram2d": [
           {
            "colorbar": {
             "outlinewidth": 0,
             "ticks": ""
            },
            "colorscale": [
             [
              0,
              "#0d0887"
             ],
             [
              0.1111111111111111,
              "#46039f"
             ],
             [
              0.2222222222222222,
              "#7201a8"
             ],
             [
              0.3333333333333333,
              "#9c179e"
             ],
             [
              0.4444444444444444,
              "#bd3786"
             ],
             [
              0.5555555555555556,
              "#d8576b"
             ],
             [
              0.6666666666666666,
              "#ed7953"
             ],
             [
              0.7777777777777778,
              "#fb9f3a"
             ],
             [
              0.8888888888888888,
              "#fdca26"
             ],
             [
              1,
              "#f0f921"
             ]
            ],
            "type": "histogram2d"
           }
          ],
          "histogram2dcontour": [
           {
            "colorbar": {
             "outlinewidth": 0,
             "ticks": ""
            },
            "colorscale": [
             [
              0,
              "#0d0887"
             ],
             [
              0.1111111111111111,
              "#46039f"
             ],
             [
              0.2222222222222222,
              "#7201a8"
             ],
             [
              0.3333333333333333,
              "#9c179e"
             ],
             [
              0.4444444444444444,
              "#bd3786"
             ],
             [
              0.5555555555555556,
              "#d8576b"
             ],
             [
              0.6666666666666666,
              "#ed7953"
             ],
             [
              0.7777777777777778,
              "#fb9f3a"
             ],
             [
              0.8888888888888888,
              "#fdca26"
             ],
             [
              1,
              "#f0f921"
             ]
            ],
            "type": "histogram2dcontour"
           }
          ],
          "mesh3d": [
           {
            "colorbar": {
             "outlinewidth": 0,
             "ticks": ""
            },
            "type": "mesh3d"
           }
          ],
          "parcoords": [
           {
            "line": {
             "colorbar": {
              "outlinewidth": 0,
              "ticks": ""
             }
            },
            "type": "parcoords"
           }
          ],
          "pie": [
           {
            "automargin": true,
            "type": "pie"
           }
          ],
          "scatter": [
           {
            "fillpattern": {
             "fillmode": "overlay",
             "size": 10,
             "solidity": 0.2
            },
            "type": "scatter"
           }
          ],
          "scatter3d": [
           {
            "line": {
             "colorbar": {
              "outlinewidth": 0,
              "ticks": ""
             }
            },
            "marker": {
             "colorbar": {
              "outlinewidth": 0,
              "ticks": ""
             }
            },
            "type": "scatter3d"
           }
          ],
          "scattercarpet": [
           {
            "marker": {
             "colorbar": {
              "outlinewidth": 0,
              "ticks": ""
             }
            },
            "type": "scattercarpet"
           }
          ],
          "scattergeo": [
           {
            "marker": {
             "colorbar": {
              "outlinewidth": 0,
              "ticks": ""
             }
            },
            "type": "scattergeo"
           }
          ],
          "scattergl": [
           {
            "marker": {
             "colorbar": {
              "outlinewidth": 0,
              "ticks": ""
             }
            },
            "type": "scattergl"
           }
          ],
          "scattermap": [
           {
            "marker": {
             "colorbar": {
              "outlinewidth": 0,
              "ticks": ""
             }
            },
            "type": "scattermap"
           }
          ],
          "scattermapbox": [
           {
            "marker": {
             "colorbar": {
              "outlinewidth": 0,
              "ticks": ""
             }
            },
            "type": "scattermapbox"
           }
          ],
          "scatterpolar": [
           {
            "marker": {
             "colorbar": {
              "outlinewidth": 0,
              "ticks": ""
             }
            },
            "type": "scatterpolar"
           }
          ],
          "scatterpolargl": [
           {
            "marker": {
             "colorbar": {
              "outlinewidth": 0,
              "ticks": ""
             }
            },
            "type": "scatterpolargl"
           }
          ],
          "scatterternary": [
           {
            "marker": {
             "colorbar": {
              "outlinewidth": 0,
              "ticks": ""
             }
            },
            "type": "scatterternary"
           }
          ],
          "surface": [
           {
            "colorbar": {
             "outlinewidth": 0,
             "ticks": ""
            },
            "colorscale": [
             [
              0,
              "#0d0887"
             ],
             [
              0.1111111111111111,
              "#46039f"
             ],
             [
              0.2222222222222222,
              "#7201a8"
             ],
             [
              0.3333333333333333,
              "#9c179e"
             ],
             [
              0.4444444444444444,
              "#bd3786"
             ],
             [
              0.5555555555555556,
              "#d8576b"
             ],
             [
              0.6666666666666666,
              "#ed7953"
             ],
             [
              0.7777777777777778,
              "#fb9f3a"
             ],
             [
              0.8888888888888888,
              "#fdca26"
             ],
             [
              1,
              "#f0f921"
             ]
            ],
            "type": "surface"
           }
          ],
          "table": [
           {
            "cells": {
             "fill": {
              "color": "#EBF0F8"
             },
             "line": {
              "color": "white"
             }
            },
            "header": {
             "fill": {
              "color": "#C8D4E3"
             },
             "line": {
              "color": "white"
             }
            },
            "type": "table"
           }
          ]
         },
         "layout": {
          "annotationdefaults": {
           "arrowcolor": "#2a3f5f",
           "arrowhead": 0,
           "arrowwidth": 1
          },
          "autotypenumbers": "strict",
          "coloraxis": {
           "colorbar": {
            "outlinewidth": 0,
            "ticks": ""
           }
          },
          "colorscale": {
           "diverging": [
            [
             0,
             "#8e0152"
            ],
            [
             0.1,
             "#c51b7d"
            ],
            [
             0.2,
             "#de77ae"
            ],
            [
             0.3,
             "#f1b6da"
            ],
            [
             0.4,
             "#fde0ef"
            ],
            [
             0.5,
             "#f7f7f7"
            ],
            [
             0.6,
             "#e6f5d0"
            ],
            [
             0.7,
             "#b8e186"
            ],
            [
             0.8,
             "#7fbc41"
            ],
            [
             0.9,
             "#4d9221"
            ],
            [
             1,
             "#276419"
            ]
           ],
           "sequential": [
            [
             0,
             "#0d0887"
            ],
            [
             0.1111111111111111,
             "#46039f"
            ],
            [
             0.2222222222222222,
             "#7201a8"
            ],
            [
             0.3333333333333333,
             "#9c179e"
            ],
            [
             0.4444444444444444,
             "#bd3786"
            ],
            [
             0.5555555555555556,
             "#d8576b"
            ],
            [
             0.6666666666666666,
             "#ed7953"
            ],
            [
             0.7777777777777778,
             "#fb9f3a"
            ],
            [
             0.8888888888888888,
             "#fdca26"
            ],
            [
             1,
             "#f0f921"
            ]
           ],
           "sequentialminus": [
            [
             0,
             "#0d0887"
            ],
            [
             0.1111111111111111,
             "#46039f"
            ],
            [
             0.2222222222222222,
             "#7201a8"
            ],
            [
             0.3333333333333333,
             "#9c179e"
            ],
            [
             0.4444444444444444,
             "#bd3786"
            ],
            [
             0.5555555555555556,
             "#d8576b"
            ],
            [
             0.6666666666666666,
             "#ed7953"
            ],
            [
             0.7777777777777778,
             "#fb9f3a"
            ],
            [
             0.8888888888888888,
             "#fdca26"
            ],
            [
             1,
             "#f0f921"
            ]
           ]
          },
          "colorway": [
           "#636efa",
           "#EF553B",
           "#00cc96",
           "#ab63fa",
           "#FFA15A",
           "#19d3f3",
           "#FF6692",
           "#B6E880",
           "#FF97FF",
           "#FECB52"
          ],
          "font": {
           "color": "#2a3f5f"
          },
          "geo": {
           "bgcolor": "white",
           "lakecolor": "white",
           "landcolor": "white",
           "showlakes": true,
           "showland": true,
           "subunitcolor": "#C8D4E3"
          },
          "hoverlabel": {
           "align": "left"
          },
          "hovermode": "closest",
          "mapbox": {
           "style": "light"
          },
          "paper_bgcolor": "white",
          "plot_bgcolor": "white",
          "polar": {
           "angularaxis": {
            "gridcolor": "#EBF0F8",
            "linecolor": "#EBF0F8",
            "ticks": ""
           },
           "bgcolor": "white",
           "radialaxis": {
            "gridcolor": "#EBF0F8",
            "linecolor": "#EBF0F8",
            "ticks": ""
           }
          },
          "scene": {
           "xaxis": {
            "backgroundcolor": "white",
            "gridcolor": "#DFE8F3",
            "gridwidth": 2,
            "linecolor": "#EBF0F8",
            "showbackground": true,
            "ticks": "",
            "zerolinecolor": "#EBF0F8"
           },
           "yaxis": {
            "backgroundcolor": "white",
            "gridcolor": "#DFE8F3",
            "gridwidth": 2,
            "linecolor": "#EBF0F8",
            "showbackground": true,
            "ticks": "",
            "zerolinecolor": "#EBF0F8"
           },
           "zaxis": {
            "backgroundcolor": "white",
            "gridcolor": "#DFE8F3",
            "gridwidth": 2,
            "linecolor": "#EBF0F8",
            "showbackground": true,
            "ticks": "",
            "zerolinecolor": "#EBF0F8"
           }
          },
          "shapedefaults": {
           "line": {
            "color": "#2a3f5f"
           }
          },
          "ternary": {
           "aaxis": {
            "gridcolor": "#DFE8F3",
            "linecolor": "#A2B1C6",
            "ticks": ""
           },
           "baxis": {
            "gridcolor": "#DFE8F3",
            "linecolor": "#A2B1C6",
            "ticks": ""
           },
           "bgcolor": "white",
           "caxis": {
            "gridcolor": "#DFE8F3",
            "linecolor": "#A2B1C6",
            "ticks": ""
           }
          },
          "title": {
           "x": 0.05
          },
          "xaxis": {
           "automargin": true,
           "gridcolor": "#EBF0F8",
           "linecolor": "#EBF0F8",
           "ticks": "",
           "title": {
            "standoff": 15
           },
           "zerolinecolor": "#EBF0F8",
           "zerolinewidth": 2
          },
          "yaxis": {
           "automargin": true,
           "gridcolor": "#EBF0F8",
           "linecolor": "#EBF0F8",
           "ticks": "",
           "title": {
            "standoff": 15
           },
           "zerolinecolor": "#EBF0F8",
           "zerolinewidth": 2
          }
         }
        },
        "title": {
         "text": "Distribution of Anomalies in Percentage Change"
        },
        "xaxis": {
         "anchor": "y",
         "categoryarray": [
          "pch_sm",
          "pch_sm_19"
         ],
         "categoryorder": "array",
         "domain": [
          0,
          1
         ],
         "title": {
          "text": "Measure"
         }
        },
        "yaxis": {
         "anchor": "x",
         "domain": [
          0,
          1
         ],
         "title": {
          "text": "Percentage Change (%)"
         }
        }
       }
      }
     },
     "metadata": {},
     "output_type": "display_data"
    }
   ],
   "source": [
    "import plotly.express as px\n",
    "\n",
    "# Select only the percentage change columns\n",
    "cols_to_plot = [\"pch_sm\", \"pch_sm_19\"]\n",
    "\n",
    "# Reshape wide → long for plotly express\n",
    "anomalies_long = anomalies.melt(\n",
    "    id_vars=[\"Land_Saison\", \"JahrMonat\", \"value\"],\n",
    "    value_vars=cols_to_plot,\n",
    "    var_name=\"Measure\",\n",
    "    value_name=\"PctChange\"\n",
    ")\n",
    "\n",
    "# Boxplot\n",
    "fig = px.box(\n",
    "    anomalies_long,\n",
    "    x=\"Measure\",\n",
    "    y=\"PctChange\",\n",
    "    color=\"Measure\",\n",
    "    points=\"all\",  # show individual outliers/points\n",
    "    hover_data=[\"Land_Saison\", \"JahrMonat\", \"value\"]\n",
    ")\n",
    "\n",
    "fig.update_layout(\n",
    "    title=\"Distribution of Anomalies in Percentage Change\",\n",
    "    yaxis_title=\"Percentage Change (%)\",\n",
    "    xaxis_title=\"Measure\",\n",
    "    boxmode=\"group\",\n",
    "    template=\"plotly_white\"\n",
    ")\n",
    "\n",
    "fig.show()\n"
   ]
  },
  {
   "cell_type": "code",
   "execution_count": 16,
   "id": "d7c850c3",
   "metadata": {},
   "outputs": [
    {
     "data": {
      "application/vnd.plotly.v1+json": {
       "config": {
        "plotlyServerURL": "https://plot.ly"
       },
       "data": [
        {
         "bingroup": "x",
         "hovertemplate": "value=%{x}<br>count=%{y}<extra></extra>",
         "legendgroup": "",
         "marker": {
          "color": "#636efa",
          "pattern": {
           "shape": ""
          }
         },
         "name": "",
         "nbinsx": 50,
         "orientation": "v",
         "showlegend": false,
         "type": "histogram",
         "x": {
          "bdata": "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",
          "dtype": "f8"
         },
         "xaxis": "x",
         "yaxis": "y"
        }
       ],
       "layout": {
        "barmode": "relative",
        "legend": {
         "tracegroupgap": 0
        },
        "template": {
         "data": {
          "bar": [
           {
            "error_x": {
             "color": "#2a3f5f"
            },
            "error_y": {
             "color": "#2a3f5f"
            },
            "marker": {
             "line": {
              "color": "#E5ECF6",
              "width": 0.5
             },
             "pattern": {
              "fillmode": "overlay",
              "size": 10,
              "solidity": 0.2
             }
            },
            "type": "bar"
           }
          ],
          "barpolar": [
           {
            "marker": {
             "line": {
              "color": "#E5ECF6",
              "width": 0.5
             },
             "pattern": {
              "fillmode": "overlay",
              "size": 10,
              "solidity": 0.2
             }
            },
            "type": "barpolar"
           }
          ],
          "carpet": [
           {
            "aaxis": {
             "endlinecolor": "#2a3f5f",
             "gridcolor": "white",
             "linecolor": "white",
             "minorgridcolor": "white",
             "startlinecolor": "#2a3f5f"
            },
            "baxis": {
             "endlinecolor": "#2a3f5f",
             "gridcolor": "white",
             "linecolor": "white",
             "minorgridcolor": "white",
             "startlinecolor": "#2a3f5f"
            },
            "type": "carpet"
           }
          ],
          "choropleth": [
           {
            "colorbar": {
             "outlinewidth": 0,
             "ticks": ""
            },
            "type": "choropleth"
           }
          ],
          "contour": [
           {
            "colorbar": {
             "outlinewidth": 0,
             "ticks": ""
            },
            "colorscale": [
             [
              0,
              "#0d0887"
             ],
             [
              0.1111111111111111,
              "#46039f"
             ],
             [
              0.2222222222222222,
              "#7201a8"
             ],
             [
              0.3333333333333333,
              "#9c179e"
             ],
             [
              0.4444444444444444,
              "#bd3786"
             ],
             [
              0.5555555555555556,
              "#d8576b"
             ],
             [
              0.6666666666666666,
              "#ed7953"
             ],
             [
              0.7777777777777778,
              "#fb9f3a"
             ],
             [
              0.8888888888888888,
              "#fdca26"
             ],
             [
              1,
              "#f0f921"
             ]
            ],
            "type": "contour"
           }
          ],
          "contourcarpet": [
           {
            "colorbar": {
             "outlinewidth": 0,
             "ticks": ""
            },
            "type": "contourcarpet"
           }
          ],
          "heatmap": [
           {
            "colorbar": {
             "outlinewidth": 0,
             "ticks": ""
            },
            "colorscale": [
             [
              0,
              "#0d0887"
             ],
             [
              0.1111111111111111,
              "#46039f"
             ],
             [
              0.2222222222222222,
              "#7201a8"
             ],
             [
              0.3333333333333333,
              "#9c179e"
             ],
             [
              0.4444444444444444,
              "#bd3786"
             ],
             [
              0.5555555555555556,
              "#d8576b"
             ],
             [
              0.6666666666666666,
              "#ed7953"
             ],
             [
              0.7777777777777778,
              "#fb9f3a"
             ],
             [
              0.8888888888888888,
              "#fdca26"
             ],
             [
              1,
              "#f0f921"
             ]
            ],
            "type": "heatmap"
           }
          ],
          "histogram": [
           {
            "marker": {
             "pattern": {
              "fillmode": "overlay",
              "size": 10,
              "solidity": 0.2
             }
            },
            "type": "histogram"
           }
          ],
          "histogram2d": [
           {
            "colorbar": {
             "outlinewidth": 0,
             "ticks": ""
            },
            "colorscale": [
             [
              0,
              "#0d0887"
             ],
             [
              0.1111111111111111,
              "#46039f"
             ],
             [
              0.2222222222222222,
              "#7201a8"
             ],
             [
              0.3333333333333333,
              "#9c179e"
             ],
             [
              0.4444444444444444,
              "#bd3786"
             ],
             [
              0.5555555555555556,
              "#d8576b"
             ],
             [
              0.6666666666666666,
              "#ed7953"
             ],
             [
              0.7777777777777778,
              "#fb9f3a"
             ],
             [
              0.8888888888888888,
              "#fdca26"
             ],
             [
              1,
              "#f0f921"
             ]
            ],
            "type": "histogram2d"
           }
          ],
          "histogram2dcontour": [
           {
            "colorbar": {
             "outlinewidth": 0,
             "ticks": ""
            },
            "colorscale": [
             [
              0,
              "#0d0887"
             ],
             [
              0.1111111111111111,
              "#46039f"
             ],
             [
              0.2222222222222222,
              "#7201a8"
             ],
             [
              0.3333333333333333,
              "#9c179e"
             ],
             [
              0.4444444444444444,
              "#bd3786"
             ],
             [
              0.5555555555555556,
              "#d8576b"
             ],
             [
              0.6666666666666666,
              "#ed7953"
             ],
             [
              0.7777777777777778,
              "#fb9f3a"
             ],
             [
              0.8888888888888888,
              "#fdca26"
             ],
             [
              1,
              "#f0f921"
             ]
            ],
            "type": "histogram2dcontour"
           }
          ],
          "mesh3d": [
           {
            "colorbar": {
             "outlinewidth": 0,
             "ticks": ""
            },
            "type": "mesh3d"
           }
          ],
          "parcoords": [
           {
            "line": {
             "colorbar": {
              "outlinewidth": 0,
              "ticks": ""
             }
            },
            "type": "parcoords"
           }
          ],
          "pie": [
           {
            "automargin": true,
            "type": "pie"
           }
          ],
          "scatter": [
           {
            "fillpattern": {
             "fillmode": "overlay",
             "size": 10,
             "solidity": 0.2
            },
            "type": "scatter"
           }
          ],
          "scatter3d": [
           {
            "line": {
             "colorbar": {
              "outlinewidth": 0,
              "ticks": ""
             }
            },
            "marker": {
             "colorbar": {
              "outlinewidth": 0,
              "ticks": ""
             }
            },
            "type": "scatter3d"
           }
          ],
          "scattercarpet": [
           {
            "marker": {
             "colorbar": {
              "outlinewidth": 0,
              "ticks": ""
             }
            },
            "type": "scattercarpet"
           }
          ],
          "scattergeo": [
           {
            "marker": {
             "colorbar": {
              "outlinewidth": 0,
              "ticks": ""
             }
            },
            "type": "scattergeo"
           }
          ],
          "scattergl": [
           {
            "marker": {
             "colorbar": {
              "outlinewidth": 0,
              "ticks": ""
             }
            },
            "type": "scattergl"
           }
          ],
          "scattermap": [
           {
            "marker": {
             "colorbar": {
              "outlinewidth": 0,
              "ticks": ""
             }
            },
            "type": "scattermap"
           }
          ],
          "scattermapbox": [
           {
            "marker": {
             "colorbar": {
              "outlinewidth": 0,
              "ticks": ""
             }
            },
            "type": "scattermapbox"
           }
          ],
          "scatterpolar": [
           {
            "marker": {
             "colorbar": {
              "outlinewidth": 0,
              "ticks": ""
             }
            },
            "type": "scatterpolar"
           }
          ],
          "scatterpolargl": [
           {
            "marker": {
             "colorbar": {
              "outlinewidth": 0,
              "ticks": ""
             }
            },
            "type": "scatterpolargl"
           }
          ],
          "scatterternary": [
           {
            "marker": {
             "colorbar": {
              "outlinewidth": 0,
              "ticks": ""
             }
            },
            "type": "scatterternary"
           }
          ],
          "surface": [
           {
            "colorbar": {
             "outlinewidth": 0,
             "ticks": ""
            },
            "colorscale": [
             [
              0,
              "#0d0887"
             ],
             [
              0.1111111111111111,
              "#46039f"
             ],
             [
              0.2222222222222222,
              "#7201a8"
             ],
             [
              0.3333333333333333,
              "#9c179e"
             ],
             [
              0.4444444444444444,
              "#bd3786"
             ],
             [
              0.5555555555555556,
              "#d8576b"
             ],
             [
              0.6666666666666666,
              "#ed7953"
             ],
             [
              0.7777777777777778,
              "#fb9f3a"
             ],
             [
              0.8888888888888888,
              "#fdca26"
             ],
             [
              1,
              "#f0f921"
             ]
            ],
            "type": "surface"
           }
          ],
          "table": [
           {
            "cells": {
             "fill": {
              "color": "#EBF0F8"
             },
             "line": {
              "color": "white"
             }
            },
            "header": {
             "fill": {
              "color": "#C8D4E3"
             },
             "line": {
              "color": "white"
             }
            },
            "type": "table"
           }
          ]
         },
         "layout": {
          "annotationdefaults": {
           "arrowcolor": "#2a3f5f",
           "arrowhead": 0,
           "arrowwidth": 1
          },
          "autotypenumbers": "strict",
          "coloraxis": {
           "colorbar": {
            "outlinewidth": 0,
            "ticks": ""
           }
          },
          "colorscale": {
           "diverging": [
            [
             0,
             "#8e0152"
            ],
            [
             0.1,
             "#c51b7d"
            ],
            [
             0.2,
             "#de77ae"
            ],
            [
             0.3,
             "#f1b6da"
            ],
            [
             0.4,
             "#fde0ef"
            ],
            [
             0.5,
             "#f7f7f7"
            ],
            [
             0.6,
             "#e6f5d0"
            ],
            [
             0.7,
             "#b8e186"
            ],
            [
             0.8,
             "#7fbc41"
            ],
            [
             0.9,
             "#4d9221"
            ],
            [
             1,
             "#276419"
            ]
           ],
           "sequential": [
            [
             0,
             "#0d0887"
            ],
            [
             0.1111111111111111,
             "#46039f"
            ],
            [
             0.2222222222222222,
             "#7201a8"
            ],
            [
             0.3333333333333333,
             "#9c179e"
            ],
            [
             0.4444444444444444,
             "#bd3786"
            ],
            [
             0.5555555555555556,
             "#d8576b"
            ],
            [
             0.6666666666666666,
             "#ed7953"
            ],
            [
             0.7777777777777778,
             "#fb9f3a"
            ],
            [
             0.8888888888888888,
             "#fdca26"
            ],
            [
             1,
             "#f0f921"
            ]
           ],
           "sequentialminus": [
            [
             0,
             "#0d0887"
            ],
            [
             0.1111111111111111,
             "#46039f"
            ],
            [
             0.2222222222222222,
             "#7201a8"
            ],
            [
             0.3333333333333333,
             "#9c179e"
            ],
            [
             0.4444444444444444,
             "#bd3786"
            ],
            [
             0.5555555555555556,
             "#d8576b"
            ],
            [
             0.6666666666666666,
             "#ed7953"
            ],
            [
             0.7777777777777778,
             "#fb9f3a"
            ],
            [
             0.8888888888888888,
             "#fdca26"
            ],
            [
             1,
             "#f0f921"
            ]
           ]
          },
          "colorway": [
           "#636efa",
           "#EF553B",
           "#00cc96",
           "#ab63fa",
           "#FFA15A",
           "#19d3f3",
           "#FF6692",
           "#B6E880",
           "#FF97FF",
           "#FECB52"
          ],
          "font": {
           "color": "#2a3f5f"
          },
          "geo": {
           "bgcolor": "white",
           "lakecolor": "white",
           "landcolor": "#E5ECF6",
           "showlakes": true,
           "showland": true,
           "subunitcolor": "white"
          },
          "hoverlabel": {
           "align": "left"
          },
          "hovermode": "closest",
          "mapbox": {
           "style": "light"
          },
          "paper_bgcolor": "white",
          "plot_bgcolor": "#E5ECF6",
          "polar": {
           "angularaxis": {
            "gridcolor": "white",
            "linecolor": "white",
            "ticks": ""
           },
           "bgcolor": "#E5ECF6",
           "radialaxis": {
            "gridcolor": "white",
            "linecolor": "white",
            "ticks": ""
           }
          },
          "scene": {
           "xaxis": {
            "backgroundcolor": "#E5ECF6",
            "gridcolor": "white",
            "gridwidth": 2,
            "linecolor": "white",
            "showbackground": true,
            "ticks": "",
            "zerolinecolor": "white"
           },
           "yaxis": {
            "backgroundcolor": "#E5ECF6",
            "gridcolor": "white",
            "gridwidth": 2,
            "linecolor": "white",
            "showbackground": true,
            "ticks": "",
            "zerolinecolor": "white"
           },
           "zaxis": {
            "backgroundcolor": "#E5ECF6",
            "gridcolor": "white",
            "gridwidth": 2,
            "linecolor": "white",
            "showbackground": true,
            "ticks": "",
            "zerolinecolor": "white"
           }
          },
          "shapedefaults": {
           "line": {
            "color": "#2a3f5f"
           }
          },
          "ternary": {
           "aaxis": {
            "gridcolor": "white",
            "linecolor": "white",
            "ticks": ""
           },
           "baxis": {
            "gridcolor": "white",
            "linecolor": "white",
            "ticks": ""
           },
           "bgcolor": "#E5ECF6",
           "caxis": {
            "gridcolor": "white",
            "linecolor": "white",
            "ticks": ""
           }
          },
          "title": {
           "x": 0.05
          },
          "xaxis": {
           "automargin": true,
           "gridcolor": "white",
           "linecolor": "white",
           "ticks": "",
           "title": {
            "standoff": 15
           },
           "zerolinecolor": "white",
           "zerolinewidth": 2
          },
          "yaxis": {
           "automargin": true,
           "gridcolor": "white",
           "linecolor": "white",
           "ticks": "",
           "title": {
            "standoff": 15
           },
           "zerolinecolor": "white",
           "zerolinewidth": 2
          }
         }
        },
        "title": {
         "text": "Distribution of 'value'"
        },
        "xaxis": {
         "anchor": "y",
         "domain": [
          0,
          1
         ],
         "title": {
          "text": "value"
         }
        },
        "yaxis": {
         "anchor": "x",
         "domain": [
          0,
          1
         ],
         "title": {
          "text": "count"
         }
        }
       }
      }
     },
     "metadata": {},
     "output_type": "display_data"
    },
    {
     "name": "stdout",
     "output_type": "stream",
     "text": [
      "Skewness:\n",
      " value              3.258963\n",
      "pch_sm            42.015470\n",
      "pch_sm_19          6.888055\n",
      "pch_sm_12         11.163184\n",
      "Monat              0.048386\n",
      "Jahr               0.014674\n",
      "Month_cycl_sin    -0.052989\n",
      "Month_cycl_cos     0.009025\n",
      "MA3                3.184934\n",
      "MA6                3.050153\n",
      "MA12               2.960483\n",
      "Lag_1              3.277977\n",
      "Lag_3              3.304866\n",
      "Lag_12             3.424428\n",
      "dtype: float64\n"
     ]
    },
    {
     "data": {
      "application/vnd.plotly.v1+json": {
       "config": {
        "plotlyServerURL": "https://plot.ly"
       },
       "data": [
        {
         "hovertemplate": "Saison=%{x}<br>proportion=%{y}<extra></extra>",
         "legendgroup": "",
         "marker": {
          "color": "#636efa",
          "pattern": {
           "shape": ""
          }
         },
         "name": "",
         "orientation": "v",
         "showlegend": false,
         "textposition": "auto",
         "type": "bar",
         "x": [
          "Frühling",
          "Winter",
          "Sommer",
          "Herbst"
         ],
         "xaxis": "x",
         "y": {
          "bdata": "bgY/chSW0D93+ZUF5zDQPxIN1PQxns8/JPOBG9fTzj8=",
          "dtype": "f8"
         },
         "yaxis": "y"
        }
       ],
       "layout": {
        "barmode": "relative",
        "legend": {
         "tracegroupgap": 0
        },
        "template": {
         "data": {
          "bar": [
           {
            "error_x": {
             "color": "#2a3f5f"
            },
            "error_y": {
             "color": "#2a3f5f"
            },
            "marker": {
             "line": {
              "color": "#E5ECF6",
              "width": 0.5
             },
             "pattern": {
              "fillmode": "overlay",
              "size": 10,
              "solidity": 0.2
             }
            },
            "type": "bar"
           }
          ],
          "barpolar": [
           {
            "marker": {
             "line": {
              "color": "#E5ECF6",
              "width": 0.5
             },
             "pattern": {
              "fillmode": "overlay",
              "size": 10,
              "solidity": 0.2
             }
            },
            "type": "barpolar"
           }
          ],
          "carpet": [
           {
            "aaxis": {
             "endlinecolor": "#2a3f5f",
             "gridcolor": "white",
             "linecolor": "white",
             "minorgridcolor": "white",
             "startlinecolor": "#2a3f5f"
            },
            "baxis": {
             "endlinecolor": "#2a3f5f",
             "gridcolor": "white",
             "linecolor": "white",
             "minorgridcolor": "white",
             "startlinecolor": "#2a3f5f"
            },
            "type": "carpet"
           }
          ],
          "choropleth": [
           {
            "colorbar": {
             "outlinewidth": 0,
             "ticks": ""
            },
            "type": "choropleth"
           }
          ],
          "contour": [
           {
            "colorbar": {
             "outlinewidth": 0,
             "ticks": ""
            },
            "colorscale": [
             [
              0,
              "#0d0887"
             ],
             [
              0.1111111111111111,
              "#46039f"
             ],
             [
              0.2222222222222222,
              "#7201a8"
             ],
             [
              0.3333333333333333,
              "#9c179e"
             ],
             [
              0.4444444444444444,
              "#bd3786"
             ],
             [
              0.5555555555555556,
              "#d8576b"
             ],
             [
              0.6666666666666666,
              "#ed7953"
             ],
             [
              0.7777777777777778,
              "#fb9f3a"
             ],
             [
              0.8888888888888888,
              "#fdca26"
             ],
             [
              1,
              "#f0f921"
             ]
            ],
            "type": "contour"
           }
          ],
          "contourcarpet": [
           {
            "colorbar": {
             "outlinewidth": 0,
             "ticks": ""
            },
            "type": "contourcarpet"
           }
          ],
          "heatmap": [
           {
            "colorbar": {
             "outlinewidth": 0,
             "ticks": ""
            },
            "colorscale": [
             [
              0,
              "#0d0887"
             ],
             [
              0.1111111111111111,
              "#46039f"
             ],
             [
              0.2222222222222222,
              "#7201a8"
             ],
             [
              0.3333333333333333,
              "#9c179e"
             ],
             [
              0.4444444444444444,
              "#bd3786"
             ],
             [
              0.5555555555555556,
              "#d8576b"
             ],
             [
              0.6666666666666666,
              "#ed7953"
             ],
             [
              0.7777777777777778,
              "#fb9f3a"
             ],
             [
              0.8888888888888888,
              "#fdca26"
             ],
             [
              1,
              "#f0f921"
             ]
            ],
            "type": "heatmap"
           }
          ],
          "histogram": [
           {
            "marker": {
             "pattern": {
              "fillmode": "overlay",
              "size": 10,
              "solidity": 0.2
             }
            },
            "type": "histogram"
           }
          ],
          "histogram2d": [
           {
            "colorbar": {
             "outlinewidth": 0,
             "ticks": ""
            },
            "colorscale": [
             [
              0,
              "#0d0887"
             ],
             [
              0.1111111111111111,
              "#46039f"
             ],
             [
              0.2222222222222222,
              "#7201a8"
             ],
             [
              0.3333333333333333,
              "#9c179e"
             ],
             [
              0.4444444444444444,
              "#bd3786"
             ],
             [
              0.5555555555555556,
              "#d8576b"
             ],
             [
              0.6666666666666666,
              "#ed7953"
             ],
             [
              0.7777777777777778,
              "#fb9f3a"
             ],
             [
              0.8888888888888888,
              "#fdca26"
             ],
             [
              1,
              "#f0f921"
             ]
            ],
            "type": "histogram2d"
           }
          ],
          "histogram2dcontour": [
           {
            "colorbar": {
             "outlinewidth": 0,
             "ticks": ""
            },
            "colorscale": [
             [
              0,
              "#0d0887"
             ],
             [
              0.1111111111111111,
              "#46039f"
             ],
             [
              0.2222222222222222,
              "#7201a8"
             ],
             [
              0.3333333333333333,
              "#9c179e"
             ],
             [
              0.4444444444444444,
              "#bd3786"
             ],
             [
              0.5555555555555556,
              "#d8576b"
             ],
             [
              0.6666666666666666,
              "#ed7953"
             ],
             [
              0.7777777777777778,
              "#fb9f3a"
             ],
             [
              0.8888888888888888,
              "#fdca26"
             ],
             [
              1,
              "#f0f921"
             ]
            ],
            "type": "histogram2dcontour"
           }
          ],
          "mesh3d": [
           {
            "colorbar": {
             "outlinewidth": 0,
             "ticks": ""
            },
            "type": "mesh3d"
           }
          ],
          "parcoords": [
           {
            "line": {
             "colorbar": {
              "outlinewidth": 0,
              "ticks": ""
             }
            },
            "type": "parcoords"
           }
          ],
          "pie": [
           {
            "automargin": true,
            "type": "pie"
           }
          ],
          "scatter": [
           {
            "fillpattern": {
             "fillmode": "overlay",
             "size": 10,
             "solidity": 0.2
            },
            "type": "scatter"
           }
          ],
          "scatter3d": [
           {
            "line": {
             "colorbar": {
              "outlinewidth": 0,
              "ticks": ""
             }
            },
            "marker": {
             "colorbar": {
              "outlinewidth": 0,
              "ticks": ""
             }
            },
            "type": "scatter3d"
           }
          ],
          "scattercarpet": [
           {
            "marker": {
             "colorbar": {
              "outlinewidth": 0,
              "ticks": ""
             }
            },
            "type": "scattercarpet"
           }
          ],
          "scattergeo": [
           {
            "marker": {
             "colorbar": {
              "outlinewidth": 0,
              "ticks": ""
             }
            },
            "type": "scattergeo"
           }
          ],
          "scattergl": [
           {
            "marker": {
             "colorbar": {
              "outlinewidth": 0,
              "ticks": ""
             }
            },
            "type": "scattergl"
           }
          ],
          "scattermap": [
           {
            "marker": {
             "colorbar": {
              "outlinewidth": 0,
              "ticks": ""
             }
            },
            "type": "scattermap"
           }
          ],
          "scattermapbox": [
           {
            "marker": {
             "colorbar": {
              "outlinewidth": 0,
              "ticks": ""
             }
            },
            "type": "scattermapbox"
           }
          ],
          "scatterpolar": [
           {
            "marker": {
             "colorbar": {
              "outlinewidth": 0,
              "ticks": ""
             }
            },
            "type": "scatterpolar"
           }
          ],
          "scatterpolargl": [
           {
            "marker": {
             "colorbar": {
              "outlinewidth": 0,
              "ticks": ""
             }
            },
            "type": "scatterpolargl"
           }
          ],
          "scatterternary": [
           {
            "marker": {
             "colorbar": {
              "outlinewidth": 0,
              "ticks": ""
             }
            },
            "type": "scatterternary"
           }
          ],
          "surface": [
           {
            "colorbar": {
             "outlinewidth": 0,
             "ticks": ""
            },
            "colorscale": [
             [
              0,
              "#0d0887"
             ],
             [
              0.1111111111111111,
              "#46039f"
             ],
             [
              0.2222222222222222,
              "#7201a8"
             ],
             [
              0.3333333333333333,
              "#9c179e"
             ],
             [
              0.4444444444444444,
              "#bd3786"
             ],
             [
              0.5555555555555556,
              "#d8576b"
             ],
             [
              0.6666666666666666,
              "#ed7953"
             ],
             [
              0.7777777777777778,
              "#fb9f3a"
             ],
             [
              0.8888888888888888,
              "#fdca26"
             ],
             [
              1,
              "#f0f921"
             ]
            ],
            "type": "surface"
           }
          ],
          "table": [
           {
            "cells": {
             "fill": {
              "color": "#EBF0F8"
             },
             "line": {
              "color": "white"
             }
            },
            "header": {
             "fill": {
              "color": "#C8D4E3"
             },
             "line": {
              "color": "white"
             }
            },
            "type": "table"
           }
          ]
         },
         "layout": {
          "annotationdefaults": {
           "arrowcolor": "#2a3f5f",
           "arrowhead": 0,
           "arrowwidth": 1
          },
          "autotypenumbers": "strict",
          "coloraxis": {
           "colorbar": {
            "outlinewidth": 0,
            "ticks": ""
           }
          },
          "colorscale": {
           "diverging": [
            [
             0,
             "#8e0152"
            ],
            [
             0.1,
             "#c51b7d"
            ],
            [
             0.2,
             "#de77ae"
            ],
            [
             0.3,
             "#f1b6da"
            ],
            [
             0.4,
             "#fde0ef"
            ],
            [
             0.5,
             "#f7f7f7"
            ],
            [
             0.6,
             "#e6f5d0"
            ],
            [
             0.7,
             "#b8e186"
            ],
            [
             0.8,
             "#7fbc41"
            ],
            [
             0.9,
             "#4d9221"
            ],
            [
             1,
             "#276419"
            ]
           ],
           "sequential": [
            [
             0,
             "#0d0887"
            ],
            [
             0.1111111111111111,
             "#46039f"
            ],
            [
             0.2222222222222222,
             "#7201a8"
            ],
            [
             0.3333333333333333,
             "#9c179e"
            ],
            [
             0.4444444444444444,
             "#bd3786"
            ],
            [
             0.5555555555555556,
             "#d8576b"
            ],
            [
             0.6666666666666666,
             "#ed7953"
            ],
            [
             0.7777777777777778,
             "#fb9f3a"
            ],
            [
             0.8888888888888888,
             "#fdca26"
            ],
            [
             1,
             "#f0f921"
            ]
           ],
           "sequentialminus": [
            [
             0,
             "#0d0887"
            ],
            [
             0.1111111111111111,
             "#46039f"
            ],
            [
             0.2222222222222222,
             "#7201a8"
            ],
            [
             0.3333333333333333,
             "#9c179e"
            ],
            [
             0.4444444444444444,
             "#bd3786"
            ],
            [
             0.5555555555555556,
             "#d8576b"
            ],
            [
             0.6666666666666666,
             "#ed7953"
            ],
            [
             0.7777777777777778,
             "#fb9f3a"
            ],
            [
             0.8888888888888888,
             "#fdca26"
            ],
            [
             1,
             "#f0f921"
            ]
           ]
          },
          "colorway": [
           "#636efa",
           "#EF553B",
           "#00cc96",
           "#ab63fa",
           "#FFA15A",
           "#19d3f3",
           "#FF6692",
           "#B6E880",
           "#FF97FF",
           "#FECB52"
          ],
          "font": {
           "color": "#2a3f5f"
          },
          "geo": {
           "bgcolor": "white",
           "lakecolor": "white",
           "landcolor": "#E5ECF6",
           "showlakes": true,
           "showland": true,
           "subunitcolor": "white"
          },
          "hoverlabel": {
           "align": "left"
          },
          "hovermode": "closest",
          "mapbox": {
           "style": "light"
          },
          "paper_bgcolor": "white",
          "plot_bgcolor": "#E5ECF6",
          "polar": {
           "angularaxis": {
            "gridcolor": "white",
            "linecolor": "white",
            "ticks": ""
           },
           "bgcolor": "#E5ECF6",
           "radialaxis": {
            "gridcolor": "white",
            "linecolor": "white",
            "ticks": ""
           }
          },
          "scene": {
           "xaxis": {
            "backgroundcolor": "#E5ECF6",
            "gridcolor": "white",
            "gridwidth": 2,
            "linecolor": "white",
            "showbackground": true,
            "ticks": "",
            "zerolinecolor": "white"
           },
           "yaxis": {
            "backgroundcolor": "#E5ECF6",
            "gridcolor": "white",
            "gridwidth": 2,
            "linecolor": "white",
            "showbackground": true,
            "ticks": "",
            "zerolinecolor": "white"
           },
           "zaxis": {
            "backgroundcolor": "#E5ECF6",
            "gridcolor": "white",
            "gridwidth": 2,
            "linecolor": "white",
            "showbackground": true,
            "ticks": "",
            "zerolinecolor": "white"
           }
          },
          "shapedefaults": {
           "line": {
            "color": "#2a3f5f"
           }
          },
          "ternary": {
           "aaxis": {
            "gridcolor": "white",
            "linecolor": "white",
            "ticks": ""
           },
           "baxis": {
            "gridcolor": "white",
            "linecolor": "white",
            "ticks": ""
           },
           "bgcolor": "#E5ECF6",
           "caxis": {
            "gridcolor": "white",
            "linecolor": "white",
            "ticks": ""
           }
          },
          "title": {
           "x": 0.05
          },
          "xaxis": {
           "automargin": true,
           "gridcolor": "white",
           "linecolor": "white",
           "ticks": "",
           "title": {
            "standoff": 15
           },
           "zerolinecolor": "white",
           "zerolinewidth": 2
          },
          "yaxis": {
           "automargin": true,
           "gridcolor": "white",
           "linecolor": "white",
           "ticks": "",
           "title": {
            "standoff": 15
           },
           "zerolinecolor": "white",
           "zerolinewidth": 2
          }
         }
        },
        "title": {
         "text": "Normalized distribution of Saison"
        },
        "xaxis": {
         "anchor": "y",
         "domain": [
          0,
          1
         ],
         "title": {
          "text": "Saison"
         }
        },
        "yaxis": {
         "anchor": "x",
         "domain": [
          0,
          1
         ],
         "title": {
          "text": "proportion"
         }
        }
       }
      }
     },
     "metadata": {},
     "output_type": "display_data"
    }
   ],
   "source": [
    "import plotly.express as px\n",
    "\n",
    "# 1. Value distribution (numeric features)\n",
    "fig1 = px.histogram(df_anzahl, x=\"value\", nbins=50, title=\"Distribution of 'value'\")\n",
    "fig1.show()\n",
    "\n",
    "# 2. Skewness check (loop numeric cols)\n",
    "numeric_cols = [\n",
    "    \"value\",\"pch_sm\",\"pch_sm_19\",\"pch_sm_12\",\"Monat\",\"Jahr\",\n",
    "    \"Month_cycl_sin\",\"Month_cycl_cos\",\"MA3\",\"MA6\",\"MA12\",\n",
    "    \"Lag_1\",\"Lag_3\",\"Lag_12\"\n",
    "]\n",
    "skewness = df_anzahl[numeric_cols].skew()\n",
    "print(\"Skewness:\\n\", skewness)\n",
    "\n",
    "# 3. Category distribution normalized (example: Saison)\n",
    "cat_col = \"Saison\"\n",
    "cat_counts = df_anzahl[cat_col].value_counts(normalize=True).reset_index()\n",
    "cat_counts.columns = [cat_col, \"proportion\"]\n",
    "\n",
    "fig2 = px.bar(cat_counts, x=cat_col, y=\"proportion\", title=f\"Normalized distribution of {cat_col}\")\n",
    "fig2.show()\n"
   ]
  }
 ],
 "metadata": {
  "kernelspec": {
   "display_name": ".venv",
   "language": "python",
   "name": "python3"
  },
  "language_info": {
   "codemirror_mode": {
    "name": "ipython",
    "version": 3
   },
   "file_extension": ".py",
   "mimetype": "text/x-python",
   "name": "python",
   "nbconvert_exporter": "python",
   "pygments_lexer": "ipython3",
   "version": "3.13.2"
  }
 },
 "nbformat": 4,
 "nbformat_minor": 5
}
